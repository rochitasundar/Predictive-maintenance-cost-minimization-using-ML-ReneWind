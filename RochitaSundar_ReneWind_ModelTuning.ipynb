{
 "cells": [
  {
   "cell_type": "markdown",
   "metadata": {
    "id": "YTfbltWs4jaf"
   },
   "source": [
    "# ReneWind\n",
    "\n",
    "Renewable energy sources play an increasingly important role in the global energy mix, as the effort to reduce the environmental impact of energy production increases.\n",
    "\n",
    "Out of all the renewable energy alternatives, wind energy is one of the most developed technologies worldwide. The U.S Department of Energy has put together a guide to achieving operational efficiency using predictive maintenance practices.\n",
    "\n",
    "Predictive maintenance uses sensor information and analysis methods to measure and predict degradation and future component capability. The idea behind predictive maintenance is that failure patterns are predictable and if component failure can be predicted accurately and the component is replaced before it fails, the costs of operation and maintenance will be much lower.\n",
    "\n",
    "The sensors fitted across different machines involved in the process of energy generation collect data related to various environmental factors (temperature, humidity, wind speed, etc.) and additional features related to various parts of the wind turbine (gearbox, tower, blades, break, etc.). \n",
    "\n",
    "\n",
    "\n",
    "## Objective\n",
    "“ReneWind” is a company working on improving the machinery/processes involved in the production of wind energy using machine learning and has collected data of generator failure of wind turbines using sensors. They have shared a ciphered version of the data, as the data collected through sensors is confidential (the type of data collected varies with companies). Data has 40 predictors, 40000 observations in the training set and 10000 in the test set.\n",
    "\n",
    "The objective is to build various classification models, tune them and find the best one that will help identify failures so that the generator could be repaired before failing/breaking and the overall maintenance cost of the generators can be brought down. \n",
    "\n",
    "“1” in the target variables should be considered as “failure” and “0” will represent “No failure”.\n",
    "\n",
    "The nature of predictions made by the classification model will translate as follows:\n",
    "\n",
    "- True positives (TP) are failures correctly predicted by the model.\n",
    "- False negatives (FN) are real failures in a wind turbine where there is no detection by model. \n",
    "- False positives (FP) are detections in a wind turbine where there is no failure. \n",
    "\n",
    "So, the maintenance cost associated with the model would be:\n",
    "\n",
    "**Maintenance cost** = `TP*(Repair cost) + FN*(Replacement cost) + FP*(Inspection cost)`\n",
    "where,\n",
    "\n",
    "- `Replacement cost = $40,000`\n",
    "- `Repair cost = $15,000`\n",
    "- `Inspection cost = $5,000`\n",
    "\n",
    "Here the objective is to reduce the maintenance cost so, we want a metric that could reduce the maintenance cost.\n",
    "\n",
    "- The minimum possible maintenance cost  =  `Actual failures*(Repair cost) = (TP + FN)*(Repair cost)`\n",
    "- The maintenance cost associated with model = `TP*(Repair cost) + FN*(Replacement cost) + FP*(Inspection cost)`\n",
    "\n",
    "So, we will try to maximize the ratio of minimum possible maintenance cost and the maintenance cost associated with the model.\n",
    "\n",
    "The value of this ratio will lie between 0 and 1, the ratio will be 1 only when the maintenance cost associated with the model will be equal to the minimum possible maintenance cost.\n",
    "\n",
    "## Data Description\n",
    "- The data provided is a transformed version of original data which was collected using sensors.\n",
    "- Train.csv - To be used for training and tuning of models. \n",
    "- Test.csv - To be used only for testing the performance of the final best model.\n",
    "- Both the datasets consist of 40 predictor variables and 1 target variable"
   ]
  },
  {
   "cell_type": "markdown",
   "metadata": {
    "id": "jjFpJBnb4jak"
   },
   "source": [
    "## Importing libraries"
   ]
  },
  {
   "cell_type": "code",
   "execution_count": 1,
   "metadata": {},
   "outputs": [],
   "source": [
    "# !pip install nb-black"
   ]
  },
  {
   "cell_type": "code",
   "execution_count": 2,
   "metadata": {},
   "outputs": [],
   "source": [
    "# !pip install imblearn"
   ]
  },
  {
   "cell_type": "code",
   "execution_count": 3,
   "metadata": {
    "id": "83D17_Wl4jal"
   },
   "outputs": [
    {
     "data": {
      "application/javascript": [
       "\n",
       "            setTimeout(function() {\n",
       "                var nbb_cell_id = 3;\n",
       "                var nbb_unformatted_code = \"# To help with reading and manipulating data\\nimport pandas as pd\\nimport numpy as np\\n\\n# To help with data visualization\\n%matplotlib inline\\nimport matplotlib.pyplot as plt\\nimport seaborn as sns\\n\\n# To be used for missing value imputation\\nfrom sklearn.impute import SimpleImputer\\n\\n# To help with model building\\nfrom sklearn.linear_model import LogisticRegression\\nfrom sklearn.tree import DecisionTreeClassifier\\nfrom sklearn.ensemble import (\\n    AdaBoostClassifier,\\n    GradientBoostingClassifier,\\n    RandomForestClassifier,\\n    BaggingClassifier,\\n)\\nfrom xgboost import XGBClassifier\\n\\n# To get different metric scores, and split data\\nfrom sklearn import metrics\\nfrom sklearn.model_selection import train_test_split, StratifiedKFold, cross_val_score\\nfrom sklearn.metrics import (\\n    f1_score,\\n    accuracy_score,\\n    recall_score,\\n    precision_score,\\n    confusion_matrix,\\n    roc_auc_score,\\n    plot_confusion_matrix,\\n)\\n\\n# To oversample and undersample data\\nfrom imblearn.over_sampling import SMOTE\\nfrom imblearn.under_sampling import RandomUnderSampler\\n\\n# To be used for data scaling and one hot encoding\\nfrom sklearn.preprocessing import StandardScaler, MinMaxScaler, OneHotEncoder\\n\\n# To be used for tuning the model\\nfrom sklearn.model_selection import GridSearchCV, RandomizedSearchCV\\n\\n# To use statistical functions\\nimport scipy.stats as stats\\n\\n# To be used for creating pipelines and personalizing them\\nfrom sklearn.pipeline import Pipeline\\nfrom sklearn.compose import ColumnTransformer\\n\\n# To define maximum number of columns to be displayed in a dataframe\\npd.set_option(\\\"display.max_columns\\\", None)\\n\\n# To supress scientific notations for a dataframe\\npd.set_option(\\\"display.float_format\\\", lambda x: \\\"%.3f\\\" % x)\\n\\n# To supress warnings\\nimport warnings\\n\\nwarnings.filterwarnings(\\\"ignore\\\")\\n\\n# This will help in making the Python code more structured automatically (good coding practice)\\n%load_ext nb_black\";\n",
       "                var nbb_formatted_code = \"# To help with reading and manipulating data\\nimport pandas as pd\\nimport numpy as np\\n\\n# To help with data visualization\\n%matplotlib inline\\nimport matplotlib.pyplot as plt\\nimport seaborn as sns\\n\\n# To be used for missing value imputation\\nfrom sklearn.impute import SimpleImputer\\n\\n# To help with model building\\nfrom sklearn.linear_model import LogisticRegression\\nfrom sklearn.tree import DecisionTreeClassifier\\nfrom sklearn.ensemble import (\\n    AdaBoostClassifier,\\n    GradientBoostingClassifier,\\n    RandomForestClassifier,\\n    BaggingClassifier,\\n)\\nfrom xgboost import XGBClassifier\\n\\n# To get different metric scores, and split data\\nfrom sklearn import metrics\\nfrom sklearn.model_selection import train_test_split, StratifiedKFold, cross_val_score\\nfrom sklearn.metrics import (\\n    f1_score,\\n    accuracy_score,\\n    recall_score,\\n    precision_score,\\n    confusion_matrix,\\n    roc_auc_score,\\n    plot_confusion_matrix,\\n)\\n\\n# To oversample and undersample data\\nfrom imblearn.over_sampling import SMOTE\\nfrom imblearn.under_sampling import RandomUnderSampler\\n\\n# To be used for data scaling and one hot encoding\\nfrom sklearn.preprocessing import StandardScaler, MinMaxScaler, OneHotEncoder\\n\\n# To be used for tuning the model\\nfrom sklearn.model_selection import GridSearchCV, RandomizedSearchCV\\n\\n# To use statistical functions\\nimport scipy.stats as stats\\n\\n# To be used for creating pipelines and personalizing them\\nfrom sklearn.pipeline import Pipeline\\nfrom sklearn.compose import ColumnTransformer\\n\\n# To define maximum number of columns to be displayed in a dataframe\\npd.set_option(\\\"display.max_columns\\\", None)\\n\\n# To supress scientific notations for a dataframe\\npd.set_option(\\\"display.float_format\\\", lambda x: \\\"%.3f\\\" % x)\\n\\n# To supress warnings\\nimport warnings\\n\\nwarnings.filterwarnings(\\\"ignore\\\")\\n\\n# This will help in making the Python code more structured automatically (good coding practice)\\n%load_ext nb_black\";\n",
       "                var nbb_cells = Jupyter.notebook.get_cells();\n",
       "                for (var i = 0; i < nbb_cells.length; ++i) {\n",
       "                    if (nbb_cells[i].input_prompt_number == nbb_cell_id) {\n",
       "                        if (nbb_cells[i].get_text() == nbb_unformatted_code) {\n",
       "                             nbb_cells[i].set_text(nbb_formatted_code);\n",
       "                        }\n",
       "                        break;\n",
       "                    }\n",
       "                }\n",
       "            }, 500);\n",
       "            "
      ],
      "text/plain": [
       "<IPython.core.display.Javascript object>"
      ]
     },
     "metadata": {},
     "output_type": "display_data"
    }
   ],
   "source": [
    "# To help with reading and manipulating data\n",
    "import pandas as pd\n",
    "import numpy as np\n",
    "\n",
    "# To help with data visualization\n",
    "%matplotlib inline\n",
    "import matplotlib.pyplot as plt\n",
    "import seaborn as sns\n",
    "\n",
    "# To be used for missing value imputation\n",
    "from sklearn.impute import SimpleImputer\n",
    "\n",
    "# To help with model building\n",
    "from sklearn.linear_model import LogisticRegression\n",
    "from sklearn.tree import DecisionTreeClassifier\n",
    "from sklearn.ensemble import (\n",
    "    AdaBoostClassifier,\n",
    "    GradientBoostingClassifier,\n",
    "    RandomForestClassifier,\n",
    "    BaggingClassifier,\n",
    ")\n",
    "from xgboost import XGBClassifier\n",
    "\n",
    "# To get different metric scores, and split data\n",
    "from sklearn import metrics\n",
    "from sklearn.model_selection import train_test_split, StratifiedKFold, cross_val_score\n",
    "from sklearn.metrics import (\n",
    "    f1_score,\n",
    "    accuracy_score,\n",
    "    recall_score,\n",
    "    precision_score,\n",
    "    confusion_matrix,\n",
    "    roc_auc_score,\n",
    "    plot_confusion_matrix,\n",
    ")\n",
    "\n",
    "# To oversample and undersample data\n",
    "from imblearn.over_sampling import SMOTE\n",
    "from imblearn.under_sampling import RandomUnderSampler\n",
    "\n",
    "# To be used for data scaling and one hot encoding\n",
    "from sklearn.preprocessing import StandardScaler, MinMaxScaler, OneHotEncoder\n",
    "\n",
    "# To be used for tuning the model\n",
    "from sklearn.model_selection import GridSearchCV, RandomizedSearchCV\n",
    "\n",
    "# To use statistical functions\n",
    "import scipy.stats as stats\n",
    "\n",
    "# To be used for creating pipelines and personalizing them\n",
    "from sklearn.pipeline import Pipeline\n",
    "from sklearn.compose import ColumnTransformer\n",
    "\n",
    "# To define maximum number of columns to be displayed in a dataframe\n",
    "pd.set_option(\"display.max_columns\", None)\n",
    "\n",
    "# To supress scientific notations for a dataframe\n",
    "pd.set_option(\"display.float_format\", lambda x: \"%.3f\" % x)\n",
    "\n",
    "# To supress warnings\n",
    "import warnings\n",
    "\n",
    "warnings.filterwarnings(\"ignore\")\n",
    "\n",
    "# This will help in making the Python code more structured automatically (good coding practice)\n",
    "%load_ext nb_black"
   ]
  },
  {
   "cell_type": "markdown",
   "metadata": {
    "id": "vqF4q7G94jam"
   },
   "source": [
    "## Loading Data"
   ]
  },
  {
   "cell_type": "code",
   "execution_count": 4,
   "metadata": {
    "id": "oJnKoHy14jam"
   },
   "outputs": [
    {
     "data": {
      "application/javascript": [
       "\n",
       "            setTimeout(function() {\n",
       "                var nbb_cell_id = 4;\n",
       "                var nbb_unformatted_code = \"# Loading the dataset\\ntrain = pd.read_csv(\\\"train.csv\\\")\";\n",
       "                var nbb_formatted_code = \"# Loading the dataset\\ntrain = pd.read_csv(\\\"train.csv\\\")\";\n",
       "                var nbb_cells = Jupyter.notebook.get_cells();\n",
       "                for (var i = 0; i < nbb_cells.length; ++i) {\n",
       "                    if (nbb_cells[i].input_prompt_number == nbb_cell_id) {\n",
       "                        if (nbb_cells[i].get_text() == nbb_unformatted_code) {\n",
       "                             nbb_cells[i].set_text(nbb_formatted_code);\n",
       "                        }\n",
       "                        break;\n",
       "                    }\n",
       "                }\n",
       "            }, 500);\n",
       "            "
      ],
      "text/plain": [
       "<IPython.core.display.Javascript object>"
      ]
     },
     "metadata": {},
     "output_type": "display_data"
    }
   ],
   "source": [
    "# Loading the dataset\n",
    "train = pd.read_csv(\"train.csv\")"
   ]
  },
  {
   "cell_type": "code",
   "execution_count": 5,
   "metadata": {},
   "outputs": [
    {
     "data": {
      "text/plain": [
       "(40000, 41)"
      ]
     },
     "execution_count": 5,
     "metadata": {},
     "output_type": "execute_result"
    },
    {
     "data": {
      "application/javascript": [
       "\n",
       "            setTimeout(function() {\n",
       "                var nbb_cell_id = 5;\n",
       "                var nbb_unformatted_code = \"# Checking the number of rows and columns in the data\\ntrain.shape\";\n",
       "                var nbb_formatted_code = \"# Checking the number of rows and columns in the data\\ntrain.shape\";\n",
       "                var nbb_cells = Jupyter.notebook.get_cells();\n",
       "                for (var i = 0; i < nbb_cells.length; ++i) {\n",
       "                    if (nbb_cells[i].input_prompt_number == nbb_cell_id) {\n",
       "                        if (nbb_cells[i].get_text() == nbb_unformatted_code) {\n",
       "                             nbb_cells[i].set_text(nbb_formatted_code);\n",
       "                        }\n",
       "                        break;\n",
       "                    }\n",
       "                }\n",
       "            }, 500);\n",
       "            "
      ],
      "text/plain": [
       "<IPython.core.display.Javascript object>"
      ]
     },
     "metadata": {},
     "output_type": "display_data"
    }
   ],
   "source": [
    "# Checking the number of rows and columns in the data\n",
    "train.shape"
   ]
  },
  {
   "cell_type": "markdown",
   "metadata": {},
   "source": [
    "- There are 40,000 rows and 41 attributes (including the predictor) in the dataset"
   ]
  },
  {
   "cell_type": "markdown",
   "metadata": {
    "id": "vqF4q7G94jam"
   },
   "source": [
    "## Data Overview"
   ]
  },
  {
   "cell_type": "code",
   "execution_count": 6,
   "metadata": {},
   "outputs": [
    {
     "data": {
      "application/javascript": [
       "\n",
       "            setTimeout(function() {\n",
       "                var nbb_cell_id = 6;\n",
       "                var nbb_unformatted_code = \"data = train.copy()\";\n",
       "                var nbb_formatted_code = \"data = train.copy()\";\n",
       "                var nbb_cells = Jupyter.notebook.get_cells();\n",
       "                for (var i = 0; i < nbb_cells.length; ++i) {\n",
       "                    if (nbb_cells[i].input_prompt_number == nbb_cell_id) {\n",
       "                        if (nbb_cells[i].get_text() == nbb_unformatted_code) {\n",
       "                             nbb_cells[i].set_text(nbb_formatted_code);\n",
       "                        }\n",
       "                        break;\n",
       "                    }\n",
       "                }\n",
       "            }, 500);\n",
       "            "
      ],
      "text/plain": [
       "<IPython.core.display.Javascript object>"
      ]
     },
     "metadata": {},
     "output_type": "display_data"
    }
   ],
   "source": [
    "data = train.copy()"
   ]
  },
  {
   "cell_type": "code",
   "execution_count": 7,
   "metadata": {},
   "outputs": [
    {
     "data": {
      "text/html": [
       "<div>\n",
       "<style scoped>\n",
       "    .dataframe tbody tr th:only-of-type {\n",
       "        vertical-align: middle;\n",
       "    }\n",
       "\n",
       "    .dataframe tbody tr th {\n",
       "        vertical-align: top;\n",
       "    }\n",
       "\n",
       "    .dataframe thead th {\n",
       "        text-align: right;\n",
       "    }\n",
       "</style>\n",
       "<table border=\"1\" class=\"dataframe\">\n",
       "  <thead>\n",
       "    <tr style=\"text-align: right;\">\n",
       "      <th></th>\n",
       "      <th>V1</th>\n",
       "      <th>V2</th>\n",
       "      <th>V3</th>\n",
       "      <th>V4</th>\n",
       "      <th>V5</th>\n",
       "      <th>V6</th>\n",
       "      <th>V7</th>\n",
       "      <th>V8</th>\n",
       "      <th>V9</th>\n",
       "      <th>V10</th>\n",
       "      <th>V11</th>\n",
       "      <th>V12</th>\n",
       "      <th>V13</th>\n",
       "      <th>V14</th>\n",
       "      <th>V15</th>\n",
       "      <th>V16</th>\n",
       "      <th>V17</th>\n",
       "      <th>V18</th>\n",
       "      <th>V19</th>\n",
       "      <th>V20</th>\n",
       "      <th>V21</th>\n",
       "      <th>V22</th>\n",
       "      <th>V23</th>\n",
       "      <th>V24</th>\n",
       "      <th>V25</th>\n",
       "      <th>V26</th>\n",
       "      <th>V27</th>\n",
       "      <th>V28</th>\n",
       "      <th>V29</th>\n",
       "      <th>V30</th>\n",
       "      <th>V31</th>\n",
       "      <th>V32</th>\n",
       "      <th>V33</th>\n",
       "      <th>V34</th>\n",
       "      <th>V35</th>\n",
       "      <th>V36</th>\n",
       "      <th>V37</th>\n",
       "      <th>V38</th>\n",
       "      <th>V39</th>\n",
       "      <th>V40</th>\n",
       "      <th>Target</th>\n",
       "    </tr>\n",
       "  </thead>\n",
       "  <tbody>\n",
       "    <tr>\n",
       "      <th>0</th>\n",
       "      <td>-4.465</td>\n",
       "      <td>-4.679</td>\n",
       "      <td>3.102</td>\n",
       "      <td>0.506</td>\n",
       "      <td>-0.221</td>\n",
       "      <td>-2.033</td>\n",
       "      <td>-2.911</td>\n",
       "      <td>0.051</td>\n",
       "      <td>-1.522</td>\n",
       "      <td>3.762</td>\n",
       "      <td>-5.715</td>\n",
       "      <td>0.736</td>\n",
       "      <td>0.981</td>\n",
       "      <td>1.418</td>\n",
       "      <td>-3.376</td>\n",
       "      <td>-3.047</td>\n",
       "      <td>0.306</td>\n",
       "      <td>2.914</td>\n",
       "      <td>2.270</td>\n",
       "      <td>4.395</td>\n",
       "      <td>-2.388</td>\n",
       "      <td>0.646</td>\n",
       "      <td>-1.191</td>\n",
       "      <td>3.133</td>\n",
       "      <td>0.665</td>\n",
       "      <td>-2.511</td>\n",
       "      <td>-0.037</td>\n",
       "      <td>0.726</td>\n",
       "      <td>-3.982</td>\n",
       "      <td>-1.073</td>\n",
       "      <td>1.667</td>\n",
       "      <td>3.060</td>\n",
       "      <td>-1.690</td>\n",
       "      <td>2.846</td>\n",
       "      <td>2.235</td>\n",
       "      <td>6.667</td>\n",
       "      <td>0.444</td>\n",
       "      <td>-2.369</td>\n",
       "      <td>2.951</td>\n",
       "      <td>-3.480</td>\n",
       "      <td>0</td>\n",
       "    </tr>\n",
       "    <tr>\n",
       "      <th>1</th>\n",
       "      <td>-2.910</td>\n",
       "      <td>-2.569</td>\n",
       "      <td>4.109</td>\n",
       "      <td>1.317</td>\n",
       "      <td>-1.621</td>\n",
       "      <td>-3.827</td>\n",
       "      <td>-1.617</td>\n",
       "      <td>0.669</td>\n",
       "      <td>0.387</td>\n",
       "      <td>0.854</td>\n",
       "      <td>-6.353</td>\n",
       "      <td>4.272</td>\n",
       "      <td>3.162</td>\n",
       "      <td>0.258</td>\n",
       "      <td>-3.547</td>\n",
       "      <td>-4.285</td>\n",
       "      <td>2.897</td>\n",
       "      <td>1.508</td>\n",
       "      <td>3.668</td>\n",
       "      <td>7.124</td>\n",
       "      <td>-4.096</td>\n",
       "      <td>1.015</td>\n",
       "      <td>-0.970</td>\n",
       "      <td>-0.968</td>\n",
       "      <td>2.064</td>\n",
       "      <td>-1.646</td>\n",
       "      <td>0.427</td>\n",
       "      <td>0.735</td>\n",
       "      <td>-4.470</td>\n",
       "      <td>-2.772</td>\n",
       "      <td>-2.505</td>\n",
       "      <td>-3.783</td>\n",
       "      <td>-6.823</td>\n",
       "      <td>4.909</td>\n",
       "      <td>0.482</td>\n",
       "      <td>5.338</td>\n",
       "      <td>2.381</td>\n",
       "      <td>-3.128</td>\n",
       "      <td>3.527</td>\n",
       "      <td>-3.020</td>\n",
       "      <td>0</td>\n",
       "    </tr>\n",
       "    <tr>\n",
       "      <th>2</th>\n",
       "      <td>4.284</td>\n",
       "      <td>5.105</td>\n",
       "      <td>6.092</td>\n",
       "      <td>2.640</td>\n",
       "      <td>-1.041</td>\n",
       "      <td>1.308</td>\n",
       "      <td>-1.876</td>\n",
       "      <td>-9.582</td>\n",
       "      <td>3.470</td>\n",
       "      <td>0.763</td>\n",
       "      <td>-2.573</td>\n",
       "      <td>-3.350</td>\n",
       "      <td>-0.595</td>\n",
       "      <td>-5.247</td>\n",
       "      <td>-4.310</td>\n",
       "      <td>-16.232</td>\n",
       "      <td>-1.000</td>\n",
       "      <td>2.318</td>\n",
       "      <td>5.942</td>\n",
       "      <td>-3.858</td>\n",
       "      <td>-11.599</td>\n",
       "      <td>4.021</td>\n",
       "      <td>-6.281</td>\n",
       "      <td>4.633</td>\n",
       "      <td>0.930</td>\n",
       "      <td>6.280</td>\n",
       "      <td>0.851</td>\n",
       "      <td>0.269</td>\n",
       "      <td>-2.206</td>\n",
       "      <td>-1.329</td>\n",
       "      <td>-2.399</td>\n",
       "      <td>-3.098</td>\n",
       "      <td>2.690</td>\n",
       "      <td>-1.643</td>\n",
       "      <td>7.566</td>\n",
       "      <td>-3.198</td>\n",
       "      <td>-3.496</td>\n",
       "      <td>8.105</td>\n",
       "      <td>0.562</td>\n",
       "      <td>-4.227</td>\n",
       "      <td>0</td>\n",
       "    </tr>\n",
       "    <tr>\n",
       "      <th>3</th>\n",
       "      <td>3.366</td>\n",
       "      <td>3.653</td>\n",
       "      <td>0.910</td>\n",
       "      <td>-1.368</td>\n",
       "      <td>0.332</td>\n",
       "      <td>2.359</td>\n",
       "      <td>0.733</td>\n",
       "      <td>-4.332</td>\n",
       "      <td>0.566</td>\n",
       "      <td>-0.101</td>\n",
       "      <td>1.914</td>\n",
       "      <td>-0.951</td>\n",
       "      <td>-1.255</td>\n",
       "      <td>-2.707</td>\n",
       "      <td>0.193</td>\n",
       "      <td>-4.769</td>\n",
       "      <td>-2.205</td>\n",
       "      <td>0.908</td>\n",
       "      <td>0.757</td>\n",
       "      <td>-5.834</td>\n",
       "      <td>-3.065</td>\n",
       "      <td>1.597</td>\n",
       "      <td>-1.757</td>\n",
       "      <td>1.766</td>\n",
       "      <td>-0.267</td>\n",
       "      <td>3.625</td>\n",
       "      <td>1.500</td>\n",
       "      <td>-0.586</td>\n",
       "      <td>0.783</td>\n",
       "      <td>-0.201</td>\n",
       "      <td>0.025</td>\n",
       "      <td>-1.795</td>\n",
       "      <td>3.033</td>\n",
       "      <td>-2.468</td>\n",
       "      <td>1.895</td>\n",
       "      <td>-2.298</td>\n",
       "      <td>-1.731</td>\n",
       "      <td>5.909</td>\n",
       "      <td>-0.386</td>\n",
       "      <td>0.616</td>\n",
       "      <td>0</td>\n",
       "    </tr>\n",
       "    <tr>\n",
       "      <th>4</th>\n",
       "      <td>-3.832</td>\n",
       "      <td>-5.824</td>\n",
       "      <td>0.634</td>\n",
       "      <td>-2.419</td>\n",
       "      <td>-1.774</td>\n",
       "      <td>1.017</td>\n",
       "      <td>-2.099</td>\n",
       "      <td>-3.173</td>\n",
       "      <td>-2.082</td>\n",
       "      <td>5.393</td>\n",
       "      <td>-0.771</td>\n",
       "      <td>1.107</td>\n",
       "      <td>1.144</td>\n",
       "      <td>0.943</td>\n",
       "      <td>-3.164</td>\n",
       "      <td>-4.248</td>\n",
       "      <td>-4.039</td>\n",
       "      <td>3.689</td>\n",
       "      <td>3.311</td>\n",
       "      <td>1.059</td>\n",
       "      <td>-2.143</td>\n",
       "      <td>1.650</td>\n",
       "      <td>-1.661</td>\n",
       "      <td>1.680</td>\n",
       "      <td>-0.451</td>\n",
       "      <td>-4.551</td>\n",
       "      <td>3.739</td>\n",
       "      <td>1.134</td>\n",
       "      <td>-2.034</td>\n",
       "      <td>0.841</td>\n",
       "      <td>-1.600</td>\n",
       "      <td>-0.257</td>\n",
       "      <td>0.804</td>\n",
       "      <td>4.086</td>\n",
       "      <td>2.292</td>\n",
       "      <td>5.361</td>\n",
       "      <td>0.352</td>\n",
       "      <td>2.940</td>\n",
       "      <td>3.839</td>\n",
       "      <td>-4.309</td>\n",
       "      <td>0</td>\n",
       "    </tr>\n",
       "  </tbody>\n",
       "</table>\n",
       "</div>"
      ],
      "text/plain": [
       "      V1     V2    V3     V4     V5     V6     V7     V8     V9    V10    V11  \\\n",
       "0 -4.465 -4.679 3.102  0.506 -0.221 -2.033 -2.911  0.051 -1.522  3.762 -5.715   \n",
       "1 -2.910 -2.569 4.109  1.317 -1.621 -3.827 -1.617  0.669  0.387  0.854 -6.353   \n",
       "2  4.284  5.105 6.092  2.640 -1.041  1.308 -1.876 -9.582  3.470  0.763 -2.573   \n",
       "3  3.366  3.653 0.910 -1.368  0.332  2.359  0.733 -4.332  0.566 -0.101  1.914   \n",
       "4 -3.832 -5.824 0.634 -2.419 -1.774  1.017 -2.099 -3.173 -2.082  5.393 -0.771   \n",
       "\n",
       "     V12    V13    V14    V15     V16    V17   V18   V19    V20     V21   V22  \\\n",
       "0  0.736  0.981  1.418 -3.376  -3.047  0.306 2.914 2.270  4.395  -2.388 0.646   \n",
       "1  4.272  3.162  0.258 -3.547  -4.285  2.897 1.508 3.668  7.124  -4.096 1.015   \n",
       "2 -3.350 -0.595 -5.247 -4.310 -16.232 -1.000 2.318 5.942 -3.858 -11.599 4.021   \n",
       "3 -0.951 -1.255 -2.707  0.193  -4.769 -2.205 0.908 0.757 -5.834  -3.065 1.597   \n",
       "4  1.107  1.144  0.943 -3.164  -4.248 -4.039 3.689 3.311  1.059  -2.143 1.650   \n",
       "\n",
       "     V23    V24    V25    V26    V27    V28    V29    V30    V31    V32  \\\n",
       "0 -1.191  3.133  0.665 -2.511 -0.037  0.726 -3.982 -1.073  1.667  3.060   \n",
       "1 -0.970 -0.968  2.064 -1.646  0.427  0.735 -4.470 -2.772 -2.505 -3.783   \n",
       "2 -6.281  4.633  0.930  6.280  0.851  0.269 -2.206 -1.329 -2.399 -3.098   \n",
       "3 -1.757  1.766 -0.267  3.625  1.500 -0.586  0.783 -0.201  0.025 -1.795   \n",
       "4 -1.661  1.680 -0.451 -4.551  3.739  1.134 -2.034  0.841 -1.600 -0.257   \n",
       "\n",
       "     V33    V34   V35    V36    V37    V38    V39    V40  Target  \n",
       "0 -1.690  2.846 2.235  6.667  0.444 -2.369  2.951 -3.480       0  \n",
       "1 -6.823  4.909 0.482  5.338  2.381 -3.128  3.527 -3.020       0  \n",
       "2  2.690 -1.643 7.566 -3.198 -3.496  8.105  0.562 -4.227       0  \n",
       "3  3.033 -2.468 1.895 -2.298 -1.731  5.909 -0.386  0.616       0  \n",
       "4  0.804  4.086 2.292  5.361  0.352  2.940  3.839 -4.309       0  "
      ]
     },
     "execution_count": 7,
     "metadata": {},
     "output_type": "execute_result"
    },
    {
     "data": {
      "application/javascript": [
       "\n",
       "            setTimeout(function() {\n",
       "                var nbb_cell_id = 7;\n",
       "                var nbb_unformatted_code = \"# let's view the first 5 rows of the data\\ndata.head()\";\n",
       "                var nbb_formatted_code = \"# let's view the first 5 rows of the data\\ndata.head()\";\n",
       "                var nbb_cells = Jupyter.notebook.get_cells();\n",
       "                for (var i = 0; i < nbb_cells.length; ++i) {\n",
       "                    if (nbb_cells[i].input_prompt_number == nbb_cell_id) {\n",
       "                        if (nbb_cells[i].get_text() == nbb_unformatted_code) {\n",
       "                             nbb_cells[i].set_text(nbb_formatted_code);\n",
       "                        }\n",
       "                        break;\n",
       "                    }\n",
       "                }\n",
       "            }, 500);\n",
       "            "
      ],
      "text/plain": [
       "<IPython.core.display.Javascript object>"
      ]
     },
     "metadata": {},
     "output_type": "display_data"
    }
   ],
   "source": [
    "# let's view the first 5 rows of the data\n",
    "data.head()"
   ]
  },
  {
   "cell_type": "code",
   "execution_count": 8,
   "metadata": {},
   "outputs": [
    {
     "data": {
      "text/html": [
       "<div>\n",
       "<style scoped>\n",
       "    .dataframe tbody tr th:only-of-type {\n",
       "        vertical-align: middle;\n",
       "    }\n",
       "\n",
       "    .dataframe tbody tr th {\n",
       "        vertical-align: top;\n",
       "    }\n",
       "\n",
       "    .dataframe thead th {\n",
       "        text-align: right;\n",
       "    }\n",
       "</style>\n",
       "<table border=\"1\" class=\"dataframe\">\n",
       "  <thead>\n",
       "    <tr style=\"text-align: right;\">\n",
       "      <th></th>\n",
       "      <th>V1</th>\n",
       "      <th>V2</th>\n",
       "      <th>V3</th>\n",
       "      <th>V4</th>\n",
       "      <th>V5</th>\n",
       "      <th>V6</th>\n",
       "      <th>V7</th>\n",
       "      <th>V8</th>\n",
       "      <th>V9</th>\n",
       "      <th>V10</th>\n",
       "      <th>V11</th>\n",
       "      <th>V12</th>\n",
       "      <th>V13</th>\n",
       "      <th>V14</th>\n",
       "      <th>V15</th>\n",
       "      <th>V16</th>\n",
       "      <th>V17</th>\n",
       "      <th>V18</th>\n",
       "      <th>V19</th>\n",
       "      <th>V20</th>\n",
       "      <th>V21</th>\n",
       "      <th>V22</th>\n",
       "      <th>V23</th>\n",
       "      <th>V24</th>\n",
       "      <th>V25</th>\n",
       "      <th>V26</th>\n",
       "      <th>V27</th>\n",
       "      <th>V28</th>\n",
       "      <th>V29</th>\n",
       "      <th>V30</th>\n",
       "      <th>V31</th>\n",
       "      <th>V32</th>\n",
       "      <th>V33</th>\n",
       "      <th>V34</th>\n",
       "      <th>V35</th>\n",
       "      <th>V36</th>\n",
       "      <th>V37</th>\n",
       "      <th>V38</th>\n",
       "      <th>V39</th>\n",
       "      <th>V40</th>\n",
       "      <th>Target</th>\n",
       "    </tr>\n",
       "  </thead>\n",
       "  <tbody>\n",
       "    <tr>\n",
       "      <th>39995</th>\n",
       "      <td>-3.897</td>\n",
       "      <td>-3.942</td>\n",
       "      <td>-0.351</td>\n",
       "      <td>-2.417</td>\n",
       "      <td>1.108</td>\n",
       "      <td>-1.528</td>\n",
       "      <td>-3.520</td>\n",
       "      <td>2.055</td>\n",
       "      <td>-0.234</td>\n",
       "      <td>-0.358</td>\n",
       "      <td>-3.782</td>\n",
       "      <td>2.180</td>\n",
       "      <td>6.112</td>\n",
       "      <td>1.985</td>\n",
       "      <td>-8.330</td>\n",
       "      <td>-1.639</td>\n",
       "      <td>-0.915</td>\n",
       "      <td>5.672</td>\n",
       "      <td>-3.924</td>\n",
       "      <td>2.133</td>\n",
       "      <td>-4.502</td>\n",
       "      <td>2.777</td>\n",
       "      <td>5.728</td>\n",
       "      <td>1.620</td>\n",
       "      <td>-1.700</td>\n",
       "      <td>-0.042</td>\n",
       "      <td>-2.923</td>\n",
       "      <td>-2.760</td>\n",
       "      <td>-2.254</td>\n",
       "      <td>2.552</td>\n",
       "      <td>0.982</td>\n",
       "      <td>7.112</td>\n",
       "      <td>1.476</td>\n",
       "      <td>-3.954</td>\n",
       "      <td>1.856</td>\n",
       "      <td>5.029</td>\n",
       "      <td>2.083</td>\n",
       "      <td>-6.409</td>\n",
       "      <td>1.477</td>\n",
       "      <td>-0.874</td>\n",
       "      <td>0</td>\n",
       "    </tr>\n",
       "    <tr>\n",
       "      <th>39996</th>\n",
       "      <td>-3.187</td>\n",
       "      <td>-10.052</td>\n",
       "      <td>5.696</td>\n",
       "      <td>-4.370</td>\n",
       "      <td>-5.355</td>\n",
       "      <td>-1.873</td>\n",
       "      <td>-3.947</td>\n",
       "      <td>0.679</td>\n",
       "      <td>-2.389</td>\n",
       "      <td>5.457</td>\n",
       "      <td>1.583</td>\n",
       "      <td>3.571</td>\n",
       "      <td>9.227</td>\n",
       "      <td>2.554</td>\n",
       "      <td>-7.039</td>\n",
       "      <td>-0.994</td>\n",
       "      <td>-9.665</td>\n",
       "      <td>1.155</td>\n",
       "      <td>3.877</td>\n",
       "      <td>3.524</td>\n",
       "      <td>-7.015</td>\n",
       "      <td>-0.132</td>\n",
       "      <td>-3.446</td>\n",
       "      <td>-4.801</td>\n",
       "      <td>-0.876</td>\n",
       "      <td>-3.812</td>\n",
       "      <td>5.422</td>\n",
       "      <td>-3.732</td>\n",
       "      <td>0.609</td>\n",
       "      <td>5.256</td>\n",
       "      <td>1.915</td>\n",
       "      <td>0.403</td>\n",
       "      <td>3.164</td>\n",
       "      <td>3.752</td>\n",
       "      <td>8.530</td>\n",
       "      <td>8.451</td>\n",
       "      <td>0.204</td>\n",
       "      <td>-7.130</td>\n",
       "      <td>4.249</td>\n",
       "      <td>-6.112</td>\n",
       "      <td>0</td>\n",
       "    </tr>\n",
       "    <tr>\n",
       "      <th>39997</th>\n",
       "      <td>-2.687</td>\n",
       "      <td>1.961</td>\n",
       "      <td>6.137</td>\n",
       "      <td>2.600</td>\n",
       "      <td>2.657</td>\n",
       "      <td>-4.291</td>\n",
       "      <td>-2.344</td>\n",
       "      <td>0.974</td>\n",
       "      <td>-1.027</td>\n",
       "      <td>0.497</td>\n",
       "      <td>-9.589</td>\n",
       "      <td>3.177</td>\n",
       "      <td>1.055</td>\n",
       "      <td>-1.416</td>\n",
       "      <td>-4.669</td>\n",
       "      <td>-5.405</td>\n",
       "      <td>3.720</td>\n",
       "      <td>2.893</td>\n",
       "      <td>2.329</td>\n",
       "      <td>1.458</td>\n",
       "      <td>-6.429</td>\n",
       "      <td>1.818</td>\n",
       "      <td>0.806</td>\n",
       "      <td>7.786</td>\n",
       "      <td>0.331</td>\n",
       "      <td>5.257</td>\n",
       "      <td>-4.867</td>\n",
       "      <td>-0.819</td>\n",
       "      <td>-5.667</td>\n",
       "      <td>-2.861</td>\n",
       "      <td>4.674</td>\n",
       "      <td>6.621</td>\n",
       "      <td>-1.989</td>\n",
       "      <td>-1.349</td>\n",
       "      <td>3.952</td>\n",
       "      <td>5.450</td>\n",
       "      <td>-0.455</td>\n",
       "      <td>-2.202</td>\n",
       "      <td>1.678</td>\n",
       "      <td>-1.974</td>\n",
       "      <td>0</td>\n",
       "    </tr>\n",
       "    <tr>\n",
       "      <th>39998</th>\n",
       "      <td>0.521</td>\n",
       "      <td>0.096</td>\n",
       "      <td>8.457</td>\n",
       "      <td>2.138</td>\n",
       "      <td>-1.636</td>\n",
       "      <td>-2.713</td>\n",
       "      <td>-2.693</td>\n",
       "      <td>-3.410</td>\n",
       "      <td>1.936</td>\n",
       "      <td>2.012</td>\n",
       "      <td>-4.989</td>\n",
       "      <td>-0.819</td>\n",
       "      <td>4.166</td>\n",
       "      <td>-1.192</td>\n",
       "      <td>-5.033</td>\n",
       "      <td>-8.523</td>\n",
       "      <td>-1.950</td>\n",
       "      <td>0.017</td>\n",
       "      <td>4.505</td>\n",
       "      <td>2.031</td>\n",
       "      <td>-8.849</td>\n",
       "      <td>0.566</td>\n",
       "      <td>-6.040</td>\n",
       "      <td>-0.043</td>\n",
       "      <td>1.656</td>\n",
       "      <td>4.250</td>\n",
       "      <td>1.727</td>\n",
       "      <td>-1.686</td>\n",
       "      <td>-3.963</td>\n",
       "      <td>-2.642</td>\n",
       "      <td>1.939</td>\n",
       "      <td>-1.257</td>\n",
       "      <td>-1.136</td>\n",
       "      <td>1.434</td>\n",
       "      <td>5.905</td>\n",
       "      <td>3.752</td>\n",
       "      <td>-1.867</td>\n",
       "      <td>-1.918</td>\n",
       "      <td>2.573</td>\n",
       "      <td>-5.019</td>\n",
       "      <td>0</td>\n",
       "    </tr>\n",
       "    <tr>\n",
       "      <th>39999</th>\n",
       "      <td>2.403</td>\n",
       "      <td>-1.336</td>\n",
       "      <td>6.451</td>\n",
       "      <td>-5.356</td>\n",
       "      <td>-0.434</td>\n",
       "      <td>0.255</td>\n",
       "      <td>-1.120</td>\n",
       "      <td>-2.523</td>\n",
       "      <td>-0.654</td>\n",
       "      <td>2.316</td>\n",
       "      <td>-2.862</td>\n",
       "      <td>0.199</td>\n",
       "      <td>1.593</td>\n",
       "      <td>-0.337</td>\n",
       "      <td>-0.709</td>\n",
       "      <td>-4.408</td>\n",
       "      <td>-3.683</td>\n",
       "      <td>2.973</td>\n",
       "      <td>-1.223</td>\n",
       "      <td>-1.958</td>\n",
       "      <td>-4.454</td>\n",
       "      <td>0.464</td>\n",
       "      <td>-4.952</td>\n",
       "      <td>-1.624</td>\n",
       "      <td>2.965</td>\n",
       "      <td>2.009</td>\n",
       "      <td>5.712</td>\n",
       "      <td>-2.910</td>\n",
       "      <td>-2.287</td>\n",
       "      <td>-3.676</td>\n",
       "      <td>5.678</td>\n",
       "      <td>-4.310</td>\n",
       "      <td>-0.709</td>\n",
       "      <td>-1.359</td>\n",
       "      <td>1.639</td>\n",
       "      <td>7.766</td>\n",
       "      <td>-0.245</td>\n",
       "      <td>-1.124</td>\n",
       "      <td>2.872</td>\n",
       "      <td>1.902</td>\n",
       "      <td>0</td>\n",
       "    </tr>\n",
       "  </tbody>\n",
       "</table>\n",
       "</div>"
      ],
      "text/plain": [
       "          V1      V2     V3     V4     V5     V6     V7     V8     V9    V10  \\\n",
       "39995 -3.897  -3.942 -0.351 -2.417  1.108 -1.528 -3.520  2.055 -0.234 -0.358   \n",
       "39996 -3.187 -10.052  5.696 -4.370 -5.355 -1.873 -3.947  0.679 -2.389  5.457   \n",
       "39997 -2.687   1.961  6.137  2.600  2.657 -4.291 -2.344  0.974 -1.027  0.497   \n",
       "39998  0.521   0.096  8.457  2.138 -1.636 -2.713 -2.693 -3.410  1.936  2.012   \n",
       "39999  2.403  -1.336  6.451 -5.356 -0.434  0.255 -1.120 -2.523 -0.654  2.316   \n",
       "\n",
       "         V11    V12   V13    V14    V15    V16    V17   V18    V19    V20  \\\n",
       "39995 -3.782  2.180 6.112  1.985 -8.330 -1.639 -0.915 5.672 -3.924  2.133   \n",
       "39996  1.583  3.571 9.227  2.554 -7.039 -0.994 -9.665 1.155  3.877  3.524   \n",
       "39997 -9.589  3.177 1.055 -1.416 -4.669 -5.405  3.720 2.893  2.329  1.458   \n",
       "39998 -4.989 -0.819 4.166 -1.192 -5.033 -8.523 -1.950 0.017  4.505  2.031   \n",
       "39999 -2.862  0.199 1.593 -0.337 -0.709 -4.408 -3.683 2.973 -1.223 -1.958   \n",
       "\n",
       "         V21    V22    V23    V24    V25    V26    V27    V28    V29    V30  \\\n",
       "39995 -4.502  2.777  5.728  1.620 -1.700 -0.042 -2.923 -2.760 -2.254  2.552   \n",
       "39996 -7.015 -0.132 -3.446 -4.801 -0.876 -3.812  5.422 -3.732  0.609  5.256   \n",
       "39997 -6.429  1.818  0.806  7.786  0.331  5.257 -4.867 -0.819 -5.667 -2.861   \n",
       "39998 -8.849  0.566 -6.040 -0.043  1.656  4.250  1.727 -1.686 -3.963 -2.642   \n",
       "39999 -4.454  0.464 -4.952 -1.624  2.965  2.009  5.712 -2.910 -2.287 -3.676   \n",
       "\n",
       "        V31    V32    V33    V34   V35   V36    V37    V38   V39    V40  \\\n",
       "39995 0.982  7.112  1.476 -3.954 1.856 5.029  2.083 -6.409 1.477 -0.874   \n",
       "39996 1.915  0.403  3.164  3.752 8.530 8.451  0.204 -7.130 4.249 -6.112   \n",
       "39997 4.674  6.621 -1.989 -1.349 3.952 5.450 -0.455 -2.202 1.678 -1.974   \n",
       "39998 1.939 -1.257 -1.136  1.434 5.905 3.752 -1.867 -1.918 2.573 -5.019   \n",
       "39999 5.678 -4.310 -0.709 -1.359 1.639 7.766 -0.245 -1.124 2.872  1.902   \n",
       "\n",
       "       Target  \n",
       "39995       0  \n",
       "39996       0  \n",
       "39997       0  \n",
       "39998       0  \n",
       "39999       0  "
      ]
     },
     "execution_count": 8,
     "metadata": {},
     "output_type": "execute_result"
    },
    {
     "data": {
      "application/javascript": [
       "\n",
       "            setTimeout(function() {\n",
       "                var nbb_cell_id = 8;\n",
       "                var nbb_unformatted_code = \"# let's view the last 5 rows of the data\\ndata.tail()\";\n",
       "                var nbb_formatted_code = \"# let's view the last 5 rows of the data\\ndata.tail()\";\n",
       "                var nbb_cells = Jupyter.notebook.get_cells();\n",
       "                for (var i = 0; i < nbb_cells.length; ++i) {\n",
       "                    if (nbb_cells[i].input_prompt_number == nbb_cell_id) {\n",
       "                        if (nbb_cells[i].get_text() == nbb_unformatted_code) {\n",
       "                             nbb_cells[i].set_text(nbb_formatted_code);\n",
       "                        }\n",
       "                        break;\n",
       "                    }\n",
       "                }\n",
       "            }, 500);\n",
       "            "
      ],
      "text/plain": [
       "<IPython.core.display.Javascript object>"
      ]
     },
     "metadata": {},
     "output_type": "display_data"
    }
   ],
   "source": [
    "# let's view the last 5 rows of the data\n",
    "data.tail()"
   ]
  },
  {
   "cell_type": "markdown",
   "metadata": {},
   "source": [
    "- The attributes are ciphered"
   ]
  },
  {
   "cell_type": "code",
   "execution_count": 9,
   "metadata": {},
   "outputs": [
    {
     "name": "stdout",
     "output_type": "stream",
     "text": [
      "<class 'pandas.core.frame.DataFrame'>\n",
      "RangeIndex: 40000 entries, 0 to 39999\n",
      "Data columns (total 41 columns):\n",
      " #   Column  Non-Null Count  Dtype  \n",
      "---  ------  --------------  -----  \n",
      " 0   V1      39954 non-null  float64\n",
      " 1   V2      39961 non-null  float64\n",
      " 2   V3      40000 non-null  float64\n",
      " 3   V4      40000 non-null  float64\n",
      " 4   V5      40000 non-null  float64\n",
      " 5   V6      40000 non-null  float64\n",
      " 6   V7      40000 non-null  float64\n",
      " 7   V8      40000 non-null  float64\n",
      " 8   V9      40000 non-null  float64\n",
      " 9   V10     40000 non-null  float64\n",
      " 10  V11     40000 non-null  float64\n",
      " 11  V12     40000 non-null  float64\n",
      " 12  V13     40000 non-null  float64\n",
      " 13  V14     40000 non-null  float64\n",
      " 14  V15     40000 non-null  float64\n",
      " 15  V16     40000 non-null  float64\n",
      " 16  V17     40000 non-null  float64\n",
      " 17  V18     40000 non-null  float64\n",
      " 18  V19     40000 non-null  float64\n",
      " 19  V20     40000 non-null  float64\n",
      " 20  V21     40000 non-null  float64\n",
      " 21  V22     40000 non-null  float64\n",
      " 22  V23     40000 non-null  float64\n",
      " 23  V24     40000 non-null  float64\n",
      " 24  V25     40000 non-null  float64\n",
      " 25  V26     40000 non-null  float64\n",
      " 26  V27     40000 non-null  float64\n",
      " 27  V28     40000 non-null  float64\n",
      " 28  V29     40000 non-null  float64\n",
      " 29  V30     40000 non-null  float64\n",
      " 30  V31     40000 non-null  float64\n",
      " 31  V32     40000 non-null  float64\n",
      " 32  V33     40000 non-null  float64\n",
      " 33  V34     40000 non-null  float64\n",
      " 34  V35     40000 non-null  float64\n",
      " 35  V36     40000 non-null  float64\n",
      " 36  V37     40000 non-null  float64\n",
      " 37  V38     40000 non-null  float64\n",
      " 38  V39     40000 non-null  float64\n",
      " 39  V40     40000 non-null  float64\n",
      " 40  Target  40000 non-null  int64  \n",
      "dtypes: float64(40), int64(1)\n",
      "memory usage: 12.5 MB\n"
     ]
    },
    {
     "data": {
      "application/javascript": [
       "\n",
       "            setTimeout(function() {\n",
       "                var nbb_cell_id = 9;\n",
       "                var nbb_unformatted_code = \"# let's check the data types of the columns in the dataset\\ndata.info()\";\n",
       "                var nbb_formatted_code = \"# let's check the data types of the columns in the dataset\\ndata.info()\";\n",
       "                var nbb_cells = Jupyter.notebook.get_cells();\n",
       "                for (var i = 0; i < nbb_cells.length; ++i) {\n",
       "                    if (nbb_cells[i].input_prompt_number == nbb_cell_id) {\n",
       "                        if (nbb_cells[i].get_text() == nbb_unformatted_code) {\n",
       "                             nbb_cells[i].set_text(nbb_formatted_code);\n",
       "                        }\n",
       "                        break;\n",
       "                    }\n",
       "                }\n",
       "            }, 500);\n",
       "            "
      ],
      "text/plain": [
       "<IPython.core.display.Javascript object>"
      ]
     },
     "metadata": {},
     "output_type": "display_data"
    }
   ],
   "source": [
    "# let's check the data types of the columns in the dataset\n",
    "data.info()"
   ]
  },
  {
   "cell_type": "markdown",
   "metadata": {},
   "source": [
    "- All attributes except for the predictor \"Target\" are of float type\n",
    "- There are 46 missing values for attribute \"V1\" and 39 missing values for attribute \"V2\""
   ]
  },
  {
   "cell_type": "code",
   "execution_count": 10,
   "metadata": {},
   "outputs": [
    {
     "data": {
      "text/plain": [
       "0"
      ]
     },
     "execution_count": 10,
     "metadata": {},
     "output_type": "execute_result"
    },
    {
     "data": {
      "application/javascript": [
       "\n",
       "            setTimeout(function() {\n",
       "                var nbb_cell_id = 10;\n",
       "                var nbb_unformatted_code = \"# let's check for duplicate values in the data\\ndata.duplicated().sum()\";\n",
       "                var nbb_formatted_code = \"# let's check for duplicate values in the data\\ndata.duplicated().sum()\";\n",
       "                var nbb_cells = Jupyter.notebook.get_cells();\n",
       "                for (var i = 0; i < nbb_cells.length; ++i) {\n",
       "                    if (nbb_cells[i].input_prompt_number == nbb_cell_id) {\n",
       "                        if (nbb_cells[i].get_text() == nbb_unformatted_code) {\n",
       "                             nbb_cells[i].set_text(nbb_formatted_code);\n",
       "                        }\n",
       "                        break;\n",
       "                    }\n",
       "                }\n",
       "            }, 500);\n",
       "            "
      ],
      "text/plain": [
       "<IPython.core.display.Javascript object>"
      ]
     },
     "metadata": {},
     "output_type": "display_data"
    }
   ],
   "source": [
    "# let's check for duplicate values in the data\n",
    "data.duplicated().sum()"
   ]
  },
  {
   "cell_type": "markdown",
   "metadata": {},
   "source": [
    "- There are no duplicate values in the dataset"
   ]
  },
  {
   "cell_type": "code",
   "execution_count": 11,
   "metadata": {},
   "outputs": [
    {
     "data": {
      "text/plain": [
       "V1        39954\n",
       "V2        39961\n",
       "V3        40000\n",
       "V4        40000\n",
       "V5        40000\n",
       "V6        40000\n",
       "V7        40000\n",
       "V8        40000\n",
       "V9        40000\n",
       "V10       40000\n",
       "V11       40000\n",
       "V12       40000\n",
       "V13       40000\n",
       "V14       40000\n",
       "V15       39999\n",
       "V16       40000\n",
       "V17       40000\n",
       "V18       40000\n",
       "V19       40000\n",
       "V20       40000\n",
       "V21       40000\n",
       "V22       40000\n",
       "V23       40000\n",
       "V24       40000\n",
       "V25       40000\n",
       "V26       40000\n",
       "V27       40000\n",
       "V28       40000\n",
       "V29       40000\n",
       "V30       40000\n",
       "V31       40000\n",
       "V32       40000\n",
       "V33       40000\n",
       "V34       40000\n",
       "V35       40000\n",
       "V36       40000\n",
       "V37       40000\n",
       "V38       40000\n",
       "V39       40000\n",
       "V40       40000\n",
       "Target        2\n",
       "dtype: int64"
      ]
     },
     "execution_count": 11,
     "metadata": {},
     "output_type": "execute_result"
    },
    {
     "data": {
      "application/javascript": [
       "\n",
       "            setTimeout(function() {\n",
       "                var nbb_cell_id = 11;\n",
       "                var nbb_unformatted_code = \"# let's check for number of unique values in each column\\ndata.nunique()\";\n",
       "                var nbb_formatted_code = \"# let's check for number of unique values in each column\\ndata.nunique()\";\n",
       "                var nbb_cells = Jupyter.notebook.get_cells();\n",
       "                for (var i = 0; i < nbb_cells.length; ++i) {\n",
       "                    if (nbb_cells[i].input_prompt_number == nbb_cell_id) {\n",
       "                        if (nbb_cells[i].get_text() == nbb_unformatted_code) {\n",
       "                             nbb_cells[i].set_text(nbb_formatted_code);\n",
       "                        }\n",
       "                        break;\n",
       "                    }\n",
       "                }\n",
       "            }, 500);\n",
       "            "
      ],
      "text/plain": [
       "<IPython.core.display.Javascript object>"
      ]
     },
     "metadata": {},
     "output_type": "display_data"
    }
   ],
   "source": [
    "# let's check for number of unique values in each column\n",
    "data.nunique()"
   ]
  },
  {
   "cell_type": "markdown",
   "metadata": {},
   "source": [
    "- All attributes except \"Target\" have all unique values"
   ]
  },
  {
   "cell_type": "code",
   "execution_count": 12,
   "metadata": {},
   "outputs": [
    {
     "data": {
      "text/html": [
       "<div>\n",
       "<style scoped>\n",
       "    .dataframe tbody tr th:only-of-type {\n",
       "        vertical-align: middle;\n",
       "    }\n",
       "\n",
       "    .dataframe tbody tr th {\n",
       "        vertical-align: top;\n",
       "    }\n",
       "\n",
       "    .dataframe thead th {\n",
       "        text-align: right;\n",
       "    }\n",
       "</style>\n",
       "<table border=\"1\" class=\"dataframe\">\n",
       "  <thead>\n",
       "    <tr style=\"text-align: right;\">\n",
       "      <th></th>\n",
       "      <th>V1</th>\n",
       "      <th>V2</th>\n",
       "      <th>V3</th>\n",
       "      <th>V4</th>\n",
       "      <th>V5</th>\n",
       "      <th>V6</th>\n",
       "      <th>V7</th>\n",
       "      <th>V8</th>\n",
       "      <th>V9</th>\n",
       "      <th>V10</th>\n",
       "      <th>V11</th>\n",
       "      <th>V12</th>\n",
       "      <th>V13</th>\n",
       "      <th>V14</th>\n",
       "      <th>V15</th>\n",
       "      <th>V16</th>\n",
       "      <th>V17</th>\n",
       "      <th>V18</th>\n",
       "      <th>V19</th>\n",
       "      <th>V20</th>\n",
       "      <th>V21</th>\n",
       "      <th>V22</th>\n",
       "      <th>V23</th>\n",
       "      <th>V24</th>\n",
       "      <th>V25</th>\n",
       "      <th>V26</th>\n",
       "      <th>V27</th>\n",
       "      <th>V28</th>\n",
       "      <th>V29</th>\n",
       "      <th>V30</th>\n",
       "      <th>V31</th>\n",
       "      <th>V32</th>\n",
       "      <th>V33</th>\n",
       "      <th>V34</th>\n",
       "      <th>V35</th>\n",
       "      <th>V36</th>\n",
       "      <th>V37</th>\n",
       "      <th>V38</th>\n",
       "      <th>V39</th>\n",
       "      <th>V40</th>\n",
       "      <th>Target</th>\n",
       "    </tr>\n",
       "  </thead>\n",
       "  <tbody>\n",
       "    <tr>\n",
       "      <th>count</th>\n",
       "      <td>39954.000</td>\n",
       "      <td>39961.000</td>\n",
       "      <td>40000.000</td>\n",
       "      <td>40000.000</td>\n",
       "      <td>40000.000</td>\n",
       "      <td>40000.000</td>\n",
       "      <td>40000.000</td>\n",
       "      <td>40000.000</td>\n",
       "      <td>40000.000</td>\n",
       "      <td>40000.000</td>\n",
       "      <td>40000.000</td>\n",
       "      <td>40000.000</td>\n",
       "      <td>40000.000</td>\n",
       "      <td>40000.000</td>\n",
       "      <td>40000.000</td>\n",
       "      <td>40000.000</td>\n",
       "      <td>40000.000</td>\n",
       "      <td>40000.000</td>\n",
       "      <td>40000.000</td>\n",
       "      <td>40000.000</td>\n",
       "      <td>40000.000</td>\n",
       "      <td>40000.000</td>\n",
       "      <td>40000.000</td>\n",
       "      <td>40000.000</td>\n",
       "      <td>40000.000</td>\n",
       "      <td>40000.000</td>\n",
       "      <td>40000.000</td>\n",
       "      <td>40000.000</td>\n",
       "      <td>40000.000</td>\n",
       "      <td>40000.000</td>\n",
       "      <td>40000.000</td>\n",
       "      <td>40000.000</td>\n",
       "      <td>40000.000</td>\n",
       "      <td>40000.000</td>\n",
       "      <td>40000.000</td>\n",
       "      <td>40000.000</td>\n",
       "      <td>40000.000</td>\n",
       "      <td>40000.000</td>\n",
       "      <td>40000.000</td>\n",
       "      <td>40000.000</td>\n",
       "      <td>40000.000</td>\n",
       "    </tr>\n",
       "    <tr>\n",
       "      <th>mean</th>\n",
       "      <td>-0.288</td>\n",
       "      <td>0.443</td>\n",
       "      <td>2.506</td>\n",
       "      <td>-0.066</td>\n",
       "      <td>-0.045</td>\n",
       "      <td>-1.001</td>\n",
       "      <td>-0.893</td>\n",
       "      <td>-0.563</td>\n",
       "      <td>-0.008</td>\n",
       "      <td>-0.002</td>\n",
       "      <td>-1.918</td>\n",
       "      <td>1.578</td>\n",
       "      <td>1.591</td>\n",
       "      <td>-0.947</td>\n",
       "      <td>-2.436</td>\n",
       "      <td>-2.943</td>\n",
       "      <td>-0.143</td>\n",
       "      <td>1.189</td>\n",
       "      <td>1.181</td>\n",
       "      <td>0.027</td>\n",
       "      <td>-3.621</td>\n",
       "      <td>0.943</td>\n",
       "      <td>-0.388</td>\n",
       "      <td>1.142</td>\n",
       "      <td>-0.003</td>\n",
       "      <td>1.896</td>\n",
       "      <td>-0.617</td>\n",
       "      <td>-0.888</td>\n",
       "      <td>-1.005</td>\n",
       "      <td>-0.033</td>\n",
       "      <td>0.506</td>\n",
       "      <td>0.327</td>\n",
       "      <td>0.057</td>\n",
       "      <td>-0.464</td>\n",
       "      <td>2.235</td>\n",
       "      <td>1.530</td>\n",
       "      <td>-0.000</td>\n",
       "      <td>-0.351</td>\n",
       "      <td>0.900</td>\n",
       "      <td>-0.897</td>\n",
       "      <td>0.055</td>\n",
       "    </tr>\n",
       "    <tr>\n",
       "      <th>std</th>\n",
       "      <td>3.449</td>\n",
       "      <td>3.139</td>\n",
       "      <td>3.406</td>\n",
       "      <td>3.437</td>\n",
       "      <td>2.107</td>\n",
       "      <td>2.037</td>\n",
       "      <td>1.757</td>\n",
       "      <td>3.299</td>\n",
       "      <td>2.162</td>\n",
       "      <td>2.183</td>\n",
       "      <td>3.116</td>\n",
       "      <td>2.915</td>\n",
       "      <td>2.865</td>\n",
       "      <td>1.788</td>\n",
       "      <td>3.341</td>\n",
       "      <td>4.212</td>\n",
       "      <td>3.344</td>\n",
       "      <td>2.586</td>\n",
       "      <td>3.395</td>\n",
       "      <td>3.675</td>\n",
       "      <td>3.557</td>\n",
       "      <td>1.646</td>\n",
       "      <td>4.052</td>\n",
       "      <td>3.913</td>\n",
       "      <td>2.025</td>\n",
       "      <td>3.421</td>\n",
       "      <td>4.392</td>\n",
       "      <td>1.925</td>\n",
       "      <td>2.676</td>\n",
       "      <td>3.031</td>\n",
       "      <td>3.483</td>\n",
       "      <td>5.499</td>\n",
       "      <td>3.574</td>\n",
       "      <td>3.186</td>\n",
       "      <td>2.924</td>\n",
       "      <td>3.820</td>\n",
       "      <td>1.778</td>\n",
       "      <td>3.964</td>\n",
       "      <td>1.751</td>\n",
       "      <td>2.998</td>\n",
       "      <td>0.227</td>\n",
       "    </tr>\n",
       "    <tr>\n",
       "      <th>min</th>\n",
       "      <td>-13.502</td>\n",
       "      <td>-13.212</td>\n",
       "      <td>-11.469</td>\n",
       "      <td>-16.015</td>\n",
       "      <td>-8.613</td>\n",
       "      <td>-10.227</td>\n",
       "      <td>-8.206</td>\n",
       "      <td>-15.658</td>\n",
       "      <td>-8.596</td>\n",
       "      <td>-11.001</td>\n",
       "      <td>-14.832</td>\n",
       "      <td>-13.619</td>\n",
       "      <td>-13.830</td>\n",
       "      <td>-8.309</td>\n",
       "      <td>-17.202</td>\n",
       "      <td>-21.919</td>\n",
       "      <td>-17.634</td>\n",
       "      <td>-11.644</td>\n",
       "      <td>-13.492</td>\n",
       "      <td>-13.923</td>\n",
       "      <td>-19.436</td>\n",
       "      <td>-10.122</td>\n",
       "      <td>-16.188</td>\n",
       "      <td>-18.488</td>\n",
       "      <td>-8.228</td>\n",
       "      <td>-12.588</td>\n",
       "      <td>-14.905</td>\n",
       "      <td>-9.685</td>\n",
       "      <td>-12.579</td>\n",
       "      <td>-14.796</td>\n",
       "      <td>-19.377</td>\n",
       "      <td>-23.201</td>\n",
       "      <td>-17.454</td>\n",
       "      <td>-17.985</td>\n",
       "      <td>-15.350</td>\n",
       "      <td>-17.479</td>\n",
       "      <td>-7.640</td>\n",
       "      <td>-17.375</td>\n",
       "      <td>-7.136</td>\n",
       "      <td>-11.930</td>\n",
       "      <td>0.000</td>\n",
       "    </tr>\n",
       "    <tr>\n",
       "      <th>25%</th>\n",
       "      <td>-2.751</td>\n",
       "      <td>-1.638</td>\n",
       "      <td>0.203</td>\n",
       "      <td>-2.350</td>\n",
       "      <td>-1.507</td>\n",
       "      <td>-2.363</td>\n",
       "      <td>-2.037</td>\n",
       "      <td>-2.660</td>\n",
       "      <td>-1.494</td>\n",
       "      <td>-1.391</td>\n",
       "      <td>-3.941</td>\n",
       "      <td>-0.431</td>\n",
       "      <td>-0.209</td>\n",
       "      <td>-2.165</td>\n",
       "      <td>-4.451</td>\n",
       "      <td>-5.632</td>\n",
       "      <td>-2.227</td>\n",
       "      <td>-0.403</td>\n",
       "      <td>-1.051</td>\n",
       "      <td>-2.434</td>\n",
       "      <td>-5.921</td>\n",
       "      <td>-0.112</td>\n",
       "      <td>-3.119</td>\n",
       "      <td>-1.483</td>\n",
       "      <td>-1.373</td>\n",
       "      <td>-0.319</td>\n",
       "      <td>-3.692</td>\n",
       "      <td>-2.193</td>\n",
       "      <td>-2.799</td>\n",
       "      <td>-1.908</td>\n",
       "      <td>-1.799</td>\n",
       "      <td>-3.392</td>\n",
       "      <td>-2.238</td>\n",
       "      <td>-2.128</td>\n",
       "      <td>0.332</td>\n",
       "      <td>-0.937</td>\n",
       "      <td>-1.266</td>\n",
       "      <td>-3.017</td>\n",
       "      <td>-0.262</td>\n",
       "      <td>-2.950</td>\n",
       "      <td>0.000</td>\n",
       "    </tr>\n",
       "    <tr>\n",
       "      <th>50%</th>\n",
       "      <td>-0.774</td>\n",
       "      <td>0.464</td>\n",
       "      <td>2.265</td>\n",
       "      <td>-0.124</td>\n",
       "      <td>-0.097</td>\n",
       "      <td>-1.007</td>\n",
       "      <td>-0.935</td>\n",
       "      <td>-0.384</td>\n",
       "      <td>-0.052</td>\n",
       "      <td>0.106</td>\n",
       "      <td>-1.942</td>\n",
       "      <td>1.485</td>\n",
       "      <td>1.654</td>\n",
       "      <td>-0.957</td>\n",
       "      <td>-2.399</td>\n",
       "      <td>-2.719</td>\n",
       "      <td>-0.028</td>\n",
       "      <td>0.867</td>\n",
       "      <td>1.278</td>\n",
       "      <td>0.030</td>\n",
       "      <td>-3.559</td>\n",
       "      <td>0.963</td>\n",
       "      <td>-0.275</td>\n",
       "      <td>0.964</td>\n",
       "      <td>0.021</td>\n",
       "      <td>1.964</td>\n",
       "      <td>-0.910</td>\n",
       "      <td>-0.905</td>\n",
       "      <td>-1.206</td>\n",
       "      <td>0.185</td>\n",
       "      <td>0.491</td>\n",
       "      <td>0.056</td>\n",
       "      <td>-0.050</td>\n",
       "      <td>-0.251</td>\n",
       "      <td>2.110</td>\n",
       "      <td>1.572</td>\n",
       "      <td>-0.133</td>\n",
       "      <td>-0.319</td>\n",
       "      <td>0.921</td>\n",
       "      <td>-0.949</td>\n",
       "      <td>0.000</td>\n",
       "    </tr>\n",
       "    <tr>\n",
       "      <th>75%</th>\n",
       "      <td>1.837</td>\n",
       "      <td>2.538</td>\n",
       "      <td>4.585</td>\n",
       "      <td>2.149</td>\n",
       "      <td>1.346</td>\n",
       "      <td>0.374</td>\n",
       "      <td>0.207</td>\n",
       "      <td>1.714</td>\n",
       "      <td>1.426</td>\n",
       "      <td>1.486</td>\n",
       "      <td>0.089</td>\n",
       "      <td>3.541</td>\n",
       "      <td>3.476</td>\n",
       "      <td>0.266</td>\n",
       "      <td>-0.382</td>\n",
       "      <td>-0.113</td>\n",
       "      <td>2.072</td>\n",
       "      <td>2.564</td>\n",
       "      <td>3.497</td>\n",
       "      <td>2.513</td>\n",
       "      <td>-1.284</td>\n",
       "      <td>2.018</td>\n",
       "      <td>2.438</td>\n",
       "      <td>3.563</td>\n",
       "      <td>1.400</td>\n",
       "      <td>4.163</td>\n",
       "      <td>2.201</td>\n",
       "      <td>0.377</td>\n",
       "      <td>0.604</td>\n",
       "      <td>2.040</td>\n",
       "      <td>2.778</td>\n",
       "      <td>3.789</td>\n",
       "      <td>2.256</td>\n",
       "      <td>1.433</td>\n",
       "      <td>4.045</td>\n",
       "      <td>3.997</td>\n",
       "      <td>1.161</td>\n",
       "      <td>2.291</td>\n",
       "      <td>2.069</td>\n",
       "      <td>1.092</td>\n",
       "      <td>0.000</td>\n",
       "    </tr>\n",
       "    <tr>\n",
       "      <th>max</th>\n",
       "      <td>17.437</td>\n",
       "      <td>13.089</td>\n",
       "      <td>18.366</td>\n",
       "      <td>13.280</td>\n",
       "      <td>9.403</td>\n",
       "      <td>7.065</td>\n",
       "      <td>8.006</td>\n",
       "      <td>11.679</td>\n",
       "      <td>8.507</td>\n",
       "      <td>8.108</td>\n",
       "      <td>13.852</td>\n",
       "      <td>15.754</td>\n",
       "      <td>15.420</td>\n",
       "      <td>6.213</td>\n",
       "      <td>12.875</td>\n",
       "      <td>13.583</td>\n",
       "      <td>17.405</td>\n",
       "      <td>13.180</td>\n",
       "      <td>16.059</td>\n",
       "      <td>16.052</td>\n",
       "      <td>13.840</td>\n",
       "      <td>7.410</td>\n",
       "      <td>15.080</td>\n",
       "      <td>19.769</td>\n",
       "      <td>8.223</td>\n",
       "      <td>16.836</td>\n",
       "      <td>21.595</td>\n",
       "      <td>6.907</td>\n",
       "      <td>11.852</td>\n",
       "      <td>13.191</td>\n",
       "      <td>17.255</td>\n",
       "      <td>24.848</td>\n",
       "      <td>16.692</td>\n",
       "      <td>14.358</td>\n",
       "      <td>16.805</td>\n",
       "      <td>19.330</td>\n",
       "      <td>7.803</td>\n",
       "      <td>15.964</td>\n",
       "      <td>7.998</td>\n",
       "      <td>10.654</td>\n",
       "      <td>1.000</td>\n",
       "    </tr>\n",
       "  </tbody>\n",
       "</table>\n",
       "</div>"
      ],
      "text/plain": [
       "             V1        V2        V3        V4        V5        V6        V7  \\\n",
       "count 39954.000 39961.000 40000.000 40000.000 40000.000 40000.000 40000.000   \n",
       "mean     -0.288     0.443     2.506    -0.066    -0.045    -1.001    -0.893   \n",
       "std       3.449     3.139     3.406     3.437     2.107     2.037     1.757   \n",
       "min     -13.502   -13.212   -11.469   -16.015    -8.613   -10.227    -8.206   \n",
       "25%      -2.751    -1.638     0.203    -2.350    -1.507    -2.363    -2.037   \n",
       "50%      -0.774     0.464     2.265    -0.124    -0.097    -1.007    -0.935   \n",
       "75%       1.837     2.538     4.585     2.149     1.346     0.374     0.207   \n",
       "max      17.437    13.089    18.366    13.280     9.403     7.065     8.006   \n",
       "\n",
       "             V8        V9       V10       V11       V12       V13       V14  \\\n",
       "count 40000.000 40000.000 40000.000 40000.000 40000.000 40000.000 40000.000   \n",
       "mean     -0.563    -0.008    -0.002    -1.918     1.578     1.591    -0.947   \n",
       "std       3.299     2.162     2.183     3.116     2.915     2.865     1.788   \n",
       "min     -15.658    -8.596   -11.001   -14.832   -13.619   -13.830    -8.309   \n",
       "25%      -2.660    -1.494    -1.391    -3.941    -0.431    -0.209    -2.165   \n",
       "50%      -0.384    -0.052     0.106    -1.942     1.485     1.654    -0.957   \n",
       "75%       1.714     1.426     1.486     0.089     3.541     3.476     0.266   \n",
       "max      11.679     8.507     8.108    13.852    15.754    15.420     6.213   \n",
       "\n",
       "            V15       V16       V17       V18       V19       V20       V21  \\\n",
       "count 40000.000 40000.000 40000.000 40000.000 40000.000 40000.000 40000.000   \n",
       "mean     -2.436    -2.943    -0.143     1.189     1.181     0.027    -3.621   \n",
       "std       3.341     4.212     3.344     2.586     3.395     3.675     3.557   \n",
       "min     -17.202   -21.919   -17.634   -11.644   -13.492   -13.923   -19.436   \n",
       "25%      -4.451    -5.632    -2.227    -0.403    -1.051    -2.434    -5.921   \n",
       "50%      -2.399    -2.719    -0.028     0.867     1.278     0.030    -3.559   \n",
       "75%      -0.382    -0.113     2.072     2.564     3.497     2.513    -1.284   \n",
       "max      12.875    13.583    17.405    13.180    16.059    16.052    13.840   \n",
       "\n",
       "            V22       V23       V24       V25       V26       V27       V28  \\\n",
       "count 40000.000 40000.000 40000.000 40000.000 40000.000 40000.000 40000.000   \n",
       "mean      0.943    -0.388     1.142    -0.003     1.896    -0.617    -0.888   \n",
       "std       1.646     4.052     3.913     2.025     3.421     4.392     1.925   \n",
       "min     -10.122   -16.188   -18.488    -8.228   -12.588   -14.905    -9.685   \n",
       "25%      -0.112    -3.119    -1.483    -1.373    -0.319    -3.692    -2.193   \n",
       "50%       0.963    -0.275     0.964     0.021     1.964    -0.910    -0.905   \n",
       "75%       2.018     2.438     3.563     1.400     4.163     2.201     0.377   \n",
       "max       7.410    15.080    19.769     8.223    16.836    21.595     6.907   \n",
       "\n",
       "            V29       V30       V31       V32       V33       V34       V35  \\\n",
       "count 40000.000 40000.000 40000.000 40000.000 40000.000 40000.000 40000.000   \n",
       "mean     -1.005    -0.033     0.506     0.327     0.057    -0.464     2.235   \n",
       "std       2.676     3.031     3.483     5.499     3.574     3.186     2.924   \n",
       "min     -12.579   -14.796   -19.377   -23.201   -17.454   -17.985   -15.350   \n",
       "25%      -2.799    -1.908    -1.799    -3.392    -2.238    -2.128     0.332   \n",
       "50%      -1.206     0.185     0.491     0.056    -0.050    -0.251     2.110   \n",
       "75%       0.604     2.040     2.778     3.789     2.256     1.433     4.045   \n",
       "max      11.852    13.191    17.255    24.848    16.692    14.358    16.805   \n",
       "\n",
       "            V36       V37       V38       V39       V40    Target  \n",
       "count 40000.000 40000.000 40000.000 40000.000 40000.000 40000.000  \n",
       "mean      1.530    -0.000    -0.351     0.900    -0.897     0.055  \n",
       "std       3.820     1.778     3.964     1.751     2.998     0.227  \n",
       "min     -17.479    -7.640   -17.375    -7.136   -11.930     0.000  \n",
       "25%      -0.937    -1.266    -3.017    -0.262    -2.950     0.000  \n",
       "50%       1.572    -0.133    -0.319     0.921    -0.949     0.000  \n",
       "75%       3.997     1.161     2.291     2.069     1.092     0.000  \n",
       "max      19.330     7.803    15.964     7.998    10.654     1.000  "
      ]
     },
     "execution_count": 12,
     "metadata": {},
     "output_type": "execute_result"
    },
    {
     "data": {
      "application/javascript": [
       "\n",
       "            setTimeout(function() {\n",
       "                var nbb_cell_id = 12;\n",
       "                var nbb_unformatted_code = \"# let's view the statistical summary of the numerical columns in the data\\ndata.describe()\";\n",
       "                var nbb_formatted_code = \"# let's view the statistical summary of the numerical columns in the data\\ndata.describe()\";\n",
       "                var nbb_cells = Jupyter.notebook.get_cells();\n",
       "                for (var i = 0; i < nbb_cells.length; ++i) {\n",
       "                    if (nbb_cells[i].input_prompt_number == nbb_cell_id) {\n",
       "                        if (nbb_cells[i].get_text() == nbb_unformatted_code) {\n",
       "                             nbb_cells[i].set_text(nbb_formatted_code);\n",
       "                        }\n",
       "                        break;\n",
       "                    }\n",
       "                }\n",
       "            }, 500);\n",
       "            "
      ],
      "text/plain": [
       "<IPython.core.display.Javascript object>"
      ]
     },
     "metadata": {},
     "output_type": "display_data"
    }
   ],
   "source": [
    "# let's view the statistical summary of the numerical columns in the data\n",
    "data.describe()"
   ]
  },
  {
   "cell_type": "markdown",
   "metadata": {},
   "source": [
    "- The spread of attributes will be explored further (univariate analysis)"
   ]
  },
  {
   "cell_type": "markdown",
   "metadata": {
    "id": "DVCj6_DD4jan"
   },
   "source": [
    "## Univariate Analysis"
   ]
  },
  {
   "cell_type": "code",
   "execution_count": 13,
   "metadata": {
    "scrolled": false
   },
   "outputs": [
    {
     "data": {
      "image/png": "[encoded data removed]",
      "text/plain": [
       "<Figure size 1440x3600 with 41 Axes>"
      ]
     },
     "metadata": {
      "needs_background": "light"
     },
     "output_type": "display_data"
    },
    {
     "data": {
      "application/javascript": [
       "\n",
       "            setTimeout(function() {\n",
       "                var nbb_cell_id = 13;\n",
       "                var nbb_unformatted_code = \"cols = data.columns.tolist()\\n\\nplt.figure(figsize=(20, 50))\\nfor i, variable in enumerate(cols):\\n    plt.subplot(14, 3, i + 1)\\n    sns.boxplot(data[variable])\\n    plt.tight_layout()\\n    plt.title(variable)\\nplt.show()\";\n",
       "                var nbb_formatted_code = \"cols = data.columns.tolist()\\n\\nplt.figure(figsize=(20, 50))\\nfor i, variable in enumerate(cols):\\n    plt.subplot(14, 3, i + 1)\\n    sns.boxplot(data[variable])\\n    plt.tight_layout()\\n    plt.title(variable)\\nplt.show()\";\n",
       "                var nbb_cells = Jupyter.notebook.get_cells();\n",
       "                for (var i = 0; i < nbb_cells.length; ++i) {\n",
       "                    if (nbb_cells[i].input_prompt_number == nbb_cell_id) {\n",
       "                        if (nbb_cells[i].get_text() == nbb_unformatted_code) {\n",
       "                             nbb_cells[i].set_text(nbb_formatted_code);\n",
       "                        }\n",
       "                        break;\n",
       "                    }\n",
       "                }\n",
       "            }, 500);\n",
       "            "
      ],
      "text/plain": [
       "<IPython.core.display.Javascript object>"
      ]
     },
     "metadata": {},
     "output_type": "display_data"
    }
   ],
   "source": [
    "cols = data.columns.tolist()\n",
    "\n",
    "plt.figure(figsize=(20, 50))\n",
    "for i, variable in enumerate(cols):\n",
    "    plt.subplot(14, 3, i + 1)\n",
    "    sns.boxplot(data[variable])\n",
    "    plt.tight_layout()\n",
    "    plt.title(variable)\n",
    "plt.show()"
   ]
  },
  {
   "cell_type": "markdown",
   "metadata": {},
   "source": [
    "- There are positive and negative outliers for all attributes \"V1\" to \"V40\". The scale of attributes are more or less the same (somewhere between -20 to +20). Since not much is known about the attributes, the outliers will not be treated and are assumed to be real data trends"
   ]
  },
  {
   "cell_type": "code",
   "execution_count": 14,
   "metadata": {},
   "outputs": [
    {
     "data": {
      "image/png": "[encoded data removed]",
      "text/plain": [
       "<Figure size 432x288 with 1 Axes>"
      ]
     },
     "metadata": {
      "needs_background": "light"
     },
     "output_type": "display_data"
    },
    {
     "data": {
      "text/plain": [
       "0    37813\n",
       "1     2187\n",
       "Name: Target, dtype: int64"
      ]
     },
     "execution_count": 14,
     "metadata": {},
     "output_type": "execute_result"
    },
    {
     "data": {
      "application/javascript": [
       "\n",
       "            setTimeout(function() {\n",
       "                var nbb_cell_id = 14;\n",
       "                var nbb_unformatted_code = \"plt.figure(figsize=(6, 4))\\nsns.countplot(data[\\\"Target\\\"])\\nplt.show()\\ndata[\\\"Target\\\"].value_counts()\";\n",
       "                var nbb_formatted_code = \"plt.figure(figsize=(6, 4))\\nsns.countplot(data[\\\"Target\\\"])\\nplt.show()\\ndata[\\\"Target\\\"].value_counts()\";\n",
       "                var nbb_cells = Jupyter.notebook.get_cells();\n",
       "                for (var i = 0; i < nbb_cells.length; ++i) {\n",
       "                    if (nbb_cells[i].input_prompt_number == nbb_cell_id) {\n",
       "                        if (nbb_cells[i].get_text() == nbb_unformatted_code) {\n",
       "                             nbb_cells[i].set_text(nbb_formatted_code);\n",
       "                        }\n",
       "                        break;\n",
       "                    }\n",
       "                }\n",
       "            }, 500);\n",
       "            "
      ],
      "text/plain": [
       "<IPython.core.display.Javascript object>"
      ]
     },
     "metadata": {},
     "output_type": "display_data"
    }
   ],
   "source": [
    "plt.figure(figsize=(6, 4))\n",
    "sns.countplot(data[\"Target\"])\n",
    "plt.show()\n",
    "data[\"Target\"].value_counts()"
   ]
  },
  {
   "cell_type": "markdown",
   "metadata": {},
   "source": [
    "- \"Target\" class is imbalanced with 37813 or 94.53% \"No failures (i.e., 0)\" and 2187 or 5.47% \"Failures (i.e., 1)\""
   ]
  },
  {
   "cell_type": "markdown",
   "metadata": {
    "id": "knk0w9XH4jao"
   },
   "source": [
    "## Data Pre-processing"
   ]
  },
  {
   "cell_type": "code",
   "execution_count": 15,
   "metadata": {
    "id": "2JbJc1bX4jao"
   },
   "outputs": [
    {
     "data": {
      "application/javascript": [
       "\n",
       "            setTimeout(function() {\n",
       "                var nbb_cell_id = 15;\n",
       "                var nbb_unformatted_code = \"# Split data\\ndf = data.copy()\\n\\nX = df.drop([\\\"Target\\\"], axis=1)\\ny = df[\\\"Target\\\"]\";\n",
       "                var nbb_formatted_code = \"# Split data\\ndf = data.copy()\\n\\nX = df.drop([\\\"Target\\\"], axis=1)\\ny = df[\\\"Target\\\"]\";\n",
       "                var nbb_cells = Jupyter.notebook.get_cells();\n",
       "                for (var i = 0; i < nbb_cells.length; ++i) {\n",
       "                    if (nbb_cells[i].input_prompt_number == nbb_cell_id) {\n",
       "                        if (nbb_cells[i].get_text() == nbb_unformatted_code) {\n",
       "                             nbb_cells[i].set_text(nbb_formatted_code);\n",
       "                        }\n",
       "                        break;\n",
       "                    }\n",
       "                }\n",
       "            }, 500);\n",
       "            "
      ],
      "text/plain": [
       "<IPython.core.display.Javascript object>"
      ]
     },
     "metadata": {},
     "output_type": "display_data"
    }
   ],
   "source": [
    "# Split data\n",
    "df = data.copy()\n",
    "\n",
    "X = df.drop([\"Target\"], axis=1)\n",
    "y = df[\"Target\"]"
   ]
  },
  {
   "cell_type": "code",
   "execution_count": 16,
   "metadata": {},
   "outputs": [
    {
     "name": "stdout",
     "output_type": "stream",
     "text": [
      "(28000, 40) (12000, 40)\n"
     ]
    },
    {
     "data": {
      "application/javascript": [
       "\n",
       "            setTimeout(function() {\n",
       "                var nbb_cell_id = 16;\n",
       "                var nbb_unformatted_code = \"# Splitting data into training and validation sets:\\n\\nX_train, X_val, y_train, y_val = train_test_split(\\n    X, y, test_size=0.30, random_state=1, stratify=y\\n)\\nprint(X_train.shape, X_val.shape)\";\n",
       "                var nbb_formatted_code = \"# Splitting data into training and validation sets:\\n\\nX_train, X_val, y_train, y_val = train_test_split(\\n    X, y, test_size=0.30, random_state=1, stratify=y\\n)\\nprint(X_train.shape, X_val.shape)\";\n",
       "                var nbb_cells = Jupyter.notebook.get_cells();\n",
       "                for (var i = 0; i < nbb_cells.length; ++i) {\n",
       "                    if (nbb_cells[i].input_prompt_number == nbb_cell_id) {\n",
       "                        if (nbb_cells[i].get_text() == nbb_unformatted_code) {\n",
       "                             nbb_cells[i].set_text(nbb_formatted_code);\n",
       "                        }\n",
       "                        break;\n",
       "                    }\n",
       "                }\n",
       "            }, 500);\n",
       "            "
      ],
      "text/plain": [
       "<IPython.core.display.Javascript object>"
      ]
     },
     "metadata": {},
     "output_type": "display_data"
    }
   ],
   "source": [
    "# Splitting data into training and validation sets:\n",
    "\n",
    "X_train, X_val, y_train, y_val = train_test_split(\n",
    "    X, y, test_size=0.30, random_state=1, stratify=y\n",
    ")\n",
    "print(X_train.shape, X_val.shape)"
   ]
  },
  {
   "cell_type": "markdown",
   "metadata": {},
   "source": [
    "- There are 28000 rows in the training and 12000 rows in the validation sets"
   ]
  },
  {
   "cell_type": "code",
   "execution_count": 17,
   "metadata": {},
   "outputs": [
    {
     "data": {
      "text/plain": [
       "0    26469\n",
       "1     1531\n",
       "Name: Target, dtype: int64"
      ]
     },
     "execution_count": 17,
     "metadata": {},
     "output_type": "execute_result"
    },
    {
     "data": {
      "application/javascript": [
       "\n",
       "            setTimeout(function() {\n",
       "                var nbb_cell_id = 17;\n",
       "                var nbb_unformatted_code = \"y_train.value_counts()\";\n",
       "                var nbb_formatted_code = \"y_train.value_counts()\";\n",
       "                var nbb_cells = Jupyter.notebook.get_cells();\n",
       "                for (var i = 0; i < nbb_cells.length; ++i) {\n",
       "                    if (nbb_cells[i].input_prompt_number == nbb_cell_id) {\n",
       "                        if (nbb_cells[i].get_text() == nbb_unformatted_code) {\n",
       "                             nbb_cells[i].set_text(nbb_formatted_code);\n",
       "                        }\n",
       "                        break;\n",
       "                    }\n",
       "                }\n",
       "            }, 500);\n",
       "            "
      ],
      "text/plain": [
       "<IPython.core.display.Javascript object>"
      ]
     },
     "metadata": {},
     "output_type": "display_data"
    }
   ],
   "source": [
    "y_train.value_counts()"
   ]
  },
  {
   "cell_type": "code",
   "execution_count": 18,
   "metadata": {},
   "outputs": [
    {
     "data": {
      "text/plain": [
       "0    11344\n",
       "1      656\n",
       "Name: Target, dtype: int64"
      ]
     },
     "execution_count": 18,
     "metadata": {},
     "output_type": "execute_result"
    },
    {
     "data": {
      "application/javascript": [
       "\n",
       "            setTimeout(function() {\n",
       "                var nbb_cell_id = 18;\n",
       "                var nbb_unformatted_code = \"y_val.value_counts()\";\n",
       "                var nbb_formatted_code = \"y_val.value_counts()\";\n",
       "                var nbb_cells = Jupyter.notebook.get_cells();\n",
       "                for (var i = 0; i < nbb_cells.length; ++i) {\n",
       "                    if (nbb_cells[i].input_prompt_number == nbb_cell_id) {\n",
       "                        if (nbb_cells[i].get_text() == nbb_unformatted_code) {\n",
       "                             nbb_cells[i].set_text(nbb_formatted_code);\n",
       "                        }\n",
       "                        break;\n",
       "                    }\n",
       "                }\n",
       "            }, 500);\n",
       "            "
      ],
      "text/plain": [
       "<IPython.core.display.Javascript object>"
      ]
     },
     "metadata": {},
     "output_type": "display_data"
    }
   ],
   "source": [
    "y_val.value_counts()"
   ]
  },
  {
   "cell_type": "markdown",
   "metadata": {},
   "source": [
    "- Stratify has maintained a distribution of 94.53% \"No failures\" or \"0\" and 5.47% \"Failures\" or \"1\" in both the test and validation splits"
   ]
  },
  {
   "cell_type": "markdown",
   "metadata": {},
   "source": [
    "### Missing-Value Treatment\n",
    "\n",
    "* We will use median to impute missing values in \"V1\" and \"V2\" columns. "
   ]
  },
  {
   "cell_type": "code",
   "execution_count": 19,
   "metadata": {},
   "outputs": [
    {
     "data": {
      "application/javascript": [
       "\n",
       "            setTimeout(function() {\n",
       "                var nbb_cell_id = 19;\n",
       "                var nbb_unformatted_code = \"imputer = SimpleImputer(strategy=\\\"median\\\")\\nimpute = imputer.fit(X_train)\\n\\nX_train = impute.transform(X_train)\\nX_val = imputer.transform(X_val)\";\n",
       "                var nbb_formatted_code = \"imputer = SimpleImputer(strategy=\\\"median\\\")\\nimpute = imputer.fit(X_train)\\n\\nX_train = impute.transform(X_train)\\nX_val = imputer.transform(X_val)\";\n",
       "                var nbb_cells = Jupyter.notebook.get_cells();\n",
       "                for (var i = 0; i < nbb_cells.length; ++i) {\n",
       "                    if (nbb_cells[i].input_prompt_number == nbb_cell_id) {\n",
       "                        if (nbb_cells[i].get_text() == nbb_unformatted_code) {\n",
       "                             nbb_cells[i].set_text(nbb_formatted_code);\n",
       "                        }\n",
       "                        break;\n",
       "                    }\n",
       "                }\n",
       "            }, 500);\n",
       "            "
      ],
      "text/plain": [
       "<IPython.core.display.Javascript object>"
      ]
     },
     "metadata": {},
     "output_type": "display_data"
    }
   ],
   "source": [
    "imputer = SimpleImputer(strategy=\"median\")\n",
    "impute = imputer.fit(X_train)\n",
    "\n",
    "X_train = impute.transform(X_train)\n",
    "X_val = imputer.transform(X_val)"
   ]
  },
  {
   "cell_type": "markdown",
   "metadata": {
    "id": "ONL1sM1n4jap"
   },
   "source": [
    "## Model evaluation criterion\n",
    "\n",
    "### 3 types of cost are associated with the provided problem\n",
    "1. Replacement cost - False Negatives - Predicting no failure, while there will be a failure\n",
    "2. Inspection cost - False Positives - Predicting failure, while there is no failure \n",
    "3. Repair cost - True Positives - Predicting failure correctly\n",
    "\n",
    "### How to reduce the overall cost?\n",
    "* We need to create a customized metric, that can help to bring down the overall cost\n",
    "* The cost associated with any model = (TPX15000) + (FPX5000) + (FNX40000)\n",
    "* And the minimum possible cost will be when, the model will be able to identify all failures, in that case, the cost will be (TP + FN)X15000\n",
    "* So, we will try to maximize `Minimum cost/Cost associated with model`"
   ]
  },
  {
   "cell_type": "markdown",
   "metadata": {
    "id": "djQTqGKU4jap"
   },
   "source": [
    "### Let's create two functions to calculate different metrics and confusion matrix"
   ]
  },
  {
   "cell_type": "code",
   "execution_count": 20,
   "metadata": {
    "id": "bIekBxwp4jaq"
   },
   "outputs": [
    {
     "data": {
      "application/javascript": [
       "\n",
       "            setTimeout(function() {\n",
       "                var nbb_cell_id = 20;\n",
       "                var nbb_unformatted_code = \"# defining a function to compute different metrics to check performance of a classification model built using sklearn\\ndef model_performance_classification_sklearn(model, predictors, target):\\n    \\\"\\\"\\\"\\n    Function to compute different metrics to check classification model performance\\n\\n    model: classifier\\n    predictors: independent variables\\n    target: dependent variable\\n    \\\"\\\"\\\"\\n\\n    TP = confusion_matrix(target, model.predict(predictors))[1, 1]\\n    FP = confusion_matrix(target, model.predict(predictors))[0, 1]\\n    FN = confusion_matrix(target, model.predict(predictors))[1, 0]\\n    Cost = TP * 15 + FP * 5 + FN * 40  # maintenance cost by using model\\n    Min_Cost = (\\n        TP + FN\\n    ) * 15  # minimum possible maintenance cost = number of actual positives\\n    Percent = (\\n        Min_Cost / Cost\\n    )  # ratio of minimum possible maintenance cost and maintenance cost by model\\n\\n    # predicting using the independent variables\\n    pred = model.predict(predictors)\\n\\n    acc = accuracy_score(target, pred)  # to compute Accuracy\\n    recall = recall_score(target, pred)  # to compute Recall\\n    precision = precision_score(target, pred)  # to compute Precision\\n    f1 = f1_score(target, pred)  # to compute F1-score\\n\\n    # creating a dataframe of metrics\\n    df_perf = pd.DataFrame(\\n        {\\n            \\\"Accuracy\\\": acc,\\n            \\\"Recall\\\": recall,\\n            \\\"Precision\\\": precision,\\n            \\\"F1\\\": f1,\\n            \\\"Minimum_Vs_Model_cost\\\": Percent,\\n        },\\n        index=[0],\\n    )\\n\\n    return df_perf\";\n",
       "                var nbb_formatted_code = \"# defining a function to compute different metrics to check performance of a classification model built using sklearn\\ndef model_performance_classification_sklearn(model, predictors, target):\\n    \\\"\\\"\\\"\\n    Function to compute different metrics to check classification model performance\\n\\n    model: classifier\\n    predictors: independent variables\\n    target: dependent variable\\n    \\\"\\\"\\\"\\n\\n    TP = confusion_matrix(target, model.predict(predictors))[1, 1]\\n    FP = confusion_matrix(target, model.predict(predictors))[0, 1]\\n    FN = confusion_matrix(target, model.predict(predictors))[1, 0]\\n    Cost = TP * 15 + FP * 5 + FN * 40  # maintenance cost by using model\\n    Min_Cost = (\\n        TP + FN\\n    ) * 15  # minimum possible maintenance cost = number of actual positives\\n    Percent = (\\n        Min_Cost / Cost\\n    )  # ratio of minimum possible maintenance cost and maintenance cost by model\\n\\n    # predicting using the independent variables\\n    pred = model.predict(predictors)\\n\\n    acc = accuracy_score(target, pred)  # to compute Accuracy\\n    recall = recall_score(target, pred)  # to compute Recall\\n    precision = precision_score(target, pred)  # to compute Precision\\n    f1 = f1_score(target, pred)  # to compute F1-score\\n\\n    # creating a dataframe of metrics\\n    df_perf = pd.DataFrame(\\n        {\\n            \\\"Accuracy\\\": acc,\\n            \\\"Recall\\\": recall,\\n            \\\"Precision\\\": precision,\\n            \\\"F1\\\": f1,\\n            \\\"Minimum_Vs_Model_cost\\\": Percent,\\n        },\\n        index=[0],\\n    )\\n\\n    return df_perf\";\n",
       "                var nbb_cells = Jupyter.notebook.get_cells();\n",
       "                for (var i = 0; i < nbb_cells.length; ++i) {\n",
       "                    if (nbb_cells[i].input_prompt_number == nbb_cell_id) {\n",
       "                        if (nbb_cells[i].get_text() == nbb_unformatted_code) {\n",
       "                             nbb_cells[i].set_text(nbb_formatted_code);\n",
       "                        }\n",
       "                        break;\n",
       "                    }\n",
       "                }\n",
       "            }, 500);\n",
       "            "
      ],
      "text/plain": [
       "<IPython.core.display.Javascript object>"
      ]
     },
     "metadata": {},
     "output_type": "display_data"
    }
   ],
   "source": [
    "# defining a function to compute different metrics to check performance of a classification model built using sklearn\n",
    "def model_performance_classification_sklearn(model, predictors, target):\n",
    "    \"\"\"\n",
    "    Function to compute different metrics to check classification model performance\n",
    "\n",
    "    model: classifier\n",
    "    predictors: independent variables\n",
    "    target: dependent variable\n",
    "    \"\"\"\n",
    "\n",
    "    TP = confusion_matrix(target, model.predict(predictors))[1, 1]\n",
    "    FP = confusion_matrix(target, model.predict(predictors))[0, 1]\n",
    "    FN = confusion_matrix(target, model.predict(predictors))[1, 0]\n",
    "    Cost = TP * 15 + FP * 5 + FN * 40  # maintenance cost by using model\n",
    "    Min_Cost = (\n",
    "        TP + FN\n",
    "    ) * 15  # minimum possible maintenance cost = number of actual positives\n",
    "    Percent = (\n",
    "        Min_Cost / Cost\n",
    "    )  # ratio of minimum possible maintenance cost and maintenance cost by model\n",
    "\n",
    "    # predicting using the independent variables\n",
    "    pred = model.predict(predictors)\n",
    "\n",
    "    acc = accuracy_score(target, pred)  # to compute Accuracy\n",
    "    recall = recall_score(target, pred)  # to compute Recall\n",
    "    precision = precision_score(target, pred)  # to compute Precision\n",
    "    f1 = f1_score(target, pred)  # to compute F1-score\n",
    "\n",
    "    # creating a dataframe of metrics\n",
    "    df_perf = pd.DataFrame(\n",
    "        {\n",
    "            \"Accuracy\": acc,\n",
    "            \"Recall\": recall,\n",
    "            \"Precision\": precision,\n",
    "            \"F1\": f1,\n",
    "            \"Minimum_Vs_Model_cost\": Percent,\n",
    "        },\n",
    "        index=[0],\n",
    "    )\n",
    "\n",
    "    return df_perf"
   ]
  },
  {
   "cell_type": "code",
   "execution_count": 21,
   "metadata": {
    "id": "8LXyI50s4jar"
   },
   "outputs": [
    {
     "data": {
      "application/javascript": [
       "\n",
       "            setTimeout(function() {\n",
       "                var nbb_cell_id = 21;\n",
       "                var nbb_unformatted_code = \"def confusion_matrix_sklearn(model, predictors, target):\\n    \\\"\\\"\\\"\\n    To plot the confusion_matrix with percentages\\n\\n    model: classifier\\n    predictors: independent variables\\n    target: dependent variable\\n    \\\"\\\"\\\"\\n    y_pred = model.predict(predictors)\\n    cm = confusion_matrix(target, y_pred)\\n    labels = np.asarray(\\n        [\\n            [\\\"{0:0.0f}\\\".format(item) + \\\"\\\\n{0:.2%}\\\".format(item / cm.flatten().sum())]\\n            for item in cm.flatten()\\n        ]\\n    ).reshape(2, 2)\\n\\n    plt.figure(figsize=(6, 4))\\n    sns.heatmap(cm, annot=labels, fmt=\\\"\\\")\\n    plt.ylabel(\\\"True label\\\")\\n    plt.xlabel(\\\"Predicted label\\\")\";\n",
       "                var nbb_formatted_code = \"def confusion_matrix_sklearn(model, predictors, target):\\n    \\\"\\\"\\\"\\n    To plot the confusion_matrix with percentages\\n\\n    model: classifier\\n    predictors: independent variables\\n    target: dependent variable\\n    \\\"\\\"\\\"\\n    y_pred = model.predict(predictors)\\n    cm = confusion_matrix(target, y_pred)\\n    labels = np.asarray(\\n        [\\n            [\\\"{0:0.0f}\\\".format(item) + \\\"\\\\n{0:.2%}\\\".format(item / cm.flatten().sum())]\\n            for item in cm.flatten()\\n        ]\\n    ).reshape(2, 2)\\n\\n    plt.figure(figsize=(6, 4))\\n    sns.heatmap(cm, annot=labels, fmt=\\\"\\\")\\n    plt.ylabel(\\\"True label\\\")\\n    plt.xlabel(\\\"Predicted label\\\")\";\n",
       "                var nbb_cells = Jupyter.notebook.get_cells();\n",
       "                for (var i = 0; i < nbb_cells.length; ++i) {\n",
       "                    if (nbb_cells[i].input_prompt_number == nbb_cell_id) {\n",
       "                        if (nbb_cells[i].get_text() == nbb_unformatted_code) {\n",
       "                             nbb_cells[i].set_text(nbb_formatted_code);\n",
       "                        }\n",
       "                        break;\n",
       "                    }\n",
       "                }\n",
       "            }, 500);\n",
       "            "
      ],
      "text/plain": [
       "<IPython.core.display.Javascript object>"
      ]
     },
     "metadata": {},
     "output_type": "display_data"
    }
   ],
   "source": [
    "def confusion_matrix_sklearn(model, predictors, target):\n",
    "    \"\"\"\n",
    "    To plot the confusion_matrix with percentages\n",
    "\n",
    "    model: classifier\n",
    "    predictors: independent variables\n",
    "    target: dependent variable\n",
    "    \"\"\"\n",
    "    y_pred = model.predict(predictors)\n",
    "    cm = confusion_matrix(target, y_pred)\n",
    "    labels = np.asarray(\n",
    "        [\n",
    "            [\"{0:0.0f}\".format(item) + \"\\n{0:.2%}\".format(item / cm.flatten().sum())]\n",
    "            for item in cm.flatten()\n",
    "        ]\n",
    "    ).reshape(2, 2)\n",
    "\n",
    "    plt.figure(figsize=(6, 4))\n",
    "    sns.heatmap(cm, annot=labels, fmt=\"\")\n",
    "    plt.ylabel(\"True label\")\n",
    "    plt.xlabel(\"Predicted label\")"
   ]
  },
  {
   "cell_type": "markdown",
   "metadata": {
    "id": "Rxw_gopM4jar"
   },
   "source": [
    "###  Defining scorer to be used for hyperparameter tuning\n",
    "\n",
    "- Every prediction of a classification model will be either a TP, FP, FN or TN\n",
    "- For this classification problem, we need to reduce the maintenance cost, which can be reiterated as:\n",
    "  - Maximize (minimum possible maintenance cost/maintenance cost)"
   ]
  },
  {
   "cell_type": "code",
   "execution_count": 22,
   "metadata": {
    "id": "X09SzkBA4jas"
   },
   "outputs": [
    {
     "data": {
      "application/javascript": [
       "\n",
       "            setTimeout(function() {\n",
       "                var nbb_cell_id = 22;\n",
       "                var nbb_unformatted_code = \"# defining metric to be used for optimization and with cross-validation\\ndef Minimum_Vs_Model_cost(y_train, y_pred):\\n    \\\"\\\"\\\"\\n    We want the model to optimize the maintenance cost and reduce it to the lowest possible value.\\n    The lowest possible maintenance cost will be achieved when each sample is predicted correctly.\\n\\n    In such a scenario, the maintenance cost will be the total number of failures times the maintenance cost of replacing one generator,\\n    which is given by (TP + FN) * 40 (i.e., the actual positives*40).\\n    For any other scenario,\\n    the maintenance cost associated with the model will be given by (TP * 15 + FP * 5 + FN * 40).\\n\\n    We will use the ratio of these two maintenance costs as the cost function for our model.\\n    The greater the ratio, the lower the associated maintenance cost and the better the model.\\n    \\\"\\\"\\\"\\n    TP = confusion_matrix(y_train, y_pred)[1, 1]\\n    FP = confusion_matrix(y_train, y_pred)[0, 1]\\n    FN = confusion_matrix(y_train, y_pred)[1, 0]\\n    return ((TP + FN) * 15) / (TP * 15 + FP * 5 + FN * 40)\\n\\n\\n# A value of .80 here, will represent that the minimum maintenance cost is 80% of the maintenance cost associated with the model.\\n# Since minimum maintenance cost is constant for any data, when minimum cost will become 100% of maintenance cost associated with the model\\n# Model will have give the least possible maintenance cost.\\n\\n\\n# Type of scoring used to compare parameter combinations\\nscorer = metrics.make_scorer(Minimum_Vs_Model_cost, greater_is_better=True)\\n\\n# Higher the values, the lower the maintenance cost\";\n",
       "                var nbb_formatted_code = \"# defining metric to be used for optimization and with cross-validation\\ndef Minimum_Vs_Model_cost(y_train, y_pred):\\n    \\\"\\\"\\\"\\n    We want the model to optimize the maintenance cost and reduce it to the lowest possible value.\\n    The lowest possible maintenance cost will be achieved when each sample is predicted correctly.\\n\\n    In such a scenario, the maintenance cost will be the total number of failures times the maintenance cost of replacing one generator,\\n    which is given by (TP + FN) * 40 (i.e., the actual positives*40).\\n    For any other scenario,\\n    the maintenance cost associated with the model will be given by (TP * 15 + FP * 5 + FN * 40).\\n\\n    We will use the ratio of these two maintenance costs as the cost function for our model.\\n    The greater the ratio, the lower the associated maintenance cost and the better the model.\\n    \\\"\\\"\\\"\\n    TP = confusion_matrix(y_train, y_pred)[1, 1]\\n    FP = confusion_matrix(y_train, y_pred)[0, 1]\\n    FN = confusion_matrix(y_train, y_pred)[1, 0]\\n    return ((TP + FN) * 15) / (TP * 15 + FP * 5 + FN * 40)\\n\\n\\n# A value of .80 here, will represent that the minimum maintenance cost is 80% of the maintenance cost associated with the model.\\n# Since minimum maintenance cost is constant for any data, when minimum cost will become 100% of maintenance cost associated with the model\\n# Model will have give the least possible maintenance cost.\\n\\n\\n# Type of scoring used to compare parameter combinations\\nscorer = metrics.make_scorer(Minimum_Vs_Model_cost, greater_is_better=True)\\n\\n# Higher the values, the lower the maintenance cost\";\n",
       "                var nbb_cells = Jupyter.notebook.get_cells();\n",
       "                for (var i = 0; i < nbb_cells.length; ++i) {\n",
       "                    if (nbb_cells[i].input_prompt_number == nbb_cell_id) {\n",
       "                        if (nbb_cells[i].get_text() == nbb_unformatted_code) {\n",
       "                             nbb_cells[i].set_text(nbb_formatted_code);\n",
       "                        }\n",
       "                        break;\n",
       "                    }\n",
       "                }\n",
       "            }, 500);\n",
       "            "
      ],
      "text/plain": [
       "<IPython.core.display.Javascript object>"
      ]
     },
     "metadata": {},
     "output_type": "display_data"
    }
   ],
   "source": [
    "# defining metric to be used for optimization and with cross-validation\n",
    "def Minimum_Vs_Model_cost(y_train, y_pred):\n",
    "    \"\"\"\n",
    "    We want the model to optimize the maintenance cost and reduce it to the lowest possible value.\n",
    "    The lowest possible maintenance cost will be achieved when each sample is predicted correctly.\n",
    "\n",
    "    In such a scenario, the maintenance cost will be the total number of failures times the maintenance cost of replacing one generator,\n",
    "    which is given by (TP + FN) * 40 (i.e., the actual positives*40).\n",
    "    For any other scenario,\n",
    "    the maintenance cost associated with the model will be given by (TP * 15 + FP * 5 + FN * 40).\n",
    "\n",
    "    We will use the ratio of these two maintenance costs as the cost function for our model.\n",
    "    The greater the ratio, the lower the associated maintenance cost and the better the model.\n",
    "    \"\"\"\n",
    "    TP = confusion_matrix(y_train, y_pred)[1, 1]\n",
    "    FP = confusion_matrix(y_train, y_pred)[0, 1]\n",
    "    FN = confusion_matrix(y_train, y_pred)[1, 0]\n",
    "    return ((TP + FN) * 15) / (TP * 15 + FP * 5 + FN * 40)\n",
    "\n",
    "\n",
    "# A value of .80 here, will represent that the minimum maintenance cost is 80% of the maintenance cost associated with the model.\n",
    "# Since minimum maintenance cost is constant for any data, when minimum cost will become 100% of maintenance cost associated with the model\n",
    "# Model will have give the least possible maintenance cost.\n",
    "\n",
    "\n",
    "# Type of scoring used to compare parameter combinations\n",
    "scorer = metrics.make_scorer(Minimum_Vs_Model_cost, greater_is_better=True)\n",
    "\n",
    "# Higher the values, the lower the maintenance cost"
   ]
  },
  {
   "cell_type": "markdown",
   "metadata": {
    "id": "eqCDCbcw4jas"
   },
   "source": [
    "## Model Building with Original Training data"
   ]
  },
  {
   "cell_type": "code",
   "execution_count": 23,
   "metadata": {
    "id": "V-tpzI7g4jas"
   },
   "outputs": [
    {
     "name": "stdout",
     "output_type": "stream",
     "text": [
      "\n",
      "Cross-Validation Performance:\n",
      "\n",
      "Logistic Regression: 0.5315403616048175\n",
      "dtree: 0.6560666496504416\n",
      "Random forest: 0.7109742970474746\n",
      "Bagging: 0.6812807591389467\n",
      "Adaboost: 0.6023360315420371\n",
      "GBM: 0.6782623334842277\n",
      "Xgboost: 0.7713551730843292\n"
     ]
    },
    {
     "data": {
      "application/javascript": [
       "\n",
       "            setTimeout(function() {\n",
       "                var nbb_cell_id = 23;\n",
       "                var nbb_unformatted_code = \"models = []  # Empty list to store all the models\\n\\n# Appending models into the list\\n\\nmodels.append(\\n    (\\\"Logistic Regression\\\", LogisticRegression(solver=\\\"newton-cg\\\", random_state=1))\\n)\\nmodels.append((\\\"dtree\\\", DecisionTreeClassifier(random_state=1)))\\nmodels.append((\\\"Random forest\\\", RandomForestClassifier(random_state=1)))\\nmodels.append((\\\"Bagging\\\", BaggingClassifier(random_state=1)))\\nmodels.append((\\\"Adaboost\\\", AdaBoostClassifier(random_state=1)))\\nmodels.append((\\\"GBM\\\", GradientBoostingClassifier(random_state=1)))\\nmodels.append((\\\"Xgboost\\\", XGBClassifier(random_state=1, eval_metric=\\\"logloss\\\")))\\n\\nresults = []  # Empty list to store all model's CV scores\\nnames = []  # Empty list to store name of the models\\nscore = []\\n\\n# loop through all models to get the mean cross validated score\\n\\nprint(\\\"\\\\n\\\" \\\"Cross-Validation Performance:\\\" \\\"\\\\n\\\")\\n\\nfor name, model in models:\\n    kfold = StratifiedKFold(\\n        n_splits=5, shuffle=True, random_state=1\\n    )  # Setting number of splits equal to 5\\n    cv_result = cross_val_score(\\n        estimator=model, X=X_train, y=y_train, scoring=scorer, cv=kfold\\n    )\\n    results.append(cv_result)\\n    names.append(name)\\n    print(\\\"{}: {}\\\".format(name, cv_result.mean()))\";\n",
       "                var nbb_formatted_code = \"models = []  # Empty list to store all the models\\n\\n# Appending models into the list\\n\\nmodels.append(\\n    (\\\"Logistic Regression\\\", LogisticRegression(solver=\\\"newton-cg\\\", random_state=1))\\n)\\nmodels.append((\\\"dtree\\\", DecisionTreeClassifier(random_state=1)))\\nmodels.append((\\\"Random forest\\\", RandomForestClassifier(random_state=1)))\\nmodels.append((\\\"Bagging\\\", BaggingClassifier(random_state=1)))\\nmodels.append((\\\"Adaboost\\\", AdaBoostClassifier(random_state=1)))\\nmodels.append((\\\"GBM\\\", GradientBoostingClassifier(random_state=1)))\\nmodels.append((\\\"Xgboost\\\", XGBClassifier(random_state=1, eval_metric=\\\"logloss\\\")))\\n\\nresults = []  # Empty list to store all model's CV scores\\nnames = []  # Empty list to store name of the models\\nscore = []\\n\\n# loop through all models to get the mean cross validated score\\n\\nprint(\\\"\\\\n\\\" \\\"Cross-Validation Performance:\\\" \\\"\\\\n\\\")\\n\\nfor name, model in models:\\n    kfold = StratifiedKFold(\\n        n_splits=5, shuffle=True, random_state=1\\n    )  # Setting number of splits equal to 5\\n    cv_result = cross_val_score(\\n        estimator=model, X=X_train, y=y_train, scoring=scorer, cv=kfold\\n    )\\n    results.append(cv_result)\\n    names.append(name)\\n    print(\\\"{}: {}\\\".format(name, cv_result.mean()))\";\n",
       "                var nbb_cells = Jupyter.notebook.get_cells();\n",
       "                for (var i = 0; i < nbb_cells.length; ++i) {\n",
       "                    if (nbb_cells[i].input_prompt_number == nbb_cell_id) {\n",
       "                        if (nbb_cells[i].get_text() == nbb_unformatted_code) {\n",
       "                             nbb_cells[i].set_text(nbb_formatted_code);\n",
       "                        }\n",
       "                        break;\n",
       "                    }\n",
       "                }\n",
       "            }, 500);\n",
       "            "
      ],
      "text/plain": [
       "<IPython.core.display.Javascript object>"
      ]
     },
     "metadata": {},
     "output_type": "display_data"
    }
   ],
   "source": [
    "models = []  # Empty list to store all the models\n",
    "\n",
    "# Appending models into the list\n",
    "\n",
    "models.append(\n",
    "    (\"Logistic Regression\", LogisticRegression(solver=\"newton-cg\", random_state=1))\n",
    ")\n",
    "models.append((\"dtree\", DecisionTreeClassifier(random_state=1)))\n",
    "models.append((\"Random forest\", RandomForestClassifier(random_state=1)))\n",
    "models.append((\"Bagging\", BaggingClassifier(random_state=1)))\n",
    "models.append((\"Adaboost\", AdaBoostClassifier(random_state=1)))\n",
    "models.append((\"GBM\", GradientBoostingClassifier(random_state=1)))\n",
    "models.append((\"Xgboost\", XGBClassifier(random_state=1, eval_metric=\"logloss\")))\n",
    "\n",
    "results = []  # Empty list to store all model's CV scores\n",
    "names = []  # Empty list to store name of the models\n",
    "score = []\n",
    "\n",
    "# loop through all models to get the mean cross validated score\n",
    "\n",
    "print(\"\\n\" \"Cross-Validation Performance:\" \"\\n\")\n",
    "\n",
    "for name, model in models:\n",
    "    kfold = StratifiedKFold(\n",
    "        n_splits=5, shuffle=True, random_state=1\n",
    "    )  # Setting number of splits equal to 5\n",
    "    cv_result = cross_val_score(\n",
    "        estimator=model, X=X_train, y=y_train, scoring=scorer, cv=kfold\n",
    "    )\n",
    "    results.append(cv_result)\n",
    "    names.append(name)\n",
    "    print(\"{}: {}\".format(name, cv_result.mean()))"
   ]
  },
  {
   "cell_type": "code",
   "execution_count": 24,
   "metadata": {},
   "outputs": [
    {
     "name": "stdout",
     "output_type": "stream",
     "text": [
      "\n",
      "Training Performance:\n",
      "\n",
      "Logistic Regression: 0.5319050376375217\n",
      "dtree: 1.0\n",
      "Random forest: 0.9989125706829056\n",
      "Bagging: 0.933916226108174\n",
      "Adaboost: 0.6077808654227869\n",
      "GBM: 0.7310202132739138\n",
      "Xgboost: 1.0\n"
     ]
    },
    {
     "data": {
      "application/javascript": [
       "\n",
       "            setTimeout(function() {\n",
       "                var nbb_cell_id = 24;\n",
       "                var nbb_unformatted_code = \"print(\\\"\\\\n\\\" \\\"Training Performance:\\\" \\\"\\\\n\\\")\\n\\nfor name, model in models:\\n    model.fit(X_train, y_train)\\n    scores = Minimum_Vs_Model_cost(y_train, model.predict(X_train))\\n    print(\\\"{}: {}\\\".format(name, scores))\";\n",
       "                var nbb_formatted_code = \"print(\\\"\\\\n\\\" \\\"Training Performance:\\\" \\\"\\\\n\\\")\\n\\nfor name, model in models:\\n    model.fit(X_train, y_train)\\n    scores = Minimum_Vs_Model_cost(y_train, model.predict(X_train))\\n    print(\\\"{}: {}\\\".format(name, scores))\";\n",
       "                var nbb_cells = Jupyter.notebook.get_cells();\n",
       "                for (var i = 0; i < nbb_cells.length; ++i) {\n",
       "                    if (nbb_cells[i].input_prompt_number == nbb_cell_id) {\n",
       "                        if (nbb_cells[i].get_text() == nbb_unformatted_code) {\n",
       "                             nbb_cells[i].set_text(nbb_formatted_code);\n",
       "                        }\n",
       "                        break;\n",
       "                    }\n",
       "                }\n",
       "            }, 500);\n",
       "            "
      ],
      "text/plain": [
       "<IPython.core.display.Javascript object>"
      ]
     },
     "metadata": {},
     "output_type": "display_data"
    }
   ],
   "source": [
    "print(\"\\n\" \"Training Performance:\" \"\\n\")\n",
    "\n",
    "for name, model in models:\n",
    "    model.fit(X_train, y_train)\n",
    "    scores = Minimum_Vs_Model_cost(y_train, model.predict(X_train))\n",
    "    print(\"{}: {}\".format(name, scores))"
   ]
  },
  {
   "cell_type": "code",
   "execution_count": 65,
   "metadata": {},
   "outputs": [
    {
     "name": "stdout",
     "output_type": "stream",
     "text": [
      "\n",
      "Validation Performance:\n",
      "\n",
      "Logistic Regression: 0.5191242416249011\n",
      "dtree: 0.6584141853462696\n",
      "Random forest: 0.7158966897053474\n",
      "Bagging: 0.6809688581314879\n",
      "Adaboost: 0.5885167464114832\n",
      "GBM: 0.6742034943473793\n",
      "Xgboost: 0.7708578143360753\n"
     ]
    },
    {
     "data": {
      "application/javascript": [
       "\n",
       "            setTimeout(function() {\n",
       "                var nbb_cell_id = 65;\n",
       "                var nbb_unformatted_code = \"print(\\\"\\\\n\\\" \\\"Validation Performance:\\\" \\\"\\\\n\\\")\\n\\nfor name, model in models:\\n    model.fit(X_train, y_train)\\n    scores = Minimum_Vs_Model_cost(y_val, model.predict(X_val))\\n    print(\\\"{}: {}\\\".format(name, scores))\";\n",
       "                var nbb_formatted_code = \"print(\\\"\\\\n\\\" \\\"Validation Performance:\\\" \\\"\\\\n\\\")\\n\\nfor name, model in models:\\n    model.fit(X_train, y_train)\\n    scores = Minimum_Vs_Model_cost(y_val, model.predict(X_val))\\n    print(\\\"{}: {}\\\".format(name, scores))\";\n",
       "                var nbb_cells = Jupyter.notebook.get_cells();\n",
       "                for (var i = 0; i < nbb_cells.length; ++i) {\n",
       "                    if (nbb_cells[i].input_prompt_number == nbb_cell_id) {\n",
       "                        if (nbb_cells[i].get_text() == nbb_unformatted_code) {\n",
       "                             nbb_cells[i].set_text(nbb_formatted_code);\n",
       "                        }\n",
       "                        break;\n",
       "                    }\n",
       "                }\n",
       "            }, 500);\n",
       "            "
      ],
      "text/plain": [
       "<IPython.core.display.Javascript object>"
      ]
     },
     "metadata": {},
     "output_type": "display_data"
    }
   ],
   "source": [
    "print(\"\\n\" \"Validation Performance:\" \"\\n\")\n",
    "\n",
    "for name, model in models:\n",
    "    model.fit(X_train, y_train)\n",
    "    scores = Minimum_Vs_Model_cost(y_val, model.predict(X_val))\n",
    "    print(\"{}: {}\".format(name, scores))"
   ]
  },
  {
   "cell_type": "markdown",
   "metadata": {},
   "source": [
    "- The cross validation training performance scores (customized metric) are similar to the validation perfromance score. This indicates that the default algorithms on original dataset are able to generalize well\n",
    "- There is a tendency for some models (decision tree, random forest, bagging and XGBoost) to overfit the training set; as the training performance score (customized metric) approaches 1"
   ]
  },
  {
   "cell_type": "code",
   "execution_count": 25,
   "metadata": {},
   "outputs": [
    {
     "data": {
      "image/png": "[encoded data removed]",
      "text/plain": [
       "<Figure size 720x288 with 1 Axes>"
      ]
     },
     "metadata": {
      "needs_background": "light"
     },
     "output_type": "display_data"
    },
    {
     "data": {
      "application/javascript": [
       "\n",
       "            setTimeout(function() {\n",
       "                var nbb_cell_id = 25;\n",
       "                var nbb_unformatted_code = \"# Plotting boxplots for CV scores of all models defined above\\n\\nfig = plt.figure(figsize=(10, 4))\\n\\nfig.suptitle(\\\"Algorithm Comparison\\\")\\nax = fig.add_subplot(111)\\n\\nplt.boxplot(results)\\nax.set_xticklabels(names)\\n\\nplt.show()\";\n",
       "                var nbb_formatted_code = \"# Plotting boxplots for CV scores of all models defined above\\n\\nfig = plt.figure(figsize=(10, 4))\\n\\nfig.suptitle(\\\"Algorithm Comparison\\\")\\nax = fig.add_subplot(111)\\n\\nplt.boxplot(results)\\nax.set_xticklabels(names)\\n\\nplt.show()\";\n",
       "                var nbb_cells = Jupyter.notebook.get_cells();\n",
       "                for (var i = 0; i < nbb_cells.length; ++i) {\n",
       "                    if (nbb_cells[i].input_prompt_number == nbb_cell_id) {\n",
       "                        if (nbb_cells[i].get_text() == nbb_unformatted_code) {\n",
       "                             nbb_cells[i].set_text(nbb_formatted_code);\n",
       "                        }\n",
       "                        break;\n",
       "                    }\n",
       "                }\n",
       "            }, 500);\n",
       "            "
      ],
      "text/plain": [
       "<IPython.core.display.Javascript object>"
      ]
     },
     "metadata": {},
     "output_type": "display_data"
    }
   ],
   "source": [
    "# Plotting boxplots for CV scores of all models defined above\n",
    "\n",
    "fig = plt.figure(figsize=(10, 4))\n",
    "\n",
    "fig.suptitle(\"Algorithm Comparison\")\n",
    "ax = fig.add_subplot(111)\n",
    "\n",
    "plt.boxplot(results)\n",
    "ax.set_xticklabels(names)\n",
    "\n",
    "plt.show()"
   ]
  },
  {
   "cell_type": "markdown",
   "metadata": {},
   "source": [
    "- XGBoost (~ 0.77) and Random Forest (~ 0.71) have the best average (& median) training cross validation scores (on the customized metric). This is closely followed by Bagging Classifier (~ 0.68)\n",
    "- XGBoost and AdaBoost each have one outlier as can be observed from the boxplot\n",
    "- The boxplot widths (spread of CV scores) is small for XGBoost, Random Forest and Bagging Classifier as well, indicating these are reliable models to choose for further optimization"
   ]
  },
  {
   "cell_type": "markdown",
   "metadata": {
    "id": "oBKJaFU24jas"
   },
   "source": [
    "## Model Building with Oversampled Training data\n"
   ]
  },
  {
   "cell_type": "code",
   "execution_count": 26,
   "metadata": {},
   "outputs": [
    {
     "name": "stdout",
     "output_type": "stream",
     "text": [
      "Before Oversampling, counts of label '1 (Failures)': 1531\n",
      "Before Oversampling, counts of label '0 (No failures)': 26469 \n",
      "\n"
     ]
    },
    {
     "data": {
      "application/javascript": [
       "\n",
       "            setTimeout(function() {\n",
       "                var nbb_cell_id = 26;\n",
       "                var nbb_unformatted_code = \"print(\\n    \\\"Before Oversampling, counts of label '1 (Failures)': {}\\\".format(sum(y_train == 1))\\n)\\nprint(\\n    \\\"Before Oversampling, counts of label '0 (No failures)': {} \\\\n\\\".format(\\n        sum(y_train == 0)\\n    )\\n)\";\n",
       "                var nbb_formatted_code = \"print(\\n    \\\"Before Oversampling, counts of label '1 (Failures)': {}\\\".format(sum(y_train == 1))\\n)\\nprint(\\n    \\\"Before Oversampling, counts of label '0 (No failures)': {} \\\\n\\\".format(\\n        sum(y_train == 0)\\n    )\\n)\";\n",
       "                var nbb_cells = Jupyter.notebook.get_cells();\n",
       "                for (var i = 0; i < nbb_cells.length; ++i) {\n",
       "                    if (nbb_cells[i].input_prompt_number == nbb_cell_id) {\n",
       "                        if (nbb_cells[i].get_text() == nbb_unformatted_code) {\n",
       "                             nbb_cells[i].set_text(nbb_formatted_code);\n",
       "                        }\n",
       "                        break;\n",
       "                    }\n",
       "                }\n",
       "            }, 500);\n",
       "            "
      ],
      "text/plain": [
       "<IPython.core.display.Javascript object>"
      ]
     },
     "metadata": {},
     "output_type": "display_data"
    }
   ],
   "source": [
    "print(\n",
    "    \"Before Oversampling, counts of label '1 (Failures)': {}\".format(sum(y_train == 1))\n",
    ")\n",
    "print(\n",
    "    \"Before Oversampling, counts of label '0 (No failures)': {} \\n\".format(\n",
    "        sum(y_train == 0)\n",
    "    )\n",
    ")"
   ]
  },
  {
   "cell_type": "code",
   "execution_count": 27,
   "metadata": {
    "id": "FKxnygkE4jat"
   },
   "outputs": [
    {
     "data": {
      "application/javascript": [
       "\n",
       "            setTimeout(function() {\n",
       "                var nbb_cell_id = 27;\n",
       "                var nbb_unformatted_code = \"# Synthetic Minority Over Sampling Technique\\nsm = SMOTE(sampling_strategy=1, k_neighbors=5, random_state=1)\\nX_train_over, y_train_over = sm.fit_resample(X_train, y_train)\";\n",
       "                var nbb_formatted_code = \"# Synthetic Minority Over Sampling Technique\\nsm = SMOTE(sampling_strategy=1, k_neighbors=5, random_state=1)\\nX_train_over, y_train_over = sm.fit_resample(X_train, y_train)\";\n",
       "                var nbb_cells = Jupyter.notebook.get_cells();\n",
       "                for (var i = 0; i < nbb_cells.length; ++i) {\n",
       "                    if (nbb_cells[i].input_prompt_number == nbb_cell_id) {\n",
       "                        if (nbb_cells[i].get_text() == nbb_unformatted_code) {\n",
       "                             nbb_cells[i].set_text(nbb_formatted_code);\n",
       "                        }\n",
       "                        break;\n",
       "                    }\n",
       "                }\n",
       "            }, 500);\n",
       "            "
      ],
      "text/plain": [
       "<IPython.core.display.Javascript object>"
      ]
     },
     "metadata": {},
     "output_type": "display_data"
    }
   ],
   "source": [
    "# Synthetic Minority Over Sampling Technique\n",
    "sm = SMOTE(sampling_strategy=1, k_neighbors=5, random_state=1)\n",
    "X_train_over, y_train_over = sm.fit_resample(X_train, y_train)"
   ]
  },
  {
   "cell_type": "code",
   "execution_count": 28,
   "metadata": {
    "id": "uYDlbnUO4jat"
   },
   "outputs": [
    {
     "name": "stdout",
     "output_type": "stream",
     "text": [
      "After Oversampling, counts of label '1 (Failures)': 26469\n",
      "After Oversampling, counts of label '0 (No failures)': 26469 \n",
      "\n"
     ]
    },
    {
     "data": {
      "application/javascript": [
       "\n",
       "            setTimeout(function() {\n",
       "                var nbb_cell_id = 28;\n",
       "                var nbb_unformatted_code = \"print(\\n    \\\"After Oversampling, counts of label '1 (Failures)': {}\\\".format(\\n        sum(y_train_over == 1)\\n    )\\n)\\nprint(\\n    \\\"After Oversampling, counts of label '0 (No failures)': {} \\\\n\\\".format(\\n        sum(y_train_over == 0)\\n    )\\n)\";\n",
       "                var nbb_formatted_code = \"print(\\n    \\\"After Oversampling, counts of label '1 (Failures)': {}\\\".format(\\n        sum(y_train_over == 1)\\n    )\\n)\\nprint(\\n    \\\"After Oversampling, counts of label '0 (No failures)': {} \\\\n\\\".format(\\n        sum(y_train_over == 0)\\n    )\\n)\";\n",
       "                var nbb_cells = Jupyter.notebook.get_cells();\n",
       "                for (var i = 0; i < nbb_cells.length; ++i) {\n",
       "                    if (nbb_cells[i].input_prompt_number == nbb_cell_id) {\n",
       "                        if (nbb_cells[i].get_text() == nbb_unformatted_code) {\n",
       "                             nbb_cells[i].set_text(nbb_formatted_code);\n",
       "                        }\n",
       "                        break;\n",
       "                    }\n",
       "                }\n",
       "            }, 500);\n",
       "            "
      ],
      "text/plain": [
       "<IPython.core.display.Javascript object>"
      ]
     },
     "metadata": {},
     "output_type": "display_data"
    }
   ],
   "source": [
    "print(\n",
    "    \"After Oversampling, counts of label '1 (Failures)': {}\".format(\n",
    "        sum(y_train_over == 1)\n",
    "    )\n",
    ")\n",
    "print(\n",
    "    \"After Oversampling, counts of label '0 (No failures)': {} \\n\".format(\n",
    "        sum(y_train_over == 0)\n",
    "    )\n",
    ")"
   ]
  },
  {
   "cell_type": "markdown",
   "metadata": {},
   "source": [
    "- To handle class imbalance in \"Target\" attribute, synthetic minority oversampling technique was employed to generate synthetic data points for minority class of importance (i.e, class \"1\" or No failures)\n",
    "- After applying SMOTE, we have equal number of class \"1\" and calss \"0\" target outcomes "
   ]
  },
  {
   "cell_type": "code",
   "execution_count": 29,
   "metadata": {},
   "outputs": [
    {
     "name": "stdout",
     "output_type": "stream",
     "text": [
      "\n",
      "Cross-Validation Performance:\n",
      "\n",
      "Logistic Regression: 0.7991885856657728\n",
      "dtree: 0.935799411923789\n",
      "Random forest: 0.9684099076356956\n",
      "Bagging: 0.9567710595379042\n",
      "Adaboost: 0.8302735716914681\n",
      "GBM: 0.8698213334032019\n",
      "Xgboost: 0.9735494688964318\n"
     ]
    },
    {
     "data": {
      "application/javascript": [
       "\n",
       "            setTimeout(function() {\n",
       "                var nbb_cell_id = 29;\n",
       "                var nbb_unformatted_code = \"models_over = []  # Empty list to store all the models\\n\\n# Appending models into the list\\n\\nmodels_over.append(\\n    (\\\"Logistic Regression\\\", LogisticRegression(solver=\\\"newton-cg\\\", random_state=1))\\n)\\nmodels_over.append((\\\"dtree\\\", DecisionTreeClassifier(random_state=1)))\\nmodels_over.append((\\\"Random forest\\\", RandomForestClassifier(random_state=1)))\\nmodels_over.append((\\\"Bagging\\\", BaggingClassifier(random_state=1)))\\nmodels_over.append((\\\"Adaboost\\\", AdaBoostClassifier(random_state=1)))\\nmodels_over.append((\\\"GBM\\\", GradientBoostingClassifier(random_state=1)))\\nmodels_over.append((\\\"Xgboost\\\", XGBClassifier(random_state=1, eval_metric=\\\"logloss\\\")))\\n\\nresults_over = []  # Empty list to store all model's CV scores\\nnames_over = []  # Empty list to store name of the models\\nscore_over = []\\n\\n# loop through all models to get the mean cross validated score\\n\\nprint(\\\"\\\\n\\\" \\\"Cross-Validation Performance:\\\" \\\"\\\\n\\\")\\n\\nfor name, model in models_over:\\n    kfold = StratifiedKFold(\\n        n_splits=5, shuffle=True, random_state=1\\n    )  # Setting number of splits equal to 5\\n    cv_result = cross_val_score(\\n        estimator=model, X=X_train_over, y=y_train_over, scoring=scorer, cv=kfold\\n    )\\n    results_over.append(cv_result)\\n    names_over.append(name)\\n    print(\\\"{}: {}\\\".format(name, cv_result.mean()))\";\n",
       "                var nbb_formatted_code = \"models_over = []  # Empty list to store all the models\\n\\n# Appending models into the list\\n\\nmodels_over.append(\\n    (\\\"Logistic Regression\\\", LogisticRegression(solver=\\\"newton-cg\\\", random_state=1))\\n)\\nmodels_over.append((\\\"dtree\\\", DecisionTreeClassifier(random_state=1)))\\nmodels_over.append((\\\"Random forest\\\", RandomForestClassifier(random_state=1)))\\nmodels_over.append((\\\"Bagging\\\", BaggingClassifier(random_state=1)))\\nmodels_over.append((\\\"Adaboost\\\", AdaBoostClassifier(random_state=1)))\\nmodels_over.append((\\\"GBM\\\", GradientBoostingClassifier(random_state=1)))\\nmodels_over.append((\\\"Xgboost\\\", XGBClassifier(random_state=1, eval_metric=\\\"logloss\\\")))\\n\\nresults_over = []  # Empty list to store all model's CV scores\\nnames_over = []  # Empty list to store name of the models\\nscore_over = []\\n\\n# loop through all models to get the mean cross validated score\\n\\nprint(\\\"\\\\n\\\" \\\"Cross-Validation Performance:\\\" \\\"\\\\n\\\")\\n\\nfor name, model in models_over:\\n    kfold = StratifiedKFold(\\n        n_splits=5, shuffle=True, random_state=1\\n    )  # Setting number of splits equal to 5\\n    cv_result = cross_val_score(\\n        estimator=model, X=X_train_over, y=y_train_over, scoring=scorer, cv=kfold\\n    )\\n    results_over.append(cv_result)\\n    names_over.append(name)\\n    print(\\\"{}: {}\\\".format(name, cv_result.mean()))\";\n",
       "                var nbb_cells = Jupyter.notebook.get_cells();\n",
       "                for (var i = 0; i < nbb_cells.length; ++i) {\n",
       "                    if (nbb_cells[i].input_prompt_number == nbb_cell_id) {\n",
       "                        if (nbb_cells[i].get_text() == nbb_unformatted_code) {\n",
       "                             nbb_cells[i].set_text(nbb_formatted_code);\n",
       "                        }\n",
       "                        break;\n",
       "                    }\n",
       "                }\n",
       "            }, 500);\n",
       "            "
      ],
      "text/plain": [
       "<IPython.core.display.Javascript object>"
      ]
     },
     "metadata": {},
     "output_type": "display_data"
    }
   ],
   "source": [
    "models_over = []  # Empty list to store all the models\n",
    "\n",
    "# Appending models into the list\n",
    "\n",
    "models_over.append(\n",
    "    (\"Logistic Regression\", LogisticRegression(solver=\"newton-cg\", random_state=1))\n",
    ")\n",
    "models_over.append((\"dtree\", DecisionTreeClassifier(random_state=1)))\n",
    "models_over.append((\"Random forest\", RandomForestClassifier(random_state=1)))\n",
    "models_over.append((\"Bagging\", BaggingClassifier(random_state=1)))\n",
    "models_over.append((\"Adaboost\", AdaBoostClassifier(random_state=1)))\n",
    "models_over.append((\"GBM\", GradientBoostingClassifier(random_state=1)))\n",
    "models_over.append((\"Xgboost\", XGBClassifier(random_state=1, eval_metric=\"logloss\")))\n",
    "\n",
    "results_over = []  # Empty list to store all model's CV scores\n",
    "names_over = []  # Empty list to store name of the models\n",
    "score_over = []\n",
    "\n",
    "# loop through all models to get the mean cross validated score\n",
    "\n",
    "print(\"\\n\" \"Cross-Validation Performance:\" \"\\n\")\n",
    "\n",
    "for name, model in models_over:\n",
    "    kfold = StratifiedKFold(\n",
    "        n_splits=5, shuffle=True, random_state=1\n",
    "    )  # Setting number of splits equal to 5\n",
    "    cv_result = cross_val_score(\n",
    "        estimator=model, X=X_train_over, y=y_train_over, scoring=scorer, cv=kfold\n",
    "    )\n",
    "    results_over.append(cv_result)\n",
    "    names_over.append(name)\n",
    "    print(\"{}: {}\".format(name, cv_result.mean()))"
   ]
  },
  {
   "cell_type": "code",
   "execution_count": 30,
   "metadata": {},
   "outputs": [
    {
     "name": "stdout",
     "output_type": "stream",
     "text": [
      "\n",
      "Training Performance:\n",
      "\n",
      "Logistic Regression: 0.7997723770483548\n",
      "dtree: 1.0\n",
      "Random forest: 1.0\n",
      "Bagging: 0.9976255088195387\n",
      "Adaboost: 0.8345542254779346\n",
      "GBM: 0.8726427535276275\n",
      "Xgboost: 0.9979264062735635\n"
     ]
    },
    {
     "data": {
      "application/javascript": [
       "\n",
       "            setTimeout(function() {\n",
       "                var nbb_cell_id = 30;\n",
       "                var nbb_unformatted_code = \"print(\\\"\\\\n\\\" \\\"Training Performance:\\\" \\\"\\\\n\\\")\\n\\nfor name, model in models_over:\\n    model.fit(X_train_over, y_train_over)\\n    scores = Minimum_Vs_Model_cost(y_train_over, model.predict(X_train_over))\\n    print(\\\"{}: {}\\\".format(name, scores))\";\n",
       "                var nbb_formatted_code = \"print(\\\"\\\\n\\\" \\\"Training Performance:\\\" \\\"\\\\n\\\")\\n\\nfor name, model in models_over:\\n    model.fit(X_train_over, y_train_over)\\n    scores = Minimum_Vs_Model_cost(y_train_over, model.predict(X_train_over))\\n    print(\\\"{}: {}\\\".format(name, scores))\";\n",
       "                var nbb_cells = Jupyter.notebook.get_cells();\n",
       "                for (var i = 0; i < nbb_cells.length; ++i) {\n",
       "                    if (nbb_cells[i].input_prompt_number == nbb_cell_id) {\n",
       "                        if (nbb_cells[i].get_text() == nbb_unformatted_code) {\n",
       "                             nbb_cells[i].set_text(nbb_formatted_code);\n",
       "                        }\n",
       "                        break;\n",
       "                    }\n",
       "                }\n",
       "            }, 500);\n",
       "            "
      ],
      "text/plain": [
       "<IPython.core.display.Javascript object>"
      ]
     },
     "metadata": {},
     "output_type": "display_data"
    }
   ],
   "source": [
    "print(\"\\n\" \"Training Performance:\" \"\\n\")\n",
    "\n",
    "for name, model in models_over:\n",
    "    model.fit(X_train_over, y_train_over)\n",
    "    scores = Minimum_Vs_Model_cost(y_train_over, model.predict(X_train_over))\n",
    "    print(\"{}: {}\".format(name, scores))"
   ]
  },
  {
   "cell_type": "code",
   "execution_count": 66,
   "metadata": {},
   "outputs": [
    {
     "name": "stdout",
     "output_type": "stream",
     "text": [
      "\n",
      "Validation Performance:\n",
      "\n",
      "Logistic Regression: 0.5025536261491318\n",
      "dtree: 0.6377187297472456\n",
      "Random forest: 0.802937576499388\n",
      "Bagging: 0.7633824670287044\n",
      "Adaboost: 0.5696092619392186\n",
      "GBM: 0.7294292068198666\n",
      "Xgboost: 0.8065573770491803\n"
     ]
    },
    {
     "data": {
      "application/javascript": [
       "\n",
       "            setTimeout(function() {\n",
       "                var nbb_cell_id = 66;\n",
       "                var nbb_unformatted_code = \"print(\\\"\\\\n\\\" \\\"Validation Performance:\\\" \\\"\\\\n\\\")\\n\\nfor name, model in models_over:\\n    model.fit(X_train_over, y_train_over)\\n    scores = Minimum_Vs_Model_cost(y_val, model.predict(X_val))\\n    print(\\\"{}: {}\\\".format(name, scores))\";\n",
       "                var nbb_formatted_code = \"print(\\\"\\\\n\\\" \\\"Validation Performance:\\\" \\\"\\\\n\\\")\\n\\nfor name, model in models_over:\\n    model.fit(X_train_over, y_train_over)\\n    scores = Minimum_Vs_Model_cost(y_val, model.predict(X_val))\\n    print(\\\"{}: {}\\\".format(name, scores))\";\n",
       "                var nbb_cells = Jupyter.notebook.get_cells();\n",
       "                for (var i = 0; i < nbb_cells.length; ++i) {\n",
       "                    if (nbb_cells[i].input_prompt_number == nbb_cell_id) {\n",
       "                        if (nbb_cells[i].get_text() == nbb_unformatted_code) {\n",
       "                             nbb_cells[i].set_text(nbb_formatted_code);\n",
       "                        }\n",
       "                        break;\n",
       "                    }\n",
       "                }\n",
       "            }, 500);\n",
       "            "
      ],
      "text/plain": [
       "<IPython.core.display.Javascript object>"
      ]
     },
     "metadata": {},
     "output_type": "display_data"
    }
   ],
   "source": [
    "print(\"\\n\" \"Validation Performance:\" \"\\n\")\n",
    "\n",
    "for name, model in models_over:\n",
    "    model.fit(X_train_over, y_train_over)\n",
    "    scores = Minimum_Vs_Model_cost(y_val, model.predict(X_val))\n",
    "    print(\"{}: {}\".format(name, scores))"
   ]
  },
  {
   "cell_type": "markdown",
   "metadata": {},
   "source": [
    "- The cross validation training performance scores (customized metric) are much higher than validation perfromance score. This indicates that the default algorithms on oversampled dataset are not able to generalize well\n",
    "- It is likely that the algorithms are overfitting the noise in the training sets which explains the trends in the observed performance scores (cross validation training scores ~ training score >> validation score). This will be a concern taking these models to production"
   ]
  },
  {
   "cell_type": "code",
   "execution_count": 31,
   "metadata": {},
   "outputs": [
    {
     "data": {
      "image/png": "[encoded data removed]",
      "text/plain": [
       "<Figure size 720x288 with 1 Axes>"
      ]
     },
     "metadata": {
      "needs_background": "light"
     },
     "output_type": "display_data"
    },
    {
     "data": {
      "application/javascript": [
       "\n",
       "            setTimeout(function() {\n",
       "                var nbb_cell_id = 31;\n",
       "                var nbb_unformatted_code = \"# Plotting boxplots for CV scores of all models defined above\\n\\nfig = plt.figure(figsize=(10, 4))\\n\\nfig.suptitle(\\\"Algorithm Comparison\\\")\\nax = fig.add_subplot(111)\\n\\nplt.boxplot(results_over)\\nax.set_xticklabels(names)\\n\\nplt.show()\";\n",
       "                var nbb_formatted_code = \"# Plotting boxplots for CV scores of all models defined above\\n\\nfig = plt.figure(figsize=(10, 4))\\n\\nfig.suptitle(\\\"Algorithm Comparison\\\")\\nax = fig.add_subplot(111)\\n\\nplt.boxplot(results_over)\\nax.set_xticklabels(names)\\n\\nplt.show()\";\n",
       "                var nbb_cells = Jupyter.notebook.get_cells();\n",
       "                for (var i = 0; i < nbb_cells.length; ++i) {\n",
       "                    if (nbb_cells[i].input_prompt_number == nbb_cell_id) {\n",
       "                        if (nbb_cells[i].get_text() == nbb_unformatted_code) {\n",
       "                             nbb_cells[i].set_text(nbb_formatted_code);\n",
       "                        }\n",
       "                        break;\n",
       "                    }\n",
       "                }\n",
       "            }, 500);\n",
       "            "
      ],
      "text/plain": [
       "<IPython.core.display.Javascript object>"
      ]
     },
     "metadata": {},
     "output_type": "display_data"
    }
   ],
   "source": [
    "# Plotting boxplots for CV scores of all models defined above\n",
    "\n",
    "fig = plt.figure(figsize=(10, 4))\n",
    "\n",
    "fig.suptitle(\"Algorithm Comparison\")\n",
    "ax = fig.add_subplot(111)\n",
    "\n",
    "plt.boxplot(results_over)\n",
    "ax.set_xticklabels(names)\n",
    "\n",
    "plt.show()"
   ]
  },
  {
   "cell_type": "markdown",
   "metadata": {},
   "source": [
    "- The average (& median) training cross validation scores on oversampled dataset has increased to match training performance scores across algorithms. This indicates potential overfitting of noise in the training datasets"
   ]
  },
  {
   "cell_type": "markdown",
   "metadata": {
    "id": "1aimb6bn4jat"
   },
   "source": [
    "## Model Building with Undersampled data"
   ]
  },
  {
   "cell_type": "code",
   "execution_count": 32,
   "metadata": {
    "id": "DhxfTkvu4jat"
   },
   "outputs": [
    {
     "data": {
      "application/javascript": [
       "\n",
       "            setTimeout(function() {\n",
       "                var nbb_cell_id = 32;\n",
       "                var nbb_unformatted_code = \"# Random undersampler for under sampling the data\\nrus = RandomUnderSampler(random_state=1, sampling_strategy=1)\\nX_train_un, y_train_un = rus.fit_resample(X_train, y_train)\";\n",
       "                var nbb_formatted_code = \"# Random undersampler for under sampling the data\\nrus = RandomUnderSampler(random_state=1, sampling_strategy=1)\\nX_train_un, y_train_un = rus.fit_resample(X_train, y_train)\";\n",
       "                var nbb_cells = Jupyter.notebook.get_cells();\n",
       "                for (var i = 0; i < nbb_cells.length; ++i) {\n",
       "                    if (nbb_cells[i].input_prompt_number == nbb_cell_id) {\n",
       "                        if (nbb_cells[i].get_text() == nbb_unformatted_code) {\n",
       "                             nbb_cells[i].set_text(nbb_formatted_code);\n",
       "                        }\n",
       "                        break;\n",
       "                    }\n",
       "                }\n",
       "            }, 500);\n",
       "            "
      ],
      "text/plain": [
       "<IPython.core.display.Javascript object>"
      ]
     },
     "metadata": {},
     "output_type": "display_data"
    }
   ],
   "source": [
    "# Random undersampler for under sampling the data\n",
    "rus = RandomUnderSampler(random_state=1, sampling_strategy=1)\n",
    "X_train_un, y_train_un = rus.fit_resample(X_train, y_train)"
   ]
  },
  {
   "cell_type": "code",
   "execution_count": 33,
   "metadata": {
    "id": "jROP_DVF4jau"
   },
   "outputs": [
    {
     "name": "stdout",
     "output_type": "stream",
     "text": [
      "After Undersampling, counts of label '1 (Failures)': 1531\n",
      "After Undersampling, counts of label '0 (No failures)': 1531 \n",
      "\n"
     ]
    },
    {
     "data": {
      "application/javascript": [
       "\n",
       "            setTimeout(function() {\n",
       "                var nbb_cell_id = 33;\n",
       "                var nbb_unformatted_code = \"print(\\n    \\\"After Undersampling, counts of label '1 (Failures)': {}\\\".format(\\n        sum(y_train_un == 1)\\n    )\\n)\\nprint(\\n    \\\"After Undersampling, counts of label '0 (No failures)': {} \\\\n\\\".format(\\n        sum(y_train_un == 0)\\n    )\\n)\";\n",
       "                var nbb_formatted_code = \"print(\\n    \\\"After Undersampling, counts of label '1 (Failures)': {}\\\".format(\\n        sum(y_train_un == 1)\\n    )\\n)\\nprint(\\n    \\\"After Undersampling, counts of label '0 (No failures)': {} \\\\n\\\".format(\\n        sum(y_train_un == 0)\\n    )\\n)\";\n",
       "                var nbb_cells = Jupyter.notebook.get_cells();\n",
       "                for (var i = 0; i < nbb_cells.length; ++i) {\n",
       "                    if (nbb_cells[i].input_prompt_number == nbb_cell_id) {\n",
       "                        if (nbb_cells[i].get_text() == nbb_unformatted_code) {\n",
       "                             nbb_cells[i].set_text(nbb_formatted_code);\n",
       "                        }\n",
       "                        break;\n",
       "                    }\n",
       "                }\n",
       "            }, 500);\n",
       "            "
      ],
      "text/plain": [
       "<IPython.core.display.Javascript object>"
      ]
     },
     "metadata": {},
     "output_type": "display_data"
    }
   ],
   "source": [
    "print(\n",
    "    \"After Undersampling, counts of label '1 (Failures)': {}\".format(\n",
    "        sum(y_train_un == 1)\n",
    "    )\n",
    ")\n",
    "print(\n",
    "    \"After Undersampling, counts of label '0 (No failures)': {} \\n\".format(\n",
    "        sum(y_train_un == 0)\n",
    "    )\n",
    ")"
   ]
  },
  {
   "cell_type": "markdown",
   "metadata": {},
   "source": [
    "- Another technique to handle class imbalance in \"Target\" attribute is random undersampling, wherein only random samples from the majority class are chosen for model building. While this helps in dealing with models potentially overfitting, it can often lead to poor performing models due to \"loss of information\" from not considering all datapoints available \n",
    "- After random undersampling, we again have equal number of class \"1\" and class \"0\" (and overall less number of datapoints for model building)"
   ]
  },
  {
   "cell_type": "code",
   "execution_count": 34,
   "metadata": {},
   "outputs": [
    {
     "name": "stdout",
     "output_type": "stream",
     "text": [
      "\n",
      "Cross-Validation Performance:\n",
      "\n",
      "Logistic Regression: 0.7724863000214184\n",
      "dtree: 0.7623582706765808\n",
      "Random forest: 0.842602547619812\n",
      "Bagging: 0.810537034879969\n",
      "Adaboost: 0.7875970384722428\n",
      "GBM: 0.8260845219126203\n",
      "Xgboost: 0.8405650028470488\n"
     ]
    },
    {
     "data": {
      "application/javascript": [
       "\n",
       "            setTimeout(function() {\n",
       "                var nbb_cell_id = 34;\n",
       "                var nbb_unformatted_code = \"models_un = []  # Empty list to store all the models\\n\\n# Appending models into the list\\n\\nmodels_un.append(\\n    (\\\"Logistic Regression\\\", LogisticRegression(solver=\\\"newton-cg\\\", random_state=1))\\n)\\nmodels_un.append((\\\"dtree\\\", DecisionTreeClassifier(random_state=1)))\\nmodels_un.append((\\\"Random forest\\\", RandomForestClassifier(random_state=1)))\\nmodels_un.append((\\\"Bagging\\\", BaggingClassifier(random_state=1)))\\nmodels_un.append((\\\"Adaboost\\\", AdaBoostClassifier(random_state=1)))\\nmodels_un.append((\\\"GBM\\\", GradientBoostingClassifier(random_state=1)))\\nmodels_un.append((\\\"Xgboost\\\", XGBClassifier(random_state=1, eval_metric=\\\"logloss\\\")))\\n\\nresults_un = []  # Empty list to store all model's CV scores\\nnames_un = []  # Empty list to store name of the models\\nscore_un = []\\n\\n# loop through all models to get the mean cross validated score\\n\\nprint(\\\"\\\\n\\\" \\\"Cross-Validation Performance:\\\" \\\"\\\\n\\\")\\n\\nfor name, model in models_un:\\n    kfold = StratifiedKFold(\\n        n_splits=5, shuffle=True, random_state=1\\n    )  # Setting number of splits equal to 5\\n    cv_result = cross_val_score(\\n        estimator=model, X=X_train_un, y=y_train_un, scoring=scorer, cv=kfold\\n    )\\n    results_un.append(cv_result)\\n    names_un.append(name)\\n    print(\\\"{}: {}\\\".format(name, cv_result.mean()))\";\n",
       "                var nbb_formatted_code = \"models_un = []  # Empty list to store all the models\\n\\n# Appending models into the list\\n\\nmodels_un.append(\\n    (\\\"Logistic Regression\\\", LogisticRegression(solver=\\\"newton-cg\\\", random_state=1))\\n)\\nmodels_un.append((\\\"dtree\\\", DecisionTreeClassifier(random_state=1)))\\nmodels_un.append((\\\"Random forest\\\", RandomForestClassifier(random_state=1)))\\nmodels_un.append((\\\"Bagging\\\", BaggingClassifier(random_state=1)))\\nmodels_un.append((\\\"Adaboost\\\", AdaBoostClassifier(random_state=1)))\\nmodels_un.append((\\\"GBM\\\", GradientBoostingClassifier(random_state=1)))\\nmodels_un.append((\\\"Xgboost\\\", XGBClassifier(random_state=1, eval_metric=\\\"logloss\\\")))\\n\\nresults_un = []  # Empty list to store all model's CV scores\\nnames_un = []  # Empty list to store name of the models\\nscore_un = []\\n\\n# loop through all models to get the mean cross validated score\\n\\nprint(\\\"\\\\n\\\" \\\"Cross-Validation Performance:\\\" \\\"\\\\n\\\")\\n\\nfor name, model in models_un:\\n    kfold = StratifiedKFold(\\n        n_splits=5, shuffle=True, random_state=1\\n    )  # Setting number of splits equal to 5\\n    cv_result = cross_val_score(\\n        estimator=model, X=X_train_un, y=y_train_un, scoring=scorer, cv=kfold\\n    )\\n    results_un.append(cv_result)\\n    names_un.append(name)\\n    print(\\\"{}: {}\\\".format(name, cv_result.mean()))\";\n",
       "                var nbb_cells = Jupyter.notebook.get_cells();\n",
       "                for (var i = 0; i < nbb_cells.length; ++i) {\n",
       "                    if (nbb_cells[i].input_prompt_number == nbb_cell_id) {\n",
       "                        if (nbb_cells[i].get_text() == nbb_unformatted_code) {\n",
       "                             nbb_cells[i].set_text(nbb_formatted_code);\n",
       "                        }\n",
       "                        break;\n",
       "                    }\n",
       "                }\n",
       "            }, 500);\n",
       "            "
      ],
      "text/plain": [
       "<IPython.core.display.Javascript object>"
      ]
     },
     "metadata": {},
     "output_type": "display_data"
    }
   ],
   "source": [
    "models_un = []  # Empty list to store all the models\n",
    "\n",
    "# Appending models into the list\n",
    "\n",
    "models_un.append(\n",
    "    (\"Logistic Regression\", LogisticRegression(solver=\"newton-cg\", random_state=1))\n",
    ")\n",
    "models_un.append((\"dtree\", DecisionTreeClassifier(random_state=1)))\n",
    "models_un.append((\"Random forest\", RandomForestClassifier(random_state=1)))\n",
    "models_un.append((\"Bagging\", BaggingClassifier(random_state=1)))\n",
    "models_un.append((\"Adaboost\", AdaBoostClassifier(random_state=1)))\n",
    "models_un.append((\"GBM\", GradientBoostingClassifier(random_state=1)))\n",
    "models_un.append((\"Xgboost\", XGBClassifier(random_state=1, eval_metric=\"logloss\")))\n",
    "\n",
    "results_un = []  # Empty list to store all model's CV scores\n",
    "names_un = []  # Empty list to store name of the models\n",
    "score_un = []\n",
    "\n",
    "# loop through all models to get the mean cross validated score\n",
    "\n",
    "print(\"\\n\" \"Cross-Validation Performance:\" \"\\n\")\n",
    "\n",
    "for name, model in models_un:\n",
    "    kfold = StratifiedKFold(\n",
    "        n_splits=5, shuffle=True, random_state=1\n",
    "    )  # Setting number of splits equal to 5\n",
    "    cv_result = cross_val_score(\n",
    "        estimator=model, X=X_train_un, y=y_train_un, scoring=scorer, cv=kfold\n",
    "    )\n",
    "    results_un.append(cv_result)\n",
    "    names_un.append(name)\n",
    "    print(\"{}: {}\".format(name, cv_result.mean()))"
   ]
  },
  {
   "cell_type": "code",
   "execution_count": 35,
   "metadata": {},
   "outputs": [
    {
     "name": "stdout",
     "output_type": "stream",
     "text": [
      "\n",
      "Training Performance:\n",
      "\n",
      "Logistic Regression: 0.772322179250042\n",
      "dtree: 1.0\n",
      "Random forest: 1.0\n",
      "Bagging: 0.9624895222129086\n",
      "Adaboost: 0.8197394253078708\n",
      "GBM: 0.8726961808854266\n",
      "Xgboost: 1.0\n"
     ]
    },
    {
     "data": {
      "application/javascript": [
       "\n",
       "            setTimeout(function() {\n",
       "                var nbb_cell_id = 35;\n",
       "                var nbb_unformatted_code = \"print(\\\"\\\\n\\\" \\\"Training Performance:\\\" \\\"\\\\n\\\")\\n\\nfor name, model in models_un:\\n    model.fit(X_train_un, y_train_un)\\n    scores = Minimum_Vs_Model_cost(y_train_un, model.predict(X_train_un))\\n    print(\\\"{}: {}\\\".format(name, scores))\";\n",
       "                var nbb_formatted_code = \"print(\\\"\\\\n\\\" \\\"Training Performance:\\\" \\\"\\\\n\\\")\\n\\nfor name, model in models_un:\\n    model.fit(X_train_un, y_train_un)\\n    scores = Minimum_Vs_Model_cost(y_train_un, model.predict(X_train_un))\\n    print(\\\"{}: {}\\\".format(name, scores))\";\n",
       "                var nbb_cells = Jupyter.notebook.get_cells();\n",
       "                for (var i = 0; i < nbb_cells.length; ++i) {\n",
       "                    if (nbb_cells[i].input_prompt_number == nbb_cell_id) {\n",
       "                        if (nbb_cells[i].get_text() == nbb_unformatted_code) {\n",
       "                             nbb_cells[i].set_text(nbb_formatted_code);\n",
       "                        }\n",
       "                        break;\n",
       "                    }\n",
       "                }\n",
       "            }, 500);\n",
       "            "
      ],
      "text/plain": [
       "<IPython.core.display.Javascript object>"
      ]
     },
     "metadata": {},
     "output_type": "display_data"
    }
   ],
   "source": [
    "print(\"\\n\" \"Training Performance:\" \"\\n\")\n",
    "\n",
    "for name, model in models_un:\n",
    "    model.fit(X_train_un, y_train_un)\n",
    "    scores = Minimum_Vs_Model_cost(y_train_un, model.predict(X_train_un))\n",
    "    print(\"{}: {}\".format(name, scores))"
   ]
  },
  {
   "cell_type": "code",
   "execution_count": 67,
   "metadata": {},
   "outputs": [
    {
     "name": "stdout",
     "output_type": "stream",
     "text": [
      "\n",
      "Validation Performance:\n",
      "\n",
      "Logistic Regression: 0.4932330827067669\n",
      "dtree: 0.4738743077293523\n",
      "Random forest: 0.7348767737117252\n",
      "Bagging: 0.6691601496089765\n",
      "Adaboost: 0.5512605042016807\n",
      "GBM: 0.6762886597938145\n",
      "Xgboost: 0.7440453686200378\n"
     ]
    },
    {
     "data": {
      "application/javascript": [
       "\n",
       "            setTimeout(function() {\n",
       "                var nbb_cell_id = 67;\n",
       "                var nbb_unformatted_code = \"print(\\\"\\\\n\\\" \\\"Validation Performance:\\\" \\\"\\\\n\\\")\\n\\nfor name, model in models_un:\\n    model.fit(X_train_un, y_train_un)\\n    scores = Minimum_Vs_Model_cost(y_val, model.predict(X_val))\\n    print(\\\"{}: {}\\\".format(name, scores))\";\n",
       "                var nbb_formatted_code = \"print(\\\"\\\\n\\\" \\\"Validation Performance:\\\" \\\"\\\\n\\\")\\n\\nfor name, model in models_un:\\n    model.fit(X_train_un, y_train_un)\\n    scores = Minimum_Vs_Model_cost(y_val, model.predict(X_val))\\n    print(\\\"{}: {}\\\".format(name, scores))\";\n",
       "                var nbb_cells = Jupyter.notebook.get_cells();\n",
       "                for (var i = 0; i < nbb_cells.length; ++i) {\n",
       "                    if (nbb_cells[i].input_prompt_number == nbb_cell_id) {\n",
       "                        if (nbb_cells[i].get_text() == nbb_unformatted_code) {\n",
       "                             nbb_cells[i].set_text(nbb_formatted_code);\n",
       "                        }\n",
       "                        break;\n",
       "                    }\n",
       "                }\n",
       "            }, 500);\n",
       "            "
      ],
      "text/plain": [
       "<IPython.core.display.Javascript object>"
      ]
     },
     "metadata": {},
     "output_type": "display_data"
    }
   ],
   "source": [
    "print(\"\\n\" \"Validation Performance:\" \"\\n\")\n",
    "\n",
    "for name, model in models_un:\n",
    "    model.fit(X_train_un, y_train_un)\n",
    "    scores = Minimum_Vs_Model_cost(y_val, model.predict(X_val))\n",
    "    print(\"{}: {}\".format(name, scores))"
   ]
  },
  {
   "cell_type": "markdown",
   "metadata": {},
   "source": [
    "- The performance score (customized metric) have dropped on the validation undersampled dataset than original dataset. This could be likely that the algorithms are overfitting the noise & underfitting the information in the undersampled datasets. This will again be a concern taking these models to production"
   ]
  },
  {
   "cell_type": "code",
   "execution_count": 68,
   "metadata": {},
   "outputs": [
    {
     "data": {
      "image/png": "[encoded data removed]",
      "text/plain": [
       "<Figure size 720x288 with 1 Axes>"
      ]
     },
     "metadata": {
      "needs_background": "light"
     },
     "output_type": "display_data"
    },
    {
     "data": {
      "application/javascript": [
       "\n",
       "            setTimeout(function() {\n",
       "                var nbb_cell_id = 68;\n",
       "                var nbb_unformatted_code = \"# Plotting boxplots for CV scores of all models defined above\\n\\nfig = plt.figure(figsize=(10, 4))\\n\\nfig.suptitle(\\\"Algorithm Comparison\\\")\\nax = fig.add_subplot(111)\\n\\nplt.boxplot(results_un)\\nax.set_xticklabels(names)\\n\\nplt.show()\";\n",
       "                var nbb_formatted_code = \"# Plotting boxplots for CV scores of all models defined above\\n\\nfig = plt.figure(figsize=(10, 4))\\n\\nfig.suptitle(\\\"Algorithm Comparison\\\")\\nax = fig.add_subplot(111)\\n\\nplt.boxplot(results_un)\\nax.set_xticklabels(names)\\n\\nplt.show()\";\n",
       "                var nbb_cells = Jupyter.notebook.get_cells();\n",
       "                for (var i = 0; i < nbb_cells.length; ++i) {\n",
       "                    if (nbb_cells[i].input_prompt_number == nbb_cell_id) {\n",
       "                        if (nbb_cells[i].get_text() == nbb_unformatted_code) {\n",
       "                             nbb_cells[i].set_text(nbb_formatted_code);\n",
       "                        }\n",
       "                        break;\n",
       "                    }\n",
       "                }\n",
       "            }, 500);\n",
       "            "
      ],
      "text/plain": [
       "<IPython.core.display.Javascript object>"
      ]
     },
     "metadata": {},
     "output_type": "display_data"
    }
   ],
   "source": [
    "# Plotting boxplots for CV scores of all models defined above\n",
    "\n",
    "fig = plt.figure(figsize=(10, 4))\n",
    "\n",
    "fig.suptitle(\"Algorithm Comparison\")\n",
    "ax = fig.add_subplot(111)\n",
    "\n",
    "plt.boxplot(results_un)\n",
    "ax.set_xticklabels(names)\n",
    "\n",
    "plt.show()"
   ]
  },
  {
   "cell_type": "markdown",
   "metadata": {},
   "source": [
    "- The algorithms are able to give better performance on the cross validation training scores on undersampled dataset in comparison to original dataset as can be seen from the boxplots. However, the issue is the lack of generalizatbility in carrying forth the performance to the validation set"
   ]
  },
  {
   "cell_type": "markdown",
   "metadata": {
    "id": "50N658sB4jau"
   },
   "source": [
    "## Model Selection"
   ]
  },
  {
   "cell_type": "markdown",
   "metadata": {
    "id": "PFFwX4CG4jau"
   },
   "source": [
    "- Models built on original dataset have given generalized performance on cross validation training and validation sets unlike models built on oversampled or undersampled sets\n",
    "- Mean cross validation scores on training sets are highest with XGBoost, Random Forest & Bagging Classifiers (~77, ~71 and ~68% respectively). These models will be tuned further to try to increase performance"
   ]
  },
  {
   "cell_type": "markdown",
   "metadata": {
    "id": "yZGY1eL84jau"
   },
   "source": [
    "## HyperparameterTuning "
   ]
  },
  {
   "cell_type": "code",
   "execution_count": 36,
   "metadata": {},
   "outputs": [
    {
     "name": "stdout",
     "output_type": "stream",
     "text": [
      "Best parameters are {'subsample': 0.9, 'scale_pos_weight': 10, 'n_estimators': 250, 'learning_rate': 0.1, 'gamma': 3} with CV score=0.7997478671216852:\n"
     ]
    },
    {
     "data": {
      "application/javascript": [
       "\n",
       "            setTimeout(function() {\n",
       "                var nbb_cell_id = 36;\n",
       "                var nbb_unformatted_code = \"# defining model - XGBoost Hyperparameter Tuning\\nmodel = XGBClassifier(random_state=1, eval_metric=\\\"logloss\\\")\\n\\n# Parameter grid to pass in RandomizedSearchCV\\nparam_grid = {\\n    \\\"n_estimators\\\": np.arange(150, 300, 50),\\n    \\\"scale_pos_weight\\\": [5, 10],\\n    \\\"learning_rate\\\": [0.1, 0.2],\\n    \\\"gamma\\\": [0, 3, 5],\\n    \\\"subsample\\\": [0.8, 0.9],\\n}\\n\\n# Type of scoring used to compare parameter combinations\\nscorer = metrics.make_scorer(Minimum_Vs_Model_cost, greater_is_better=True)\\n\\n# Calling RandomizedSearchCV\\nrandomized_cv = RandomizedSearchCV(\\n    estimator=model,\\n    param_distributions=param_grid,\\n    n_iter=20,\\n    scoring=scorer,\\n    cv=3,\\n    random_state=1,\\n    n_jobs=-1,\\n)\\n\\n# Fitting parameters in RandomizedSearchCV\\nrandomized_cv.fit(X_train, y_train)\\n\\nprint(\\n    \\\"Best parameters are {} with CV score={}:\\\".format(\\n        randomized_cv.best_params_, randomized_cv.best_score_\\n    )\\n)\";\n",
       "                var nbb_formatted_code = \"# defining model - XGBoost Hyperparameter Tuning\\nmodel = XGBClassifier(random_state=1, eval_metric=\\\"logloss\\\")\\n\\n# Parameter grid to pass in RandomizedSearchCV\\nparam_grid = {\\n    \\\"n_estimators\\\": np.arange(150, 300, 50),\\n    \\\"scale_pos_weight\\\": [5, 10],\\n    \\\"learning_rate\\\": [0.1, 0.2],\\n    \\\"gamma\\\": [0, 3, 5],\\n    \\\"subsample\\\": [0.8, 0.9],\\n}\\n\\n# Type of scoring used to compare parameter combinations\\nscorer = metrics.make_scorer(Minimum_Vs_Model_cost, greater_is_better=True)\\n\\n# Calling RandomizedSearchCV\\nrandomized_cv = RandomizedSearchCV(\\n    estimator=model,\\n    param_distributions=param_grid,\\n    n_iter=20,\\n    scoring=scorer,\\n    cv=3,\\n    random_state=1,\\n    n_jobs=-1,\\n)\\n\\n# Fitting parameters in RandomizedSearchCV\\nrandomized_cv.fit(X_train, y_train)\\n\\nprint(\\n    \\\"Best parameters are {} with CV score={}:\\\".format(\\n        randomized_cv.best_params_, randomized_cv.best_score_\\n    )\\n)\";\n",
       "                var nbb_cells = Jupyter.notebook.get_cells();\n",
       "                for (var i = 0; i < nbb_cells.length; ++i) {\n",
       "                    if (nbb_cells[i].input_prompt_number == nbb_cell_id) {\n",
       "                        if (nbb_cells[i].get_text() == nbb_unformatted_code) {\n",
       "                             nbb_cells[i].set_text(nbb_formatted_code);\n",
       "                        }\n",
       "                        break;\n",
       "                    }\n",
       "                }\n",
       "            }, 500);\n",
       "            "
      ],
      "text/plain": [
       "<IPython.core.display.Javascript object>"
      ]
     },
     "metadata": {},
     "output_type": "display_data"
    }
   ],
   "source": [
    "# defining model - XGBoost Hyperparameter Tuning\n",
    "model = XGBClassifier(random_state=1, eval_metric=\"logloss\")\n",
    "\n",
    "# Parameter grid to pass in RandomizedSearchCV\n",
    "param_grid = {\n",
    "    \"n_estimators\": np.arange(150, 300, 50),\n",
    "    \"scale_pos_weight\": [5, 10],\n",
    "    \"learning_rate\": [0.1, 0.2],\n",
    "    \"gamma\": [0, 3, 5],\n",
    "    \"subsample\": [0.8, 0.9],\n",
    "}\n",
    "\n",
    "# Type of scoring used to compare parameter combinations\n",
    "scorer = metrics.make_scorer(Minimum_Vs_Model_cost, greater_is_better=True)\n",
    "\n",
    "# Calling RandomizedSearchCV\n",
    "randomized_cv = RandomizedSearchCV(\n",
    "    estimator=model,\n",
    "    param_distributions=param_grid,\n",
    "    n_iter=20,\n",
    "    scoring=scorer,\n",
    "    cv=3,\n",
    "    random_state=1,\n",
    "    n_jobs=-1,\n",
    ")\n",
    "\n",
    "# Fitting parameters in RandomizedSearchCV\n",
    "randomized_cv.fit(X_train, y_train)\n",
    "\n",
    "print(\n",
    "    \"Best parameters are {} with CV score={}:\".format(\n",
    "        randomized_cv.best_params_, randomized_cv.best_score_\n",
    "    )\n",
    ")"
   ]
  },
  {
   "cell_type": "code",
   "execution_count": 37,
   "metadata": {},
   "outputs": [
    {
     "data": {
      "text/plain": [
       "XGBClassifier(base_score=0.5, booster='gbtree', colsample_bylevel=1,\n",
       "              colsample_bynode=1, colsample_bytree=1, eval_metric='logloss',\n",
       "              gamma=3, gpu_id=-1, importance_type='gain',\n",
       "              interaction_constraints='', learning_rate=0.1, max_delta_step=0,\n",
       "              max_depth=6, min_child_weight=1, missing=nan,\n",
       "              monotone_constraints='()', n_estimators=250, n_jobs=4,\n",
       "              num_parallel_tree=1, random_state=1, reg_alpha=0, reg_lambda=1,\n",
       "              scale_pos_weight=10, subsample=0.9, tree_method='exact',\n",
       "              validate_parameters=1, verbosity=None)"
      ]
     },
     "execution_count": 37,
     "metadata": {},
     "output_type": "execute_result"
    },
    {
     "data": {
      "application/javascript": [
       "\n",
       "            setTimeout(function() {\n",
       "                var nbb_cell_id = 37;\n",
       "                var nbb_unformatted_code = \"# building model with best parameters\\nxgb_tuned = XGBClassifier(\\n    subsample=0.9,\\n    scale_pos_weight=10,\\n    n_estimators=250,\\n    learning_rate=0.1,\\n    gamma=3,\\n    random_state=1,\\n    eval_metric=\\\"logloss\\\")\\n\\n# Fit the model on training data\\nxgb_tuned.fit(X_train, y_train)\";\n",
       "                var nbb_formatted_code = \"# building model with best parameters\\nxgb_tuned = XGBClassifier(\\n    subsample=0.9,\\n    scale_pos_weight=10,\\n    n_estimators=250,\\n    learning_rate=0.1,\\n    gamma=3,\\n    random_state=1,\\n    eval_metric=\\\"logloss\\\",\\n)\\n\\n# Fit the model on training data\\nxgb_tuned.fit(X_train, y_train)\";\n",
       "                var nbb_cells = Jupyter.notebook.get_cells();\n",
       "                for (var i = 0; i < nbb_cells.length; ++i) {\n",
       "                    if (nbb_cells[i].input_prompt_number == nbb_cell_id) {\n",
       "                        if (nbb_cells[i].get_text() == nbb_unformatted_code) {\n",
       "                             nbb_cells[i].set_text(nbb_formatted_code);\n",
       "                        }\n",
       "                        break;\n",
       "                    }\n",
       "                }\n",
       "            }, 500);\n",
       "            "
      ],
      "text/plain": [
       "<IPython.core.display.Javascript object>"
      ]
     },
     "metadata": {},
     "output_type": "display_data"
    }
   ],
   "source": [
    "# building model with best parameters\n",
    "xgb_tuned = XGBClassifier(\n",
    "    subsample=0.9,\n",
    "    scale_pos_weight=10,\n",
    "    n_estimators=250,\n",
    "    learning_rate=0.1,\n",
    "    gamma=3,\n",
    "    random_state=1,\n",
    "    eval_metric=\"logloss\",\n",
    ")\n",
    "\n",
    "# Fit the model on training data\n",
    "xgb_tuned.fit(X_train, y_train)"
   ]
  },
  {
   "cell_type": "code",
   "execution_count": 69,
   "metadata": {},
   "outputs": [
    {
     "name": "stdout",
     "output_type": "stream",
     "text": [
      "Training performance:\n"
     ]
    },
    {
     "data": {
      "text/html": [
       "<div>\n",
       "<style scoped>\n",
       "    .dataframe tbody tr th:only-of-type {\n",
       "        vertical-align: middle;\n",
       "    }\n",
       "\n",
       "    .dataframe tbody tr th {\n",
       "        vertical-align: top;\n",
       "    }\n",
       "\n",
       "    .dataframe thead th {\n",
       "        text-align: right;\n",
       "    }\n",
       "</style>\n",
       "<table border=\"1\" class=\"dataframe\">\n",
       "  <thead>\n",
       "    <tr style=\"text-align: right;\">\n",
       "      <th></th>\n",
       "      <th>Accuracy</th>\n",
       "      <th>Recall</th>\n",
       "      <th>Precision</th>\n",
       "      <th>F1</th>\n",
       "      <th>Minimum_Vs_Model_cost</th>\n",
       "    </tr>\n",
       "  </thead>\n",
       "  <tbody>\n",
       "    <tr>\n",
       "      <th>0</th>\n",
       "      <td>1.000</td>\n",
       "      <td>1.000</td>\n",
       "      <td>0.995</td>\n",
       "      <td>0.997</td>\n",
       "      <td>0.998</td>\n",
       "    </tr>\n",
       "  </tbody>\n",
       "</table>\n",
       "</div>"
      ],
      "text/plain": [
       "   Accuracy  Recall  Precision    F1  Minimum_Vs_Model_cost\n",
       "0     1.000   1.000      0.995 0.997                  0.998"
      ]
     },
     "execution_count": 69,
     "metadata": {},
     "output_type": "execute_result"
    },
    {
     "data": {
      "application/javascript": [
       "\n",
       "            setTimeout(function() {\n",
       "                var nbb_cell_id = 69;\n",
       "                var nbb_unformatted_code = \"# Calculating different metrics on training set\\nxgboost_random_train = model_performance_classification_sklearn(\\n    xgb_tuned, X_train, y_train\\n)\\nprint(\\\"Training performance:\\\")\\nxgboost_random_train\";\n",
       "                var nbb_formatted_code = \"# Calculating different metrics on training set\\nxgboost_random_train = model_performance_classification_sklearn(\\n    xgb_tuned, X_train, y_train\\n)\\nprint(\\\"Training performance:\\\")\\nxgboost_random_train\";\n",
       "                var nbb_cells = Jupyter.notebook.get_cells();\n",
       "                for (var i = 0; i < nbb_cells.length; ++i) {\n",
       "                    if (nbb_cells[i].input_prompt_number == nbb_cell_id) {\n",
       "                        if (nbb_cells[i].get_text() == nbb_unformatted_code) {\n",
       "                             nbb_cells[i].set_text(nbb_formatted_code);\n",
       "                        }\n",
       "                        break;\n",
       "                    }\n",
       "                }\n",
       "            }, 500);\n",
       "            "
      ],
      "text/plain": [
       "<IPython.core.display.Javascript object>"
      ]
     },
     "metadata": {},
     "output_type": "display_data"
    }
   ],
   "source": [
    "# Calculating different metrics on training set\n",
    "xgboost_random_train = model_performance_classification_sklearn(\n",
    "    xgb_tuned, X_train, y_train\n",
    ")\n",
    "print(\"Training performance:\")\n",
    "xgboost_random_train"
   ]
  },
  {
   "cell_type": "code",
   "execution_count": 39,
   "metadata": {},
   "outputs": [
    {
     "name": "stdout",
     "output_type": "stream",
     "text": [
      "Validation performance:\n"
     ]
    },
    {
     "data": {
      "text/html": [
       "<div>\n",
       "<style scoped>\n",
       "    .dataframe tbody tr th:only-of-type {\n",
       "        vertical-align: middle;\n",
       "    }\n",
       "\n",
       "    .dataframe tbody tr th {\n",
       "        vertical-align: top;\n",
       "    }\n",
       "\n",
       "    .dataframe thead th {\n",
       "        text-align: right;\n",
       "    }\n",
       "</style>\n",
       "<table border=\"1\" class=\"dataframe\">\n",
       "  <thead>\n",
       "    <tr style=\"text-align: right;\">\n",
       "      <th></th>\n",
       "      <th>Accuracy</th>\n",
       "      <th>Recall</th>\n",
       "      <th>Precision</th>\n",
       "      <th>F1</th>\n",
       "      <th>Minimum_Vs_Model_cost</th>\n",
       "    </tr>\n",
       "  </thead>\n",
       "  <tbody>\n",
       "    <tr>\n",
       "      <th>0</th>\n",
       "      <td>0.991</td>\n",
       "      <td>0.877</td>\n",
       "      <td>0.962</td>\n",
       "      <td>0.917</td>\n",
       "      <td>0.821</td>\n",
       "    </tr>\n",
       "  </tbody>\n",
       "</table>\n",
       "</div>"
      ],
      "text/plain": [
       "   Accuracy  Recall  Precision    F1  Minimum_Vs_Model_cost\n",
       "0     0.991   0.877      0.962 0.917                  0.821"
      ]
     },
     "execution_count": 39,
     "metadata": {},
     "output_type": "execute_result"
    },
    {
     "data": {
      "application/javascript": [
       "\n",
       "            setTimeout(function() {\n",
       "                var nbb_cell_id = 39;\n",
       "                var nbb_unformatted_code = \"# Calculating different metrics on validation set\\nxgboost_random_val = model_performance_classification_sklearn(xgb_tuned, X_val, y_val)\\nprint(\\\"Validation performance:\\\")\\nxgboost_random_val\";\n",
       "                var nbb_formatted_code = \"# Calculating different metrics on validation set\\nxgboost_random_val = model_performance_classification_sklearn(xgb_tuned, X_val, y_val)\\nprint(\\\"Validation performance:\\\")\\nxgboost_random_val\";\n",
       "                var nbb_cells = Jupyter.notebook.get_cells();\n",
       "                for (var i = 0; i < nbb_cells.length; ++i) {\n",
       "                    if (nbb_cells[i].input_prompt_number == nbb_cell_id) {\n",
       "                        if (nbb_cells[i].get_text() == nbb_unformatted_code) {\n",
       "                             nbb_cells[i].set_text(nbb_formatted_code);\n",
       "                        }\n",
       "                        break;\n",
       "                    }\n",
       "                }\n",
       "            }, 500);\n",
       "            "
      ],
      "text/plain": [
       "<IPython.core.display.Javascript object>"
      ]
     },
     "metadata": {},
     "output_type": "display_data"
    }
   ],
   "source": [
    "# Calculating different metrics on validation set\n",
    "xgboost_random_val = model_performance_classification_sklearn(xgb_tuned, X_val, y_val)\n",
    "print(\"Validation performance:\")\n",
    "xgboost_random_val"
   ]
  },
  {
   "cell_type": "markdown",
   "metadata": {},
   "source": [
    "- The best hyperparameters using RandomizedSearch CV for XGBoost model were found to be: subsample 0.9, scale_pos_weight 10, n_estimators 250, learning_rate 0.1 and gamma 3\n",
    "- The average cross validation training performance score (customized metric) using the best parameter XGBoost model is 0.80. This is similar to the performance score (customized metric) on the validation set i.e., 0.82. This indicates the model may generalize with a performance score of ~0.80-0.82\n",
    "- The model does however have a tendency to overfit the training set as can be observed from training performance (customized metric score of 0.998)"
   ]
  },
  {
   "cell_type": "code",
   "execution_count": 40,
   "metadata": {
    "id": "tVZcJ0hv4jau"
   },
   "outputs": [
    {
     "name": "stdout",
     "output_type": "stream",
     "text": [
      "Best parameters are {'n_estimators': 250, 'min_samples_leaf': 1, 'max_samples': 0.5000000000000001, 'max_features': 'sqrt'} with CV score=0.6920650879825658:\n"
     ]
    },
    {
     "data": {
      "application/javascript": [
       "\n",
       "            setTimeout(function() {\n",
       "                var nbb_cell_id = 40;\n",
       "                var nbb_unformatted_code = \"# defining model - Random Forest Hyperparameter Tuning\\nmodel2 = RandomForestClassifier(random_state=1, oob_score=True, bootstrap=True)\\n\\nparam_grid2 = {\\n    \\\"n_estimators\\\": [150, 250],\\n    \\\"min_samples_leaf\\\": np.arange(1, 3),\\n    \\\"max_features\\\": [\\\"sqrt\\\", \\\"log2\\\"],\\n    \\\"max_samples\\\": np.arange(0.2, 0.6, 0.1),\\n}\\n\\n# Type of scoring used to compare parameter combinations\\nscorer = metrics.make_scorer(Minimum_Vs_Model_cost, greater_is_better=True)\\n\\n# Calling RandomizedSearchCV\\nrandomized_cv2 = RandomizedSearchCV(\\n    estimator=model2,\\n    param_distributions=param_grid2,\\n    n_iter=50,\\n    scoring=scorer,\\n    cv=5,\\n    random_state=1,\\n    n_jobs=-1,\\n)\\n\\n# Fitting parameters in RandomizedSearchCV\\nrandomized_cv2.fit(X_train, y_train)\\nprint(\\n    \\\"Best parameters are {} with CV score={}:\\\".format(\\n        randomized_cv2.best_params_, randomized_cv2.best_score_\\n    )\\n)\";\n",
       "                var nbb_formatted_code = \"# defining model - Random Forest Hyperparameter Tuning\\nmodel2 = RandomForestClassifier(random_state=1, oob_score=True, bootstrap=True)\\n\\nparam_grid2 = {\\n    \\\"n_estimators\\\": [150, 250],\\n    \\\"min_samples_leaf\\\": np.arange(1, 3),\\n    \\\"max_features\\\": [\\\"sqrt\\\", \\\"log2\\\"],\\n    \\\"max_samples\\\": np.arange(0.2, 0.6, 0.1),\\n}\\n\\n# Type of scoring used to compare parameter combinations\\nscorer = metrics.make_scorer(Minimum_Vs_Model_cost, greater_is_better=True)\\n\\n# Calling RandomizedSearchCV\\nrandomized_cv2 = RandomizedSearchCV(\\n    estimator=model2,\\n    param_distributions=param_grid2,\\n    n_iter=50,\\n    scoring=scorer,\\n    cv=5,\\n    random_state=1,\\n    n_jobs=-1,\\n)\\n\\n# Fitting parameters in RandomizedSearchCV\\nrandomized_cv2.fit(X_train, y_train)\\nprint(\\n    \\\"Best parameters are {} with CV score={}:\\\".format(\\n        randomized_cv2.best_params_, randomized_cv2.best_score_\\n    )\\n)\";\n",
       "                var nbb_cells = Jupyter.notebook.get_cells();\n",
       "                for (var i = 0; i < nbb_cells.length; ++i) {\n",
       "                    if (nbb_cells[i].input_prompt_number == nbb_cell_id) {\n",
       "                        if (nbb_cells[i].get_text() == nbb_unformatted_code) {\n",
       "                             nbb_cells[i].set_text(nbb_formatted_code);\n",
       "                        }\n",
       "                        break;\n",
       "                    }\n",
       "                }\n",
       "            }, 500);\n",
       "            "
      ],
      "text/plain": [
       "<IPython.core.display.Javascript object>"
      ]
     },
     "metadata": {},
     "output_type": "display_data"
    }
   ],
   "source": [
    "# defining model - Random Forest Hyperparameter Tuning\n",
    "model2 = RandomForestClassifier(random_state=1, oob_score=True, bootstrap=True)\n",
    "\n",
    "param_grid2 = {\n",
    "    \"n_estimators\": [150, 250],\n",
    "    \"min_samples_leaf\": np.arange(1, 3),\n",
    "    \"max_features\": [\"sqrt\", \"log2\"],\n",
    "    \"max_samples\": np.arange(0.2, 0.6, 0.1),\n",
    "}\n",
    "\n",
    "# Type of scoring used to compare parameter combinations\n",
    "scorer = metrics.make_scorer(Minimum_Vs_Model_cost, greater_is_better=True)\n",
    "\n",
    "# Calling RandomizedSearchCV\n",
    "randomized_cv2 = RandomizedSearchCV(\n",
    "    estimator=model2,\n",
    "    param_distributions=param_grid2,\n",
    "    n_iter=50,\n",
    "    scoring=scorer,\n",
    "    cv=5,\n",
    "    random_state=1,\n",
    "    n_jobs=-1,\n",
    ")\n",
    "\n",
    "# Fitting parameters in RandomizedSearchCV\n",
    "randomized_cv2.fit(X_train, y_train)\n",
    "print(\n",
    "    \"Best parameters are {} with CV score={}:\".format(\n",
    "        randomized_cv2.best_params_, randomized_cv2.best_score_\n",
    "    )\n",
    ")"
   ]
  },
  {
   "cell_type": "code",
   "execution_count": 41,
   "metadata": {},
   "outputs": [
    {
     "data": {
      "text/plain": [
       "RandomForestClassifier(max_features='sqrt', max_samples=0.5000000000000001,\n",
       "                       n_estimators=250, random_state=1)"
      ]
     },
     "execution_count": 41,
     "metadata": {},
     "output_type": "execute_result"
    },
    {
     "data": {
      "application/javascript": [
       "\n",
       "            setTimeout(function() {\n",
       "                var nbb_cell_id = 41;\n",
       "                var nbb_unformatted_code = \"# building model with best parameters\\nrf_tuned = RandomForestClassifier(\\n    n_estimators=250,\\n    min_samples_leaf=1,\\n    max_samples=0.5000000000000001,\\n    max_features=\\\"sqrt\\\",\\n    random_state=1,\\n)\\n\\n# Fit the model on training data\\nrf_tuned.fit(X_train, y_train)\";\n",
       "                var nbb_formatted_code = \"# building model with best parameters\\nrf_tuned = RandomForestClassifier(\\n    n_estimators=250,\\n    min_samples_leaf=1,\\n    max_samples=0.5000000000000001,\\n    max_features=\\\"sqrt\\\",\\n    random_state=1,\\n)\\n\\n# Fit the model on training data\\nrf_tuned.fit(X_train, y_train)\";\n",
       "                var nbb_cells = Jupyter.notebook.get_cells();\n",
       "                for (var i = 0; i < nbb_cells.length; ++i) {\n",
       "                    if (nbb_cells[i].input_prompt_number == nbb_cell_id) {\n",
       "                        if (nbb_cells[i].get_text() == nbb_unformatted_code) {\n",
       "                             nbb_cells[i].set_text(nbb_formatted_code);\n",
       "                        }\n",
       "                        break;\n",
       "                    }\n",
       "                }\n",
       "            }, 500);\n",
       "            "
      ],
      "text/plain": [
       "<IPython.core.display.Javascript object>"
      ]
     },
     "metadata": {},
     "output_type": "display_data"
    }
   ],
   "source": [
    "# building model with best parameters\n",
    "rf_tuned = RandomForestClassifier(\n",
    "    n_estimators=250,\n",
    "    min_samples_leaf=1,\n",
    "    max_samples=0.5000000000000001,\n",
    "    max_features=\"sqrt\",\n",
    "    random_state=1,\n",
    ")\n",
    "\n",
    "# Fit the model on training data\n",
    "rf_tuned.fit(X_train, y_train)"
   ]
  },
  {
   "cell_type": "code",
   "execution_count": 70,
   "metadata": {},
   "outputs": [
    {
     "name": "stdout",
     "output_type": "stream",
     "text": [
      "Training performance:\n"
     ]
    },
    {
     "data": {
      "text/html": [
       "<div>\n",
       "<style scoped>\n",
       "    .dataframe tbody tr th:only-of-type {\n",
       "        vertical-align: middle;\n",
       "    }\n",
       "\n",
       "    .dataframe tbody tr th {\n",
       "        vertical-align: top;\n",
       "    }\n",
       "\n",
       "    .dataframe thead th {\n",
       "        text-align: right;\n",
       "    }\n",
       "</style>\n",
       "<table border=\"1\" class=\"dataframe\">\n",
       "  <thead>\n",
       "    <tr style=\"text-align: right;\">\n",
       "      <th></th>\n",
       "      <th>Accuracy</th>\n",
       "      <th>Recall</th>\n",
       "      <th>Precision</th>\n",
       "      <th>F1</th>\n",
       "      <th>Minimum_Vs_Model_cost</th>\n",
       "    </tr>\n",
       "  </thead>\n",
       "  <tbody>\n",
       "    <tr>\n",
       "      <th>0</th>\n",
       "      <td>0.993</td>\n",
       "      <td>0.882</td>\n",
       "      <td>0.998</td>\n",
       "      <td>0.937</td>\n",
       "      <td>0.836</td>\n",
       "    </tr>\n",
       "  </tbody>\n",
       "</table>\n",
       "</div>"
      ],
      "text/plain": [
       "   Accuracy  Recall  Precision    F1  Minimum_Vs_Model_cost\n",
       "0     0.993   0.882      0.998 0.937                  0.836"
      ]
     },
     "execution_count": 70,
     "metadata": {},
     "output_type": "execute_result"
    },
    {
     "data": {
      "application/javascript": [
       "\n",
       "            setTimeout(function() {\n",
       "                var nbb_cell_id = 70;\n",
       "                var nbb_unformatted_code = \"# Calculating different metrics on training set\\nrf_random_train = model_performance_classification_sklearn(rf_tuned, X_train, y_train)\\nprint(\\\"Training performance:\\\")\\nrf_random_train\";\n",
       "                var nbb_formatted_code = \"# Calculating different metrics on training set\\nrf_random_train = model_performance_classification_sklearn(rf_tuned, X_train, y_train)\\nprint(\\\"Training performance:\\\")\\nrf_random_train\";\n",
       "                var nbb_cells = Jupyter.notebook.get_cells();\n",
       "                for (var i = 0; i < nbb_cells.length; ++i) {\n",
       "                    if (nbb_cells[i].input_prompt_number == nbb_cell_id) {\n",
       "                        if (nbb_cells[i].get_text() == nbb_unformatted_code) {\n",
       "                             nbb_cells[i].set_text(nbb_formatted_code);\n",
       "                        }\n",
       "                        break;\n",
       "                    }\n",
       "                }\n",
       "            }, 500);\n",
       "            "
      ],
      "text/plain": [
       "<IPython.core.display.Javascript object>"
      ]
     },
     "metadata": {},
     "output_type": "display_data"
    }
   ],
   "source": [
    "# Calculating different metrics on training set\n",
    "rf_random_train = model_performance_classification_sklearn(rf_tuned, X_train, y_train)\n",
    "print(\"Training performance:\")\n",
    "rf_random_train"
   ]
  },
  {
   "cell_type": "code",
   "execution_count": 44,
   "metadata": {},
   "outputs": [
    {
     "name": "stdout",
     "output_type": "stream",
     "text": [
      "Validation performance:\n"
     ]
    },
    {
     "data": {
      "text/html": [
       "<div>\n",
       "<style scoped>\n",
       "    .dataframe tbody tr th:only-of-type {\n",
       "        vertical-align: middle;\n",
       "    }\n",
       "\n",
       "    .dataframe tbody tr th {\n",
       "        vertical-align: top;\n",
       "    }\n",
       "\n",
       "    .dataframe thead th {\n",
       "        text-align: right;\n",
       "    }\n",
       "</style>\n",
       "<table border=\"1\" class=\"dataframe\">\n",
       "  <thead>\n",
       "    <tr style=\"text-align: right;\">\n",
       "      <th></th>\n",
       "      <th>Accuracy</th>\n",
       "      <th>Recall</th>\n",
       "      <th>Precision</th>\n",
       "      <th>F1</th>\n",
       "      <th>Minimum_Vs_Model_cost</th>\n",
       "    </tr>\n",
       "  </thead>\n",
       "  <tbody>\n",
       "    <tr>\n",
       "      <th>0</th>\n",
       "      <td>0.985</td>\n",
       "      <td>0.741</td>\n",
       "      <td>0.988</td>\n",
       "      <td>0.847</td>\n",
       "      <td>0.697</td>\n",
       "    </tr>\n",
       "  </tbody>\n",
       "</table>\n",
       "</div>"
      ],
      "text/plain": [
       "   Accuracy  Recall  Precision    F1  Minimum_Vs_Model_cost\n",
       "0     0.985   0.741      0.988 0.847                  0.697"
      ]
     },
     "execution_count": 44,
     "metadata": {},
     "output_type": "execute_result"
    },
    {
     "data": {
      "application/javascript": [
       "\n",
       "            setTimeout(function() {\n",
       "                var nbb_cell_id = 44;\n",
       "                var nbb_unformatted_code = \"# Calculating different metrics on validation set\\nrf_random_val = model_performance_classification_sklearn(rf_tuned, X_val, y_val)\\nprint(\\\"Validation performance:\\\")\\nrf_random_val\";\n",
       "                var nbb_formatted_code = \"# Calculating different metrics on validation set\\nrf_random_val = model_performance_classification_sklearn(rf_tuned, X_val, y_val)\\nprint(\\\"Validation performance:\\\")\\nrf_random_val\";\n",
       "                var nbb_cells = Jupyter.notebook.get_cells();\n",
       "                for (var i = 0; i < nbb_cells.length; ++i) {\n",
       "                    if (nbb_cells[i].input_prompt_number == nbb_cell_id) {\n",
       "                        if (nbb_cells[i].get_text() == nbb_unformatted_code) {\n",
       "                             nbb_cells[i].set_text(nbb_formatted_code);\n",
       "                        }\n",
       "                        break;\n",
       "                    }\n",
       "                }\n",
       "            }, 500);\n",
       "            "
      ],
      "text/plain": [
       "<IPython.core.display.Javascript object>"
      ]
     },
     "metadata": {},
     "output_type": "display_data"
    }
   ],
   "source": [
    "# Calculating different metrics on validation set\n",
    "rf_random_val = model_performance_classification_sklearn(rf_tuned, X_val, y_val)\n",
    "print(\"Validation performance:\")\n",
    "rf_random_val"
   ]
  },
  {
   "cell_type": "markdown",
   "metadata": {},
   "source": [
    "- The best hyperparameters using RandomizedSearch CV for Random forest model were found to be: n_estimators 250, min_sample_leaf 1, max_features 'sqrt', max_samples 0.5\n",
    "- The average 5 fold cross validation training performance score (customized metric) using the best parameter Random forest model is 0.692. This is similar to the performance score (customized metric) on the validation set i.e., 0.697. This indicates the model may generalize with a performance score of ~0.69\n",
    "- The model has a slight tendency (although not as much as XGBoost tuned) to overfit the training set as can be observed from training performance (customized metric score of 0.8336)"
   ]
  },
  {
   "cell_type": "code",
   "execution_count": 45,
   "metadata": {},
   "outputs": [
    {
     "name": "stdout",
     "output_type": "stream",
     "text": [
      "Best parameters are {'n_estimators': 50, 'max_samples': 0.9, 'max_features': 0.8} with CV score=0.7092140237024578:\n"
     ]
    },
    {
     "data": {
      "application/javascript": [
       "\n",
       "            setTimeout(function() {\n",
       "                var nbb_cell_id = 45;\n",
       "                var nbb_unformatted_code = \"# defining model - Bagging Classifier Hyperparameter Tuning\\nmodel3 = BaggingClassifier(random_state=1)\\n\\nparam_grid3 = {\\n    \\\"max_samples\\\": [0.8, 0.9],\\n    \\\"max_features\\\": [0.8, 0.9],\\n    \\\"n_estimators\\\": [40, 50],\\n}\\n\\n# Type of scoring used to compare parameter combinations\\nscorer = metrics.make_scorer(Minimum_Vs_Model_cost, greater_is_better=True)\\n\\n# Calling RandomizedSearchCV\\nrandomized_cv3 = RandomizedSearchCV(\\n    estimator=model3,\\n    param_distributions=param_grid3,\\n    n_iter=50,\\n    scoring=scorer,\\n    cv=5,\\n    random_state=1,\\n    n_jobs=-1,\\n)\\n\\n# Fitting parameters in RandomizedSearchCV\\nrandomized_cv3.fit(X_train, y_train)\\nprint(\\n    \\\"Best parameters are {} with CV score={}:\\\".format(\\n        randomized_cv3.best_params_, randomized_cv3.best_score_\\n    )\\n)\";\n",
       "                var nbb_formatted_code = \"# defining model - Bagging Classifier Hyperparameter Tuning\\nmodel3 = BaggingClassifier(random_state=1)\\n\\nparam_grid3 = {\\n    \\\"max_samples\\\": [0.8, 0.9],\\n    \\\"max_features\\\": [0.8, 0.9],\\n    \\\"n_estimators\\\": [40, 50],\\n}\\n\\n# Type of scoring used to compare parameter combinations\\nscorer = metrics.make_scorer(Minimum_Vs_Model_cost, greater_is_better=True)\\n\\n# Calling RandomizedSearchCV\\nrandomized_cv3 = RandomizedSearchCV(\\n    estimator=model3,\\n    param_distributions=param_grid3,\\n    n_iter=50,\\n    scoring=scorer,\\n    cv=5,\\n    random_state=1,\\n    n_jobs=-1,\\n)\\n\\n# Fitting parameters in RandomizedSearchCV\\nrandomized_cv3.fit(X_train, y_train)\\nprint(\\n    \\\"Best parameters are {} with CV score={}:\\\".format(\\n        randomized_cv3.best_params_, randomized_cv3.best_score_\\n    )\\n)\";\n",
       "                var nbb_cells = Jupyter.notebook.get_cells();\n",
       "                for (var i = 0; i < nbb_cells.length; ++i) {\n",
       "                    if (nbb_cells[i].input_prompt_number == nbb_cell_id) {\n",
       "                        if (nbb_cells[i].get_text() == nbb_unformatted_code) {\n",
       "                             nbb_cells[i].set_text(nbb_formatted_code);\n",
       "                        }\n",
       "                        break;\n",
       "                    }\n",
       "                }\n",
       "            }, 500);\n",
       "            "
      ],
      "text/plain": [
       "<IPython.core.display.Javascript object>"
      ]
     },
     "metadata": {},
     "output_type": "display_data"
    }
   ],
   "source": [
    "# defining model - Bagging Classifier Hyperparameter Tuning\n",
    "model3 = BaggingClassifier(random_state=1)\n",
    "\n",
    "param_grid3 = {\n",
    "    \"max_samples\": [0.8, 0.9],\n",
    "    \"max_features\": [0.8, 0.9],\n",
    "    \"n_estimators\": [40, 50],\n",
    "}\n",
    "\n",
    "# Type of scoring used to compare parameter combinations\n",
    "scorer = metrics.make_scorer(Minimum_Vs_Model_cost, greater_is_better=True)\n",
    "\n",
    "# Calling RandomizedSearchCV\n",
    "randomized_cv3 = RandomizedSearchCV(\n",
    "    estimator=model3,\n",
    "    param_distributions=param_grid3,\n",
    "    n_iter=50,\n",
    "    scoring=scorer,\n",
    "    cv=5,\n",
    "    random_state=1,\n",
    "    n_jobs=-1,\n",
    ")\n",
    "\n",
    "# Fitting parameters in RandomizedSearchCV\n",
    "randomized_cv3.fit(X_train, y_train)\n",
    "print(\n",
    "    \"Best parameters are {} with CV score={}:\".format(\n",
    "        randomized_cv3.best_params_, randomized_cv3.best_score_\n",
    "    )\n",
    ")"
   ]
  },
  {
   "cell_type": "code",
   "execution_count": 48,
   "metadata": {},
   "outputs": [
    {
     "data": {
      "text/plain": [
       "BaggingClassifier(max_features=0.8, max_samples=0.9, n_estimators=50,\n",
       "                  random_state=1)"
      ]
     },
     "execution_count": 48,
     "metadata": {},
     "output_type": "execute_result"
    },
    {
     "data": {
      "application/javascript": [
       "\n",
       "            setTimeout(function() {\n",
       "                var nbb_cell_id = 48;\n",
       "                var nbb_unformatted_code = \"# building model with best parameters\\nbagging_tuned = BaggingClassifier(\\n    n_estimators=50, max_samples=0.9, max_features=0.8, random_state=1,\\n)\\n\\n# Fit the model on training data\\nbagging_tuned.fit(X_train, y_train)\";\n",
       "                var nbb_formatted_code = \"# building model with best parameters\\nbagging_tuned = BaggingClassifier(\\n    n_estimators=50, max_samples=0.9, max_features=0.8, random_state=1,\\n)\\n\\n# Fit the model on training data\\nbagging_tuned.fit(X_train, y_train)\";\n",
       "                var nbb_cells = Jupyter.notebook.get_cells();\n",
       "                for (var i = 0; i < nbb_cells.length; ++i) {\n",
       "                    if (nbb_cells[i].input_prompt_number == nbb_cell_id) {\n",
       "                        if (nbb_cells[i].get_text() == nbb_unformatted_code) {\n",
       "                             nbb_cells[i].set_text(nbb_formatted_code);\n",
       "                        }\n",
       "                        break;\n",
       "                    }\n",
       "                }\n",
       "            }, 500);\n",
       "            "
      ],
      "text/plain": [
       "<IPython.core.display.Javascript object>"
      ]
     },
     "metadata": {},
     "output_type": "display_data"
    }
   ],
   "source": [
    "# building model with best parameters\n",
    "bagging_tuned = BaggingClassifier(\n",
    "    n_estimators=50, max_samples=0.9, max_features=0.8, random_state=1,\n",
    ")\n",
    "\n",
    "# Fit the model on training data\n",
    "bagging_tuned.fit(X_train, y_train)"
   ]
  },
  {
   "cell_type": "code",
   "execution_count": 49,
   "metadata": {},
   "outputs": [
    {
     "name": "stdout",
     "output_type": "stream",
     "text": [
      "Training performance:\n"
     ]
    },
    {
     "data": {
      "text/html": [
       "<div>\n",
       "<style scoped>\n",
       "    .dataframe tbody tr th:only-of-type {\n",
       "        vertical-align: middle;\n",
       "    }\n",
       "\n",
       "    .dataframe tbody tr th {\n",
       "        vertical-align: top;\n",
       "    }\n",
       "\n",
       "    .dataframe thead th {\n",
       "        text-align: right;\n",
       "    }\n",
       "</style>\n",
       "<table border=\"1\" class=\"dataframe\">\n",
       "  <thead>\n",
       "    <tr style=\"text-align: right;\">\n",
       "      <th></th>\n",
       "      <th>Accuracy</th>\n",
       "      <th>Recall</th>\n",
       "      <th>Precision</th>\n",
       "      <th>F1</th>\n",
       "      <th>Minimum_Vs_Model_cost</th>\n",
       "    </tr>\n",
       "  </thead>\n",
       "  <tbody>\n",
       "    <tr>\n",
       "      <th>0</th>\n",
       "      <td>0.999</td>\n",
       "      <td>0.989</td>\n",
       "      <td>1.000</td>\n",
       "      <td>0.994</td>\n",
       "      <td>0.982</td>\n",
       "    </tr>\n",
       "  </tbody>\n",
       "</table>\n",
       "</div>"
      ],
      "text/plain": [
       "   Accuracy  Recall  Precision    F1  Minimum_Vs_Model_cost\n",
       "0     0.999   0.989      1.000 0.994                  0.982"
      ]
     },
     "execution_count": 49,
     "metadata": {},
     "output_type": "execute_result"
    },
    {
     "data": {
      "application/javascript": [
       "\n",
       "            setTimeout(function() {\n",
       "                var nbb_cell_id = 49;\n",
       "                var nbb_unformatted_code = \"# Calculating different metrics on train set\\nbagging_random_train = model_performance_classification_sklearn(\\n    bagging_tuned, X_train, y_train\\n)\\nprint(\\\"Training performance:\\\")\\nbagging_random_train\";\n",
       "                var nbb_formatted_code = \"# Calculating different metrics on train set\\nbagging_random_train = model_performance_classification_sklearn(\\n    bagging_tuned, X_train, y_train\\n)\\nprint(\\\"Training performance:\\\")\\nbagging_random_train\";\n",
       "                var nbb_cells = Jupyter.notebook.get_cells();\n",
       "                for (var i = 0; i < nbb_cells.length; ++i) {\n",
       "                    if (nbb_cells[i].input_prompt_number == nbb_cell_id) {\n",
       "                        if (nbb_cells[i].get_text() == nbb_unformatted_code) {\n",
       "                             nbb_cells[i].set_text(nbb_formatted_code);\n",
       "                        }\n",
       "                        break;\n",
       "                    }\n",
       "                }\n",
       "            }, 500);\n",
       "            "
      ],
      "text/plain": [
       "<IPython.core.display.Javascript object>"
      ]
     },
     "metadata": {},
     "output_type": "display_data"
    }
   ],
   "source": [
    "# Calculating different metrics on train set\n",
    "bagging_random_train = model_performance_classification_sklearn(\n",
    "    bagging_tuned, X_train, y_train\n",
    ")\n",
    "print(\"Training performance:\")\n",
    "bagging_random_train"
   ]
  },
  {
   "cell_type": "code",
   "execution_count": 50,
   "metadata": {},
   "outputs": [
    {
     "name": "stdout",
     "output_type": "stream",
     "text": [
      "Validation performance:\n"
     ]
    },
    {
     "data": {
      "text/html": [
       "<div>\n",
       "<style scoped>\n",
       "    .dataframe tbody tr th:only-of-type {\n",
       "        vertical-align: middle;\n",
       "    }\n",
       "\n",
       "    .dataframe tbody tr th {\n",
       "        vertical-align: top;\n",
       "    }\n",
       "\n",
       "    .dataframe thead th {\n",
       "        text-align: right;\n",
       "    }\n",
       "</style>\n",
       "<table border=\"1\" class=\"dataframe\">\n",
       "  <thead>\n",
       "    <tr style=\"text-align: right;\">\n",
       "      <th></th>\n",
       "      <th>Accuracy</th>\n",
       "      <th>Recall</th>\n",
       "      <th>Precision</th>\n",
       "      <th>F1</th>\n",
       "      <th>Minimum_Vs_Model_cost</th>\n",
       "    </tr>\n",
       "  </thead>\n",
       "  <tbody>\n",
       "    <tr>\n",
       "      <th>0</th>\n",
       "      <td>0.985</td>\n",
       "      <td>0.745</td>\n",
       "      <td>0.978</td>\n",
       "      <td>0.846</td>\n",
       "      <td>0.699</td>\n",
       "    </tr>\n",
       "  </tbody>\n",
       "</table>\n",
       "</div>"
      ],
      "text/plain": [
       "   Accuracy  Recall  Precision    F1  Minimum_Vs_Model_cost\n",
       "0     0.985   0.745      0.978 0.846                  0.699"
      ]
     },
     "execution_count": 50,
     "metadata": {},
     "output_type": "execute_result"
    },
    {
     "data": {
      "application/javascript": [
       "\n",
       "            setTimeout(function() {\n",
       "                var nbb_cell_id = 50;\n",
       "                var nbb_unformatted_code = \"# Calculating different metrics on validation set\\nbagging_random_val = model_performance_classification_sklearn(\\n    bagging_tuned, X_val, y_val\\n)\\nprint(\\\"Validation performance:\\\")\\nbagging_random_val\";\n",
       "                var nbb_formatted_code = \"# Calculating different metrics on validation set\\nbagging_random_val = model_performance_classification_sklearn(\\n    bagging_tuned, X_val, y_val\\n)\\nprint(\\\"Validation performance:\\\")\\nbagging_random_val\";\n",
       "                var nbb_cells = Jupyter.notebook.get_cells();\n",
       "                for (var i = 0; i < nbb_cells.length; ++i) {\n",
       "                    if (nbb_cells[i].input_prompt_number == nbb_cell_id) {\n",
       "                        if (nbb_cells[i].get_text() == nbb_unformatted_code) {\n",
       "                             nbb_cells[i].set_text(nbb_formatted_code);\n",
       "                        }\n",
       "                        break;\n",
       "                    }\n",
       "                }\n",
       "            }, 500);\n",
       "            "
      ],
      "text/plain": [
       "<IPython.core.display.Javascript object>"
      ]
     },
     "metadata": {},
     "output_type": "display_data"
    }
   ],
   "source": [
    "# Calculating different metrics on validation set\n",
    "bagging_random_val = model_performance_classification_sklearn(\n",
    "    bagging_tuned, X_val, y_val\n",
    ")\n",
    "print(\"Validation performance:\")\n",
    "bagging_random_val"
   ]
  },
  {
   "cell_type": "markdown",
   "metadata": {},
   "source": [
    "- The best hyperparameters using RandomizedSearch CV for Bagging Classifier were found to be: n_estimator 50, max_samples 0.9, max_features 0.8\n",
    "- The average 5 fold cross validation training performance score (customized metric) using the best parameter Bagging classifier is 0.71. This is similar to the performance score (customized metric) on the validation set i.e., 0.70. This indicates the model may generalize with a performance score of ~0.69-0.71\n",
    "- The model does however have a tendency to overfit the training set as can be observed from training performance (customized metric score of 0.982)"
   ]
  },
  {
   "cell_type": "markdown",
   "metadata": {
    "id": "D9JNnpxa4jau"
   },
   "source": [
    "## Model Performance comparison and choosing the final model"
   ]
  },
  {
   "cell_type": "code",
   "execution_count": 72,
   "metadata": {},
   "outputs": [
    {
     "name": "stdout",
     "output_type": "stream",
     "text": [
      "Training performance comparison:\n"
     ]
    },
    {
     "data": {
      "text/html": [
       "<div>\n",
       "<style scoped>\n",
       "    .dataframe tbody tr th:only-of-type {\n",
       "        vertical-align: middle;\n",
       "    }\n",
       "\n",
       "    .dataframe tbody tr th {\n",
       "        vertical-align: top;\n",
       "    }\n",
       "\n",
       "    .dataframe thead th {\n",
       "        text-align: right;\n",
       "    }\n",
       "</style>\n",
       "<table border=\"1\" class=\"dataframe\">\n",
       "  <thead>\n",
       "    <tr style=\"text-align: right;\">\n",
       "      <th></th>\n",
       "      <th>XGBoost Tuned with Random search</th>\n",
       "      <th>Random forest Tuned with Random search</th>\n",
       "      <th>Bagging Tuned with Random Search</th>\n",
       "    </tr>\n",
       "  </thead>\n",
       "  <tbody>\n",
       "    <tr>\n",
       "      <th>Accuracy</th>\n",
       "      <td>1.000</td>\n",
       "      <td>0.993</td>\n",
       "      <td>0.999</td>\n",
       "    </tr>\n",
       "    <tr>\n",
       "      <th>Recall</th>\n",
       "      <td>1.000</td>\n",
       "      <td>0.882</td>\n",
       "      <td>0.989</td>\n",
       "    </tr>\n",
       "    <tr>\n",
       "      <th>Precision</th>\n",
       "      <td>0.995</td>\n",
       "      <td>0.998</td>\n",
       "      <td>1.000</td>\n",
       "    </tr>\n",
       "    <tr>\n",
       "      <th>F1</th>\n",
       "      <td>0.997</td>\n",
       "      <td>0.937</td>\n",
       "      <td>0.994</td>\n",
       "    </tr>\n",
       "    <tr>\n",
       "      <th>Minimum_Vs_Model_cost</th>\n",
       "      <td>0.998</td>\n",
       "      <td>0.836</td>\n",
       "      <td>0.982</td>\n",
       "    </tr>\n",
       "  </tbody>\n",
       "</table>\n",
       "</div>"
      ],
      "text/plain": [
       "                       XGBoost Tuned with Random search  \\\n",
       "Accuracy                                          1.000   \n",
       "Recall                                            1.000   \n",
       "Precision                                         0.995   \n",
       "F1                                                0.997   \n",
       "Minimum_Vs_Model_cost                             0.998   \n",
       "\n",
       "                       Random forest Tuned with Random search  \\\n",
       "Accuracy                                                0.993   \n",
       "Recall                                                  0.882   \n",
       "Precision                                               0.998   \n",
       "F1                                                      0.937   \n",
       "Minimum_Vs_Model_cost                                   0.836   \n",
       "\n",
       "                       Bagging Tuned with Random Search  \n",
       "Accuracy                                          0.999  \n",
       "Recall                                            0.989  \n",
       "Precision                                         1.000  \n",
       "F1                                                0.994  \n",
       "Minimum_Vs_Model_cost                             0.982  "
      ]
     },
     "execution_count": 72,
     "metadata": {},
     "output_type": "execute_result"
    },
    {
     "data": {
      "application/javascript": [
       "\n",
       "            setTimeout(function() {\n",
       "                var nbb_cell_id = 72;\n",
       "                var nbb_unformatted_code = \"# training performance comparison\\n\\nmodels_train_comp_df = pd.concat(\\n    [xgboost_random_train.T, rf_random_train.T, bagging_random_train.T,], axis=1,\\n)\\nmodels_train_comp_df.columns = [\\n    \\\"XGBoost Tuned with Random search\\\",\\n    \\\"Random forest Tuned with Random search\\\",\\n    \\\"Bagging Tuned with Random Search\\\",\\n]\\nprint(\\\"Training performance comparison:\\\")\\nmodels_train_comp_df\";\n",
       "                var nbb_formatted_code = \"# training performance comparison\\n\\nmodels_train_comp_df = pd.concat(\\n    [xgboost_random_train.T, rf_random_train.T, bagging_random_train.T,], axis=1,\\n)\\nmodels_train_comp_df.columns = [\\n    \\\"XGBoost Tuned with Random search\\\",\\n    \\\"Random forest Tuned with Random search\\\",\\n    \\\"Bagging Tuned with Random Search\\\",\\n]\\nprint(\\\"Training performance comparison:\\\")\\nmodels_train_comp_df\";\n",
       "                var nbb_cells = Jupyter.notebook.get_cells();\n",
       "                for (var i = 0; i < nbb_cells.length; ++i) {\n",
       "                    if (nbb_cells[i].input_prompt_number == nbb_cell_id) {\n",
       "                        if (nbb_cells[i].get_text() == nbb_unformatted_code) {\n",
       "                             nbb_cells[i].set_text(nbb_formatted_code);\n",
       "                        }\n",
       "                        break;\n",
       "                    }\n",
       "                }\n",
       "            }, 500);\n",
       "            "
      ],
      "text/plain": [
       "<IPython.core.display.Javascript object>"
      ]
     },
     "metadata": {},
     "output_type": "display_data"
    }
   ],
   "source": [
    "# training performance comparison\n",
    "\n",
    "models_train_comp_df = pd.concat(\n",
    "    [xgboost_random_train.T, rf_random_train.T, bagging_random_train.T,], axis=1,\n",
    ")\n",
    "models_train_comp_df.columns = [\n",
    "    \"XGBoost Tuned with Random search\",\n",
    "    \"Random forest Tuned with Random search\",\n",
    "    \"Bagging Tuned with Random Search\",\n",
    "]\n",
    "print(\"Training performance comparison:\")\n",
    "models_train_comp_df"
   ]
  },
  {
   "cell_type": "code",
   "execution_count": 73,
   "metadata": {},
   "outputs": [
    {
     "name": "stdout",
     "output_type": "stream",
     "text": [
      "Validation performance comparison:\n"
     ]
    },
    {
     "data": {
      "text/html": [
       "<div>\n",
       "<style scoped>\n",
       "    .dataframe tbody tr th:only-of-type {\n",
       "        vertical-align: middle;\n",
       "    }\n",
       "\n",
       "    .dataframe tbody tr th {\n",
       "        vertical-align: top;\n",
       "    }\n",
       "\n",
       "    .dataframe thead th {\n",
       "        text-align: right;\n",
       "    }\n",
       "</style>\n",
       "<table border=\"1\" class=\"dataframe\">\n",
       "  <thead>\n",
       "    <tr style=\"text-align: right;\">\n",
       "      <th></th>\n",
       "      <th>XGBoost Tuned with Random search</th>\n",
       "      <th>Random forest Tuned with Random search</th>\n",
       "      <th>Bagging Tuned with Random Search</th>\n",
       "    </tr>\n",
       "  </thead>\n",
       "  <tbody>\n",
       "    <tr>\n",
       "      <th>Accuracy</th>\n",
       "      <td>0.991</td>\n",
       "      <td>0.985</td>\n",
       "      <td>0.985</td>\n",
       "    </tr>\n",
       "    <tr>\n",
       "      <th>Recall</th>\n",
       "      <td>0.877</td>\n",
       "      <td>0.741</td>\n",
       "      <td>0.745</td>\n",
       "    </tr>\n",
       "    <tr>\n",
       "      <th>Precision</th>\n",
       "      <td>0.962</td>\n",
       "      <td>0.988</td>\n",
       "      <td>0.978</td>\n",
       "    </tr>\n",
       "    <tr>\n",
       "      <th>F1</th>\n",
       "      <td>0.917</td>\n",
       "      <td>0.847</td>\n",
       "      <td>0.846</td>\n",
       "    </tr>\n",
       "    <tr>\n",
       "      <th>Minimum_Vs_Model_cost</th>\n",
       "      <td>0.821</td>\n",
       "      <td>0.697</td>\n",
       "      <td>0.699</td>\n",
       "    </tr>\n",
       "  </tbody>\n",
       "</table>\n",
       "</div>"
      ],
      "text/plain": [
       "                       XGBoost Tuned with Random search  \\\n",
       "Accuracy                                          0.991   \n",
       "Recall                                            0.877   \n",
       "Precision                                         0.962   \n",
       "F1                                                0.917   \n",
       "Minimum_Vs_Model_cost                             0.821   \n",
       "\n",
       "                       Random forest Tuned with Random search  \\\n",
       "Accuracy                                                0.985   \n",
       "Recall                                                  0.741   \n",
       "Precision                                               0.988   \n",
       "F1                                                      0.847   \n",
       "Minimum_Vs_Model_cost                                   0.697   \n",
       "\n",
       "                       Bagging Tuned with Random Search  \n",
       "Accuracy                                          0.985  \n",
       "Recall                                            0.745  \n",
       "Precision                                         0.978  \n",
       "F1                                                0.846  \n",
       "Minimum_Vs_Model_cost                             0.699  "
      ]
     },
     "execution_count": 73,
     "metadata": {},
     "output_type": "execute_result"
    },
    {
     "data": {
      "application/javascript": [
       "\n",
       "            setTimeout(function() {\n",
       "                var nbb_cell_id = 73;\n",
       "                var nbb_unformatted_code = \"# training performance comparison\\n\\nmodels_val_comp_df = pd.concat(\\n    [xgboost_random_val.T, rf_random_val.T, bagging_random_val.T,], axis=1,\\n)\\nmodels_val_comp_df.columns = [\\n    \\\"XGBoost Tuned with Random search\\\",\\n    \\\"Random forest Tuned with Random search\\\",\\n    \\\"Bagging Tuned with Random Search\\\",\\n]\\nprint(\\\"Validation performance comparison:\\\")\\nmodels_val_comp_df\";\n",
       "                var nbb_formatted_code = \"# training performance comparison\\n\\nmodels_val_comp_df = pd.concat(\\n    [xgboost_random_val.T, rf_random_val.T, bagging_random_val.T,], axis=1,\\n)\\nmodels_val_comp_df.columns = [\\n    \\\"XGBoost Tuned with Random search\\\",\\n    \\\"Random forest Tuned with Random search\\\",\\n    \\\"Bagging Tuned with Random Search\\\",\\n]\\nprint(\\\"Validation performance comparison:\\\")\\nmodels_val_comp_df\";\n",
       "                var nbb_cells = Jupyter.notebook.get_cells();\n",
       "                for (var i = 0; i < nbb_cells.length; ++i) {\n",
       "                    if (nbb_cells[i].input_prompt_number == nbb_cell_id) {\n",
       "                        if (nbb_cells[i].get_text() == nbb_unformatted_code) {\n",
       "                             nbb_cells[i].set_text(nbb_formatted_code);\n",
       "                        }\n",
       "                        break;\n",
       "                    }\n",
       "                }\n",
       "            }, 500);\n",
       "            "
      ],
      "text/plain": [
       "<IPython.core.display.Javascript object>"
      ]
     },
     "metadata": {},
     "output_type": "display_data"
    }
   ],
   "source": [
    "# training performance comparison\n",
    "\n",
    "models_val_comp_df = pd.concat(\n",
    "    [xgboost_random_val.T, rf_random_val.T, bagging_random_val.T,], axis=1,\n",
    ")\n",
    "models_val_comp_df.columns = [\n",
    "    \"XGBoost Tuned with Random search\",\n",
    "    \"Random forest Tuned with Random search\",\n",
    "    \"Bagging Tuned with Random Search\",\n",
    "]\n",
    "print(\"Validation performance comparison:\")\n",
    "models_val_comp_df"
   ]
  },
  {
   "cell_type": "markdown",
   "metadata": {},
   "source": [
    "- The XGBoost Tuned model with Random Search is giving the highest performance score (Minimum_Vs_Model_cost) of 0.821 on the Validation Set. Although this algorithm is giving much higher performance on training set (0.998) indicating overfitting, we still observe the following -\n",
    "  - The average cross validation Training performance score (Minimum_Vs_Model_cost) with this model is 0.80, similar to the validation score of 0.821\n",
    "  - The accuracy, precision and F1 scores of the training & validation models are very much comparable\n",
    "    \n",
    "    \n",
    "- We will choose this tuned model to see if it can generalize well on the testing dataset to give a likewise high performance score (Minimum_Vs_Model_cost) ~ 0.8"
   ]
  },
  {
   "cell_type": "markdown",
   "metadata": {
    "id": "d_pDMFAz4jav"
   },
   "source": [
    "## Test set final performance"
   ]
  },
  {
   "cell_type": "code",
   "execution_count": 51,
   "metadata": {},
   "outputs": [
    {
     "data": {
      "application/javascript": [
       "\n",
       "            setTimeout(function() {\n",
       "                var nbb_cell_id = 51;\n",
       "                var nbb_unformatted_code = \"# Loading the dataset\\ntest = pd.read_csv(\\\"test.csv\\\")\";\n",
       "                var nbb_formatted_code = \"# Loading the dataset\\ntest = pd.read_csv(\\\"test.csv\\\")\";\n",
       "                var nbb_cells = Jupyter.notebook.get_cells();\n",
       "                for (var i = 0; i < nbb_cells.length; ++i) {\n",
       "                    if (nbb_cells[i].input_prompt_number == nbb_cell_id) {\n",
       "                        if (nbb_cells[i].get_text() == nbb_unformatted_code) {\n",
       "                             nbb_cells[i].set_text(nbb_formatted_code);\n",
       "                        }\n",
       "                        break;\n",
       "                    }\n",
       "                }\n",
       "            }, 500);\n",
       "            "
      ],
      "text/plain": [
       "<IPython.core.display.Javascript object>"
      ]
     },
     "metadata": {},
     "output_type": "display_data"
    }
   ],
   "source": [
    "# Loading the dataset\n",
    "test = pd.read_csv(\"test.csv\")"
   ]
  },
  {
   "cell_type": "code",
   "execution_count": 52,
   "metadata": {},
   "outputs": [
    {
     "data": {
      "application/javascript": [
       "\n",
       "            setTimeout(function() {\n",
       "                var nbb_cell_id = 52;\n",
       "                var nbb_unformatted_code = \"X_test = test.drop([\\\"Target\\\"], axis=1)\\ny_test = test[\\\"Target\\\"]\";\n",
       "                var nbb_formatted_code = \"X_test = test.drop([\\\"Target\\\"], axis=1)\\ny_test = test[\\\"Target\\\"]\";\n",
       "                var nbb_cells = Jupyter.notebook.get_cells();\n",
       "                for (var i = 0; i < nbb_cells.length; ++i) {\n",
       "                    if (nbb_cells[i].input_prompt_number == nbb_cell_id) {\n",
       "                        if (nbb_cells[i].get_text() == nbb_unformatted_code) {\n",
       "                             nbb_cells[i].set_text(nbb_formatted_code);\n",
       "                        }\n",
       "                        break;\n",
       "                    }\n",
       "                }\n",
       "            }, 500);\n",
       "            "
      ],
      "text/plain": [
       "<IPython.core.display.Javascript object>"
      ]
     },
     "metadata": {},
     "output_type": "display_data"
    }
   ],
   "source": [
    "X_test = test.drop([\"Target\"], axis=1)\n",
    "y_test = test[\"Target\"]"
   ]
  },
  {
   "cell_type": "code",
   "execution_count": 53,
   "metadata": {},
   "outputs": [
    {
     "data": {
      "text/plain": [
       "0    9453\n",
       "1     547\n",
       "Name: Target, dtype: int64"
      ]
     },
     "execution_count": 53,
     "metadata": {},
     "output_type": "execute_result"
    },
    {
     "data": {
      "application/javascript": [
       "\n",
       "            setTimeout(function() {\n",
       "                var nbb_cell_id = 53;\n",
       "                var nbb_unformatted_code = \"y_test.value_counts()\";\n",
       "                var nbb_formatted_code = \"y_test.value_counts()\";\n",
       "                var nbb_cells = Jupyter.notebook.get_cells();\n",
       "                for (var i = 0; i < nbb_cells.length; ++i) {\n",
       "                    if (nbb_cells[i].input_prompt_number == nbb_cell_id) {\n",
       "                        if (nbb_cells[i].get_text() == nbb_unformatted_code) {\n",
       "                             nbb_cells[i].set_text(nbb_formatted_code);\n",
       "                        }\n",
       "                        break;\n",
       "                    }\n",
       "                }\n",
       "            }, 500);\n",
       "            "
      ],
      "text/plain": [
       "<IPython.core.display.Javascript object>"
      ]
     },
     "metadata": {},
     "output_type": "display_data"
    }
   ],
   "source": [
    "y_test.value_counts()"
   ]
  },
  {
   "cell_type": "markdown",
   "metadata": {},
   "source": [
    "- The test data has likewise 94.53% \"0\" or \"No failures\" and 5.47% \"1\" or \"Failures\""
   ]
  },
  {
   "cell_type": "code",
   "execution_count": 54,
   "metadata": {},
   "outputs": [
    {
     "name": "stdout",
     "output_type": "stream",
     "text": [
      "<class 'pandas.core.frame.DataFrame'>\n",
      "RangeIndex: 10000 entries, 0 to 9999\n",
      "Data columns (total 40 columns):\n",
      " #   Column  Non-Null Count  Dtype  \n",
      "---  ------  --------------  -----  \n",
      " 0   V1      9989 non-null   float64\n",
      " 1   V2      9993 non-null   float64\n",
      " 2   V3      10000 non-null  float64\n",
      " 3   V4      10000 non-null  float64\n",
      " 4   V5      10000 non-null  float64\n",
      " 5   V6      10000 non-null  float64\n",
      " 6   V7      10000 non-null  float64\n",
      " 7   V8      10000 non-null  float64\n",
      " 8   V9      10000 non-null  float64\n",
      " 9   V10     10000 non-null  float64\n",
      " 10  V11     10000 non-null  float64\n",
      " 11  V12     10000 non-null  float64\n",
      " 12  V13     10000 non-null  float64\n",
      " 13  V14     10000 non-null  float64\n",
      " 14  V15     10000 non-null  float64\n",
      " 15  V16     10000 non-null  float64\n",
      " 16  V17     10000 non-null  float64\n",
      " 17  V18     10000 non-null  float64\n",
      " 18  V19     10000 non-null  float64\n",
      " 19  V20     10000 non-null  float64\n",
      " 20  V21     10000 non-null  float64\n",
      " 21  V22     10000 non-null  float64\n",
      " 22  V23     10000 non-null  float64\n",
      " 23  V24     10000 non-null  float64\n",
      " 24  V25     10000 non-null  float64\n",
      " 25  V26     10000 non-null  float64\n",
      " 26  V27     10000 non-null  float64\n",
      " 27  V28     10000 non-null  float64\n",
      " 28  V29     10000 non-null  float64\n",
      " 29  V30     10000 non-null  float64\n",
      " 30  V31     10000 non-null  float64\n",
      " 31  V32     10000 non-null  float64\n",
      " 32  V33     10000 non-null  float64\n",
      " 33  V34     10000 non-null  float64\n",
      " 34  V35     10000 non-null  float64\n",
      " 35  V36     10000 non-null  float64\n",
      " 36  V37     10000 non-null  float64\n",
      " 37  V38     10000 non-null  float64\n",
      " 38  V39     10000 non-null  float64\n",
      " 39  V40     10000 non-null  float64\n",
      "dtypes: float64(40)\n",
      "memory usage: 3.1 MB\n"
     ]
    },
    {
     "data": {
      "application/javascript": [
       "\n",
       "            setTimeout(function() {\n",
       "                var nbb_cell_id = 54;\n",
       "                var nbb_unformatted_code = \"X_test.info()\";\n",
       "                var nbb_formatted_code = \"X_test.info()\";\n",
       "                var nbb_cells = Jupyter.notebook.get_cells();\n",
       "                for (var i = 0; i < nbb_cells.length; ++i) {\n",
       "                    if (nbb_cells[i].input_prompt_number == nbb_cell_id) {\n",
       "                        if (nbb_cells[i].get_text() == nbb_unformatted_code) {\n",
       "                             nbb_cells[i].set_text(nbb_formatted_code);\n",
       "                        }\n",
       "                        break;\n",
       "                    }\n",
       "                }\n",
       "            }, 500);\n",
       "            "
      ],
      "text/plain": [
       "<IPython.core.display.Javascript object>"
      ]
     },
     "metadata": {},
     "output_type": "display_data"
    }
   ],
   "source": [
    "X_test.info()"
   ]
  },
  {
   "cell_type": "markdown",
   "metadata": {},
   "source": [
    "- There are 11 & 7 missing values for attributes \"V1\" and \"V2\""
   ]
  },
  {
   "cell_type": "code",
   "execution_count": 55,
   "metadata": {},
   "outputs": [
    {
     "data": {
      "application/javascript": [
       "\n",
       "            setTimeout(function() {\n",
       "                var nbb_cell_id = 55;\n",
       "                var nbb_unformatted_code = \"imputer = SimpleImputer(strategy=\\\"median\\\")\\nimpute = imputer.fit(X_test)\\nX_test = imputer.transform(X_test)\";\n",
       "                var nbb_formatted_code = \"imputer = SimpleImputer(strategy=\\\"median\\\")\\nimpute = imputer.fit(X_test)\\nX_test = imputer.transform(X_test)\";\n",
       "                var nbb_cells = Jupyter.notebook.get_cells();\n",
       "                for (var i = 0; i < nbb_cells.length; ++i) {\n",
       "                    if (nbb_cells[i].input_prompt_number == nbb_cell_id) {\n",
       "                        if (nbb_cells[i].get_text() == nbb_unformatted_code) {\n",
       "                             nbb_cells[i].set_text(nbb_formatted_code);\n",
       "                        }\n",
       "                        break;\n",
       "                    }\n",
       "                }\n",
       "            }, 500);\n",
       "            "
      ],
      "text/plain": [
       "<IPython.core.display.Javascript object>"
      ]
     },
     "metadata": {},
     "output_type": "display_data"
    }
   ],
   "source": [
    "imputer = SimpleImputer(strategy=\"median\")\n",
    "impute = imputer.fit(X_test)\n",
    "X_test = imputer.transform(X_test)"
   ]
  },
  {
   "cell_type": "code",
   "execution_count": 56,
   "metadata": {},
   "outputs": [
    {
     "name": "stdout",
     "output_type": "stream",
     "text": [
      "\n",
      "Test Performance:\n",
      "\n",
      "XGboost_tuned: 0.791988416988417\n"
     ]
    },
    {
     "data": {
      "application/javascript": [
       "\n",
       "            setTimeout(function() {\n",
       "                var nbb_cell_id = 56;\n",
       "                var nbb_unformatted_code = \"print(\\\"\\\\n\\\" \\\"Test Performance:\\\" \\\"\\\\n\\\")\\n\\nfinal_model = XGBClassifier(\\n    subsample=0.9,\\n    scale_pos_weight=10,\\n    n_estimators=250,\\n    learning_rate=0.1,\\n    gamma=3,\\n    random_state=1,\\n    eval_metric=\\\"logloss\\\")\\nname = \\\"XGboost_tuned\\\"\\n\\nfinal_model.fit(X_train, y_train)\\nfinal_scores = Minimum_Vs_Model_cost(y_test, final_model.predict(X_test))\\nprint(\\\"{}: {}\\\".format(name, final_scores))\";\n",
       "                var nbb_formatted_code = \"print(\\\"\\\\n\\\" \\\"Test Performance:\\\" \\\"\\\\n\\\")\\n\\nfinal_model = XGBClassifier(\\n    subsample=0.9,\\n    scale_pos_weight=10,\\n    n_estimators=250,\\n    learning_rate=0.1,\\n    gamma=3,\\n    random_state=1,\\n    eval_metric=\\\"logloss\\\",\\n)\\nname = \\\"XGboost_tuned\\\"\\n\\nfinal_model.fit(X_train, y_train)\\nfinal_scores = Minimum_Vs_Model_cost(y_test, final_model.predict(X_test))\\nprint(\\\"{}: {}\\\".format(name, final_scores))\";\n",
       "                var nbb_cells = Jupyter.notebook.get_cells();\n",
       "                for (var i = 0; i < nbb_cells.length; ++i) {\n",
       "                    if (nbb_cells[i].input_prompt_number == nbb_cell_id) {\n",
       "                        if (nbb_cells[i].get_text() == nbb_unformatted_code) {\n",
       "                             nbb_cells[i].set_text(nbb_formatted_code);\n",
       "                        }\n",
       "                        break;\n",
       "                    }\n",
       "                }\n",
       "            }, 500);\n",
       "            "
      ],
      "text/plain": [
       "<IPython.core.display.Javascript object>"
      ]
     },
     "metadata": {},
     "output_type": "display_data"
    }
   ],
   "source": [
    "print(\"\\n\" \"Test Performance:\" \"\\n\")\n",
    "\n",
    "final_model = XGBClassifier(\n",
    "    subsample=0.9,\n",
    "    scale_pos_weight=10,\n",
    "    n_estimators=250,\n",
    "    learning_rate=0.1,\n",
    "    gamma=3,\n",
    "    random_state=1,\n",
    "    eval_metric=\"logloss\",\n",
    ")\n",
    "name = \"XGboost_tuned\"\n",
    "\n",
    "final_model.fit(X_train, y_train)\n",
    "final_scores = Minimum_Vs_Model_cost(y_test, final_model.predict(X_test))\n",
    "print(\"{}: {}\".format(name, final_scores))"
   ]
  },
  {
   "cell_type": "code",
   "execution_count": 57,
   "metadata": {},
   "outputs": [
    {
     "data": {
      "text/html": [
       "<div>\n",
       "<style scoped>\n",
       "    .dataframe tbody tr th:only-of-type {\n",
       "        vertical-align: middle;\n",
       "    }\n",
       "\n",
       "    .dataframe tbody tr th {\n",
       "        vertical-align: top;\n",
       "    }\n",
       "\n",
       "    .dataframe thead th {\n",
       "        text-align: right;\n",
       "    }\n",
       "</style>\n",
       "<table border=\"1\" class=\"dataframe\">\n",
       "  <thead>\n",
       "    <tr style=\"text-align: right;\">\n",
       "      <th></th>\n",
       "      <th>Accuracy</th>\n",
       "      <th>Recall</th>\n",
       "      <th>Precision</th>\n",
       "      <th>F1</th>\n",
       "      <th>Minimum_Vs_Model_cost</th>\n",
       "    </tr>\n",
       "  </thead>\n",
       "  <tbody>\n",
       "    <tr>\n",
       "      <th>0</th>\n",
       "      <td>0.990</td>\n",
       "      <td>0.850</td>\n",
       "      <td>0.957</td>\n",
       "      <td>0.900</td>\n",
       "      <td>0.792</td>\n",
       "    </tr>\n",
       "  </tbody>\n",
       "</table>\n",
       "</div>"
      ],
      "text/plain": [
       "   Accuracy  Recall  Precision    F1  Minimum_Vs_Model_cost\n",
       "0     0.990   0.850      0.957 0.900                  0.792"
      ]
     },
     "execution_count": 57,
     "metadata": {},
     "output_type": "execute_result"
    },
    {
     "data": {
      "application/javascript": [
       "\n",
       "            setTimeout(function() {\n",
       "                var nbb_cell_id = 57;\n",
       "                var nbb_unformatted_code = \"xgboost_test = model_performance_classification_sklearn(final_model, X_test, y_test)\\nxgboost_test\";\n",
       "                var nbb_formatted_code = \"xgboost_test = model_performance_classification_sklearn(final_model, X_test, y_test)\\nxgboost_test\";\n",
       "                var nbb_cells = Jupyter.notebook.get_cells();\n",
       "                for (var i = 0; i < nbb_cells.length; ++i) {\n",
       "                    if (nbb_cells[i].input_prompt_number == nbb_cell_id) {\n",
       "                        if (nbb_cells[i].get_text() == nbb_unformatted_code) {\n",
       "                             nbb_cells[i].set_text(nbb_formatted_code);\n",
       "                        }\n",
       "                        break;\n",
       "                    }\n",
       "                }\n",
       "            }, 500);\n",
       "            "
      ],
      "text/plain": [
       "<IPython.core.display.Javascript object>"
      ]
     },
     "metadata": {},
     "output_type": "display_data"
    }
   ],
   "source": [
    "xgboost_test = model_performance_classification_sklearn(final_model, X_test, y_test)\n",
    "xgboost_test"
   ]
  },
  {
   "cell_type": "code",
   "execution_count": 75,
   "metadata": {},
   "outputs": [
    {
     "data": {
      "image/png": "[encoded data removed]",
      "text/plain": [
       "<Figure size 432x288 with 2 Axes>"
      ]
     },
     "metadata": {
      "needs_background": "light"
     },
     "output_type": "display_data"
    },
    {
     "data": {
      "application/javascript": [
       "\n",
       "            setTimeout(function() {\n",
       "                var nbb_cell_id = 75;\n",
       "                var nbb_unformatted_code = \"# creating confusion matrix\\nconfusion_matrix_sklearn(final_model, X_test, y_test)\";\n",
       "                var nbb_formatted_code = \"# creating confusion matrix\\nconfusion_matrix_sklearn(final_model, X_test, y_test)\";\n",
       "                var nbb_cells = Jupyter.notebook.get_cells();\n",
       "                for (var i = 0; i < nbb_cells.length; ++i) {\n",
       "                    if (nbb_cells[i].input_prompt_number == nbb_cell_id) {\n",
       "                        if (nbb_cells[i].get_text() == nbb_unformatted_code) {\n",
       "                             nbb_cells[i].set_text(nbb_formatted_code);\n",
       "                        }\n",
       "                        break;\n",
       "                    }\n",
       "                }\n",
       "            }, 500);\n",
       "            "
      ],
      "text/plain": [
       "<IPython.core.display.Javascript object>"
      ]
     },
     "metadata": {},
     "output_type": "display_data"
    }
   ],
   "source": [
    "# creating confusion matrix\n",
    "confusion_matrix_sklearn(final_model, X_test, y_test)"
   ]
  },
  {
   "cell_type": "markdown",
   "metadata": {},
   "source": [
    "- The XGBoost tuned model is generalizing well on the test data with a Minimum_Vs_Model_cost of 0.792 (the cross validation training average score was 0.799 and the validation score was 0.821)\n",
    "- The model is able to make predictions resulting in a maintenance cost ~ (1/0.792 or ~1.26) times the minimum maintenance cost possible"
   ]
  },
  {
   "cell_type": "code",
   "execution_count": 74,
   "metadata": {},
   "outputs": [
    {
     "data": {
      "image/png": "[encoded data removed]",
      "text/plain": [
       "<Figure size 864x864 with 1 Axes>"
      ]
     },
     "metadata": {
      "needs_background": "light"
     },
     "output_type": "display_data"
    },
    {
     "data": {
      "application/javascript": [
       "\n",
       "            setTimeout(function() {\n",
       "                var nbb_cell_id = 74;\n",
       "                var nbb_unformatted_code = \"feature_names = data.columns\\nimportances = final_model.feature_importances_\\nindices = np.argsort(importances)\\n\\nplt.figure(figsize=(12, 12))\\nplt.title(\\\"Feature Importances\\\")\\nplt.barh(range(len(indices)), importances[indices], color=\\\"violet\\\", align=\\\"center\\\")\\nplt.yticks(range(len(indices)), [feature_names[i] for i in indices])\\nplt.xlabel(\\\"Relative Importance\\\")\\nplt.show()\";\n",
       "                var nbb_formatted_code = \"feature_names = data.columns\\nimportances = final_model.feature_importances_\\nindices = np.argsort(importances)\\n\\nplt.figure(figsize=(12, 12))\\nplt.title(\\\"Feature Importances\\\")\\nplt.barh(range(len(indices)), importances[indices], color=\\\"violet\\\", align=\\\"center\\\")\\nplt.yticks(range(len(indices)), [feature_names[i] for i in indices])\\nplt.xlabel(\\\"Relative Importance\\\")\\nplt.show()\";\n",
       "                var nbb_cells = Jupyter.notebook.get_cells();\n",
       "                for (var i = 0; i < nbb_cells.length; ++i) {\n",
       "                    if (nbb_cells[i].input_prompt_number == nbb_cell_id) {\n",
       "                        if (nbb_cells[i].get_text() == nbb_unformatted_code) {\n",
       "                             nbb_cells[i].set_text(nbb_formatted_code);\n",
       "                        }\n",
       "                        break;\n",
       "                    }\n",
       "                }\n",
       "            }, 500);\n",
       "            "
      ],
      "text/plain": [
       "<IPython.core.display.Javascript object>"
      ]
     },
     "metadata": {},
     "output_type": "display_data"
    }
   ],
   "source": [
    "feature_names = data.columns\n",
    "importances = final_model.feature_importances_\n",
    "indices = np.argsort(importances)\n",
    "\n",
    "plt.figure(figsize=(12, 12))\n",
    "plt.title(\"Feature Importances\")\n",
    "plt.barh(range(len(indices)), importances[indices], color=\"violet\", align=\"center\")\n",
    "plt.yticks(range(len(indices)), [feature_names[i] for i in indices])\n",
    "plt.xlabel(\"Relative Importance\")\n",
    "plt.show()"
   ]
  },
  {
   "cell_type": "markdown",
   "metadata": {},
   "source": [
    "- The top attributes which have the maximum importance for making accurate failure/ no-failure predictions are \"V18\", \"V39\", \"V26\", \"V3\" & \"V10\""
   ]
  },
  {
   "cell_type": "markdown",
   "metadata": {
    "id": "TM6VZTRn4jav"
   },
   "source": [
    "## Pipelines to build the final model\n",
    "\n",
    "- Pipelines can be used to put the final model in production"
   ]
  },
  {
   "cell_type": "code",
   "execution_count": 59,
   "metadata": {},
   "outputs": [
    {
     "data": {
      "application/javascript": [
       "\n",
       "            setTimeout(function() {\n",
       "                var nbb_cell_id = 59;\n",
       "                var nbb_unformatted_code = \"# As we already know the final model, we will not be splitting test set into test and validation sets\\n\\nX_train_pipeline = train.drop(\\\"Target\\\", axis=1)\\ny_train_pipeline = train[\\\"Target\\\"]\";\n",
       "                var nbb_formatted_code = \"# As we already know the final model, we will not be splitting test set into test and validation sets\\n\\nX_train_pipeline = train.drop(\\\"Target\\\", axis=1)\\ny_train_pipeline = train[\\\"Target\\\"]\";\n",
       "                var nbb_cells = Jupyter.notebook.get_cells();\n",
       "                for (var i = 0; i < nbb_cells.length; ++i) {\n",
       "                    if (nbb_cells[i].input_prompt_number == nbb_cell_id) {\n",
       "                        if (nbb_cells[i].get_text() == nbb_unformatted_code) {\n",
       "                             nbb_cells[i].set_text(nbb_formatted_code);\n",
       "                        }\n",
       "                        break;\n",
       "                    }\n",
       "                }\n",
       "            }, 500);\n",
       "            "
      ],
      "text/plain": [
       "<IPython.core.display.Javascript object>"
      ]
     },
     "metadata": {},
     "output_type": "display_data"
    }
   ],
   "source": [
    "# As we already know the final model, we will not be splitting train set into train and validation sets\n",
    "\n",
    "X_train_pipeline = train.drop(\"Target\", axis=1)\n",
    "y_train_pipeline = train[\"Target\"]"
   ]
  },
  {
   "cell_type": "code",
   "execution_count": 60,
   "metadata": {},
   "outputs": [
    {
     "data": {
      "application/javascript": [
       "\n",
       "            setTimeout(function() {\n",
       "                var nbb_cell_id = 60;\n",
       "                var nbb_unformatted_code = \"X_test_pipeline = test.drop(\\\"Target\\\", axis=1)\\ny_test_pipeline = test[\\\"Target\\\"]\";\n",
       "                var nbb_formatted_code = \"X_test_pipeline = test.drop(\\\"Target\\\", axis=1)\\ny_test_pipeline = test[\\\"Target\\\"]\";\n",
       "                var nbb_cells = Jupyter.notebook.get_cells();\n",
       "                for (var i = 0; i < nbb_cells.length; ++i) {\n",
       "                    if (nbb_cells[i].input_prompt_number == nbb_cell_id) {\n",
       "                        if (nbb_cells[i].get_text() == nbb_unformatted_code) {\n",
       "                             nbb_cells[i].set_text(nbb_formatted_code);\n",
       "                        }\n",
       "                        break;\n",
       "                    }\n",
       "                }\n",
       "            }, 500);\n",
       "            "
      ],
      "text/plain": [
       "<IPython.core.display.Javascript object>"
      ]
     },
     "metadata": {},
     "output_type": "display_data"
    }
   ],
   "source": [
    "X_test_pipeline = test.drop(\"Target\", axis=1)\n",
    "y_test_pipeline = test[\"Target\"]"
   ]
  },
  {
   "cell_type": "code",
   "execution_count": 61,
   "metadata": {
    "id": "Zzg12gvx4jav"
   },
   "outputs": [
    {
     "data": {
      "text/plain": [
       "Pipeline(steps=[('imputer', SimpleImputer(strategy='median')),\n",
       "                ('XGB',\n",
       "                 XGBClassifier(base_score=0.5, booster='gbtree',\n",
       "                               colsample_bylevel=1, colsample_bynode=1,\n",
       "                               colsample_bytree=1, eval_metric='logloss',\n",
       "                               gamma=3, gpu_id=-1, importance_type='gain',\n",
       "                               interaction_constraints='', learning_rate=0.1,\n",
       "                               max_delta_step=0, max_depth=6,\n",
       "                               min_child_weight=1, missing=nan,\n",
       "                               monotone_constraints='()', n_estimators=250,\n",
       "                               n_jobs=4, num_parallel_tree=1, random_state=1,\n",
       "                               reg_alpha=0, reg_lambda=1, scale_pos_weight=10,\n",
       "                               subsample=0.9, tree_method='exact',\n",
       "                               validate_parameters=1, verbosity=None))])"
      ]
     },
     "execution_count": 61,
     "metadata": {},
     "output_type": "execute_result"
    },
    {
     "data": {
      "application/javascript": [
       "\n",
       "            setTimeout(function() {\n",
       "                var nbb_cell_id = 61;\n",
       "                var nbb_unformatted_code = \"model_pipeline = Pipeline(\\n    steps=[\\n        (\\\"imputer\\\", SimpleImputer(strategy=\\\"median\\\")),\\n        (\\\"XGB\\\", XGBClassifier(\\n    subsample=0.9,\\n    scale_pos_weight=10,\\n    n_estimators=250,\\n    learning_rate=0.1,\\n    gamma=3,\\n    random_state=1,\\n    eval_metric=\\\"logloss\\\")),\\n    ]\\n)\\n# Fit the model on training data\\nmodel_pipeline.fit(X_train_pipeline, y_train_pipeline)\";\n",
       "                var nbb_formatted_code = \"model_pipeline = Pipeline(\\n    steps=[\\n        (\\\"imputer\\\", SimpleImputer(strategy=\\\"median\\\")),\\n        (\\n            \\\"XGB\\\",\\n            XGBClassifier(\\n                subsample=0.9,\\n                scale_pos_weight=10,\\n                n_estimators=250,\\n                learning_rate=0.1,\\n                gamma=3,\\n                random_state=1,\\n                eval_metric=\\\"logloss\\\",\\n            ),\\n        ),\\n    ]\\n)\\n# Fit the model on training data\\nmodel_pipeline.fit(X_train_pipeline, y_train_pipeline)\";\n",
       "                var nbb_cells = Jupyter.notebook.get_cells();\n",
       "                for (var i = 0; i < nbb_cells.length; ++i) {\n",
       "                    if (nbb_cells[i].input_prompt_number == nbb_cell_id) {\n",
       "                        if (nbb_cells[i].get_text() == nbb_unformatted_code) {\n",
       "                             nbb_cells[i].set_text(nbb_formatted_code);\n",
       "                        }\n",
       "                        break;\n",
       "                    }\n",
       "                }\n",
       "            }, 500);\n",
       "            "
      ],
      "text/plain": [
       "<IPython.core.display.Javascript object>"
      ]
     },
     "metadata": {},
     "output_type": "display_data"
    }
   ],
   "source": [
    "model_pipeline = Pipeline(\n",
    "    steps=[\n",
    "        (\"imputer\", SimpleImputer(strategy=\"median\")),\n",
    "        (\n",
    "            \"XGB\",\n",
    "            XGBClassifier(\n",
    "                subsample=0.9,\n",
    "                scale_pos_weight=10,\n",
    "                n_estimators=250,\n",
    "                learning_rate=0.1,\n",
    "                gamma=3,\n",
    "                random_state=1,\n",
    "                eval_metric=\"logloss\",\n",
    "            ),\n",
    "        ),\n",
    "    ]\n",
    ")\n",
    "# Fit the model on training data\n",
    "model_pipeline.fit(X_train_pipeline, y_train_pipeline)"
   ]
  },
  {
   "cell_type": "code",
   "execution_count": 62,
   "metadata": {},
   "outputs": [
    {
     "data": {
      "text/plain": [
       "array([0, 0, 0, ..., 0, 0, 0])"
      ]
     },
     "execution_count": 62,
     "metadata": {},
     "output_type": "execute_result"
    },
    {
     "data": {
      "application/javascript": [
       "\n",
       "            setTimeout(function() {\n",
       "                var nbb_cell_id = 62;\n",
       "                var nbb_unformatted_code = \"# transforming and predicting on test data\\nmodel_pipeline.predict(X_test_pipeline)\";\n",
       "                var nbb_formatted_code = \"# transforming and predicting on test data\\nmodel_pipeline.predict(X_test_pipeline)\";\n",
       "                var nbb_cells = Jupyter.notebook.get_cells();\n",
       "                for (var i = 0; i < nbb_cells.length; ++i) {\n",
       "                    if (nbb_cells[i].input_prompt_number == nbb_cell_id) {\n",
       "                        if (nbb_cells[i].get_text() == nbb_unformatted_code) {\n",
       "                             nbb_cells[i].set_text(nbb_formatted_code);\n",
       "                        }\n",
       "                        break;\n",
       "                    }\n",
       "                }\n",
       "            }, 500);\n",
       "            "
      ],
      "text/plain": [
       "<IPython.core.display.Javascript object>"
      ]
     },
     "metadata": {},
     "output_type": "display_data"
    }
   ],
   "source": [
    "# transforming and predicting on test data\n",
    "model_pipeline.predict(X_test_pipeline)"
   ]
  },
  {
   "cell_type": "code",
   "execution_count": 63,
   "metadata": {},
   "outputs": [
    {
     "data": {
      "text/plain": [
       "0.7997076023391813"
      ]
     },
     "execution_count": 63,
     "metadata": {},
     "output_type": "execute_result"
    },
    {
     "data": {
      "application/javascript": [
       "\n",
       "            setTimeout(function() {\n",
       "                var nbb_cell_id = 63;\n",
       "                var nbb_unformatted_code = \"Minimum_Vs_Model_cost(y_test_pipeline, model_pipeline.predict(X_test_pipeline))\";\n",
       "                var nbb_formatted_code = \"Minimum_Vs_Model_cost(y_test_pipeline, model_pipeline.predict(X_test_pipeline))\";\n",
       "                var nbb_cells = Jupyter.notebook.get_cells();\n",
       "                for (var i = 0; i < nbb_cells.length; ++i) {\n",
       "                    if (nbb_cells[i].input_prompt_number == nbb_cell_id) {\n",
       "                        if (nbb_cells[i].get_text() == nbb_unformatted_code) {\n",
       "                             nbb_cells[i].set_text(nbb_formatted_code);\n",
       "                        }\n",
       "                        break;\n",
       "                    }\n",
       "                }\n",
       "            }, 500);\n",
       "            "
      ],
      "text/plain": [
       "<IPython.core.display.Javascript object>"
      ]
     },
     "metadata": {},
     "output_type": "display_data"
    }
   ],
   "source": [
    "Minimum_Vs_Model_cost(y_test_pipeline, model_pipeline.predict(X_test_pipeline))"
   ]
  },
  {
   "cell_type": "markdown",
   "metadata": {},
   "source": [
    "- The pipeline performance is as expected (Minimum_Vs_Model_cost 0.799) indicating it was built accurately to replicate the final chosen model after necessary pre processing "
   ]
  },
  {
   "cell_type": "markdown",
   "metadata": {
    "id": "c5hPmHyR4jaw"
   },
   "source": [
    "# Business Insights and Conclusions"
   ]
  },
  {
   "cell_type": "markdown",
   "metadata": {
    "id": "FnBbg6sH4jaw"
   },
   "source": [
    "- A machine learning model has been built to minimize the total maintenance cost of machinery/processes used for wind energy production\n",
    "    - The final tuned model (XGBoost) was chosen after building ~7 different machine learning algorithms & further optimizing for target class imbalance (having few \"failures\" and many \"no failures\" in dataset) as well as finetuning the algorithm performance (hyperparameter and cross validation techniques)\n",
    "\n",
    "    - A pipeline was additionally built to productionise the final chosen model\n",
    "   \n",
    "   \n",
    "- The model is expected to generalize well in terms of predictions & expected to result in a maintenance cost ~1.26 times minimum possible maintenance cost. Having no model in place for predictions could potentially result in costs as high as ~2.67 minimum possible maintenance cost. Hence, productionising the model has a large cost saving advantage\n",
    "\n",
    "- The main attributes of importance for predicting failures vs. no failures were found to be \"V18\", \"V39\", \"V26\", \"V3\" & \"V10\" in order of decreasing importance. This added knowledge can be used to refine the process of collecting more frequent sensor information to be used in improving the machine learning model to further decrease maintenance costs "
   ]
  }
 ],
 "metadata": {
  "colab": {
   "name": "Learner's_notebook.ipynb",
   "provenance": []
  },
  "kernelspec": {
   "display_name": "Python 3",
   "language": "python",
   "name": "python3"
  },
  "language_info": {
   "codemirror_mode": {
    "name": "ipython",
    "version": 3
   },
   "file_extension": ".py",
   "mimetype": "text/x-python",
   "name": "python",
   "nbconvert_exporter": "python",
   "pygments_lexer": "ipython3",
   "version": "3.8.8"
  }
 },
 "nbformat": 4,
 "nbformat_minor": 1
}
